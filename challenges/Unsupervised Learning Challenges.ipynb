{
 "metadata": {
  "name": "",
  "signature": "sha256:8478d3451b56a86f8653aee52aaabd05f59f72be58a017681d1d9d43bc474297"
 },
 "nbformat": 3,
 "nbformat_minor": 0,
 "worksheets": [
  {
   "cells": [
    {
     "cell_type": "code",
     "collapsed": false,
     "input": [
      "from pymongo import MongoClient\n",
      "import nltk\n",
      "from textblob import TextBlob\n",
      "import numpy as np\n",
      "from sklearn.feature_extraction.text import TfidfVectorizer\n",
      "from sklearn import cluster, datasets\n",
      "import requests\n",
      "from requests_oauthlib import OAuth1\n",
      "import tweepy\n",
      "client = MongoClient()\n",
      "congress = client.dsbc.congress\n",
      "capitolwords = client.dsbc.capitolwords"
     ],
     "language": "python",
     "metadata": {},
     "outputs": [],
     "prompt_number": 518
    },
    {
     "cell_type": "code",
     "collapsed": false,
     "input": [
      "consumer_key = \"u3YQ8gKfXGs7Uc9WcDIo8LZw4\"\n",
      "consumer_secret = \"GDSymPoZGYdIbjJLw1Wgm7GE3p8LnQbqY1LGWPYCMs6rqeemLP\"\n",
      "access_token = \"2828159875-jF5oTVCpmW3AyTMic26GUD6ByS6ZSskTedRepU4\"\n",
      "access_secret = \"2X59xSlGHHlKaVTwmlbLDDnodDqakAuazIHmIRA0xmM0w\"\n",
      "\n",
      "auth = tweepy.OAuthHandler(consumer_key, consumer_secret)\n",
      "auth.set_access_token(access_token, access_secret)\n",
      "api = tweepy.API(auth)\n",
      "\n",
      "congressmen = []\n",
      "for person in api.list_members('cspan','members-of-congress',count=500):\n",
      "    congressmen.append(person.screen_name)"
     ],
     "language": "python",
     "metadata": {},
     "outputs": [],
     "prompt_number": 379
    },
    {
     "cell_type": "code",
     "collapsed": false,
     "input": [
      "tweet_cursor = congress.find({},{'user','text'})\n",
      "tweets = [t['text'] for t in tweet_cursor if t['user'] in congressmen]\n",
      "vectorizer = TfidfVectorizer(stop_words=\"english\", ngram_range=(1,2),max_features=2500)\n",
      "tweet_vectors = vectorizer.fit_transform(tweets)\n",
      "tweet_features = vectorizer.get_feature_names()"
     ],
     "language": "python",
     "metadata": {},
     "outputs": [],
     "prompt_number": 380
    },
    {
     "cell_type": "code",
     "collapsed": false,
     "input": [],
     "language": "python",
     "metadata": {},
     "outputs": [],
     "prompt_number": 359
    },
    {
     "cell_type": "heading",
     "level": 1,
     "metadata": {},
     "source": [
      "Challenge 1"
     ]
    },
    {
     "cell_type": "code",
     "collapsed": false,
     "input": [
      "k_means = cluster.KMeans(n_clusters=8,init='k-means++')\n",
      "k_means.fit(tweet_vectors) "
     ],
     "language": "python",
     "metadata": {},
     "outputs": [
      {
       "metadata": {},
       "output_type": "pyout",
       "prompt_number": 361,
       "text": [
        "KMeans(copy_x=True, init='k-means++', max_iter=300, n_clusters=8, n_init=10,\n",
        "    n_jobs=1, precompute_distances=True, random_state=None, tol=0.0001,\n",
        "    verbose=0)"
       ]
      }
     ],
     "prompt_number": 361
    },
    {
     "cell_type": "code",
     "collapsed": false,
     "input": [
      "test = list(k_means.predict(tweet_vectors))"
     ],
     "language": "python",
     "metadata": {},
     "outputs": [],
     "prompt_number": 362
    },
    {
     "cell_type": "code",
     "collapsed": false,
     "input": [
      "clusters = {}\n",
      "for n in range(8):\n",
      "    l = []\n",
      "    for i in range(len(test)):\n",
      "        if test[i] == n:\n",
      "            t = tweet_vectors[i]\n",
      "            top = [tweet_features[x] for x in t.indices[t.data.argsort()][::-1]] \n",
      "            l.append(top)\n",
      "    clusters[n] = l\n",
      "        "
     ],
     "language": "python",
     "metadata": {},
     "outputs": [],
     "prompt_number": 365
    },
    {
     "cell_type": "code",
     "collapsed": false,
     "input": [
      "tweet_clusters = {}\n",
      "for n in range(8):\n",
      "    l = []\n",
      "    for i in range(len(test)):\n",
      "        if test[i] == n:\n",
      "            t = tweets[i]\n",
      "            #top = [tweet_features[x] for x in t.indices[t.data.argsort()][::-1]] \n",
      "            l.append(t)\n",
      "    tweet_clusters[n] = l\n",
      "        "
     ],
     "language": "python",
     "metadata": {},
     "outputs": [],
     "prompt_number": 363
    },
    {
     "cell_type": "code",
     "collapsed": false,
     "input": [
      "for n in range(8):\n",
      "    print 'Cluster '+str(n)\n",
      "    for twt in tweet_clusters[n][:10]:\n",
      "        print twt\n",
      "        print\n",
      "    print\n",
      "    print"
     ],
     "language": "python",
     "metadata": {},
     "outputs": [
      {
       "output_type": "stream",
       "stream": "stdout",
       "text": [
        "Cluster 0\n",
        "joining @AliceStewart965 right now. Listen live #alicetweet\n",
        "\n",
        "Looking forward to joining @AliceStewart965 live bright and early tomorrow morning at 7:34 am EST\n",
        "\n",
        "RT @RAINN01: #CASact #NotAlone RT @msnbc WATCH LIVE: Senators unveil new campus sexual assault bill - http://t.co/gJFB7VczOF\n",
        "\n",
        "If you\u2019re watching the debate, be sure to follow @TeamFranken2014 for live rapid response. #MNSen\n",
        "\n",
        "Tune in to @theuptake\u2019s live-stream of this morning\u2019s debate at 8AM CST: http://t.co/DbP0A61bVP #MNSen http://t.co/wLPBpSaNm4\n",
        "\n",
        "Don\u2019t live in #MN? No problem! Here\u2019s three ways you can still get involved with #TeamFranken: http://t.co/2tG2yD8yMk\n",
        "\n",
        "\"Sen Inhofe has fought to make our city a great place to live and do business.\" @DeweyBartlett http://t.co/J8ZG2FtRS9 http://t.co/2z2COD8mmq\n",
        "\n",
        "I'll be joining Jonesboro's @KASUradio for an interview in about 10 minutes. Listen live here http://t.co/aJq0Og3MfM\n",
        "\n",
        "I'm getting ready to join @KASUradio for an interview in about 5 minutes. You can listen live. http://t.co/aJq0OglVtU\n",
        "\n",
        "Live in Pike Co.? Visit my staff at Glenwood Snr Ctr tomorrow at 10:30 am for help w/problems you have w/fed agencies http://t.co/RRtRI5Ts0S\n",
        "\n",
        "\n",
        "\n",
        "Cluster 1\n",
        "Take a look at My Week In Pictures http://t.co/v50u87ZJXL\n",
        "\n",
        "L.A.-bound Obama sticking to fundraising\u2026 http://t.co/8YWNj5349o\n",
        "\n",
        "A win for #transparency -&gt; @DaytonDailyNews: Delphi retirees cheer federal ruling http://t.co/trdsCHWU4z\n",
        "\n",
        "Pres. Obama\u2019s lack of leadership is jeopardizing our ability to deal w/ the border crisis http://t.co/xDplB9hzYg\n",
        "\n",
        "When Democrats actually work with us, we can get things done http://t.co/PHjQyZd9qW #4jobs\n",
        "\n",
        "This @GOP graphic says it all. #SenateMustAct http://t.co/MI0zfrcMW4\n",
        "\n",
        "#Hooah! MT @JournalNews: US Armed Forces members kick off 1st Heroes Race @ Crazy Cardboard Regatta in West Chester: http://t.co/fRbaZ7H870\n",
        "\n",
        "Congrats and best wishes to all our #OH08 students headed to the service academies http://t.co/g6vJWJugYa\n",
        "\n",
        "WaPo: Obama aides were warned of brewing border crisis http://t.co/Hj1WItSeHO\n",
        "\n",
        "Sgt. Pitts\u2019 humbling story http://t.co/IXt2QCyNy5 via @CNN #MedalOfHonor\n",
        "\n",
        "\n",
        "\n",
        "Cluster 2\n",
        "RT @ScottRigell: Happy birthday to my beautiful and loving wife, Teri! Thank you for all you do, you rock! http://t.co/lK1eBNP5y1\n",
        "\n",
        "RT @ArkansasWorld: It may surprise you to know that the Tallest waterfall between the Rockies and the Appalachians is in Arkansas.... http:\u2026\n",
        "\n",
        "RT @RLACC_Gov: 540 is becoming I-49. Here's the first sign! http://t.co/U0wDBLeQ3u\n",
        "\n",
        "RT @TimesRecord: . @FtSmithChamber lobbies on Capitol Hill http://t.co/LQx3znTK0Y #FtSmith #FortSmith @RepSteveWomack @RepTomCotton @JohnBo\u2026\n",
        "\n",
        "RT @Jeffery_T_Hall: #FarmBill benefits cattle farmers Thanks @senmarkpryor @JohnBoozman @reprickcrawford @rep_stevewomack @reptimgriffin ht\u2026\n",
        "\n",
        "RT @AMWA_water: Great to hear @JohnBoozman talk WIFIA, tax-exempt muni bonds to start off day 2 of the WPC. http://t.co/teoEcl905e\n",
        "\n",
        "RT @crystalbridges: Yes, @MarthaStewart was here! A Visit To Crystal Bridges Museum Of American Art-The Martha Stewart Blog http://t.co/rzX\u2026\n",
        "\n",
        "RT @TimesRecord: Northside assistant principal Chris Carter tours Capitol Hill, recognized for @The_AAEA honors http://t.co/DYBNFUlwh1 @Gri\u2026\n",
        "\n",
        "RT @AOPA: BREAKING: #FAA announces rulemaking on third class medical. ^BW http://t.co/rWnebjtlQi #genav\n",
        "\n",
        "RT @Bengals: .@Dev_Still71 will be on @TheEllenShow this Friday at 4pm ET! \n",
        "\n",
        "#LetsRoar http://t.co/7ucRg0M11M\n",
        "\n",
        "\n",
        "\n",
        "Cluster 3\n",
        "Fairer phone rates will make it easier for prisoners to stay in touch with their families, which is key to reducing recidivism\n",
        "\n",
        "Many thanks to @newseum for coordination with @buffalohistory museum to bring Russert exhibit home http://t.co/pPG7XcnKEU\n",
        "\n",
        "\u201c@IsmailHaji9: @keithellison I am from Bosaso maybe you should visit one day # Bosaso\u201d love to, God willing\n",
        "\n",
        "Thanks to the @ArkCattlemen for visiting our office. We appreciate hearing the issues important to your industry. http://t.co/R0hmRDx7ju\n",
        "\n",
        "Happy to have the @FtSmithChamber visit our DC office. Read about their visit in the @TimesRecord http://t.co/hNx8xaay1N\n",
        "\n",
        "@ftsmithchamber We're always happy to share the history, architecture and paintings of the Capitol.\n",
        "\n",
        "@nataliedtarte It was an honor to meet you. Thank you for the service and sacrifice of your family.\n",
        "\n",
        "My staff is hosting a mobile office event beginning at 11 am at the @RsvlAreaChamber. Get help with issues you're having w/federal gov't\n",
        "\n",
        "Senate passes bill we helped introduce celebrating 100th ann. of Smith-Lever Act establishing Cooperative Extension System like @UAEX_edu\n",
        "\n",
        "@TingsMom Thanks for your concern. I am signing onto the letter.\n",
        "\n",
        "\n",
        "\n",
        "Cluster 4\n",
        "WH on ObamaCare ruling: Letter of the Law Doesn\u2019t Matter http://t.co/vN4FhsuBEe via @NRO\n",
        "\n",
        "RT @TeamBoehner: Oklahoma man struggles for three months to cancel ObamaCare http://t.co/gLmKFSVp8u via @FreeBeacon\n",
        "\n",
        "More on the administration\u2019s latest #ObamaCare exemptions http://t.co/Qa40m1bcci\n",
        "\n",
        "Hear our discussion with @kffb1061 about Obamacare, energy and our efforts to rein in the executive branch. http://t.co/T6vwf7YcAx\n",
        "\n",
        "Listen to @kffb1061 intvw about \"Top Conservative\" honor from @ACUConservative &amp; problems we hear about #Obamacare http://t.co/eo6mYPpY3c\n",
        "\n",
        "I support legislative fixes to change the #Obamacare definition of full-time to 40 hours per week. http://t.co/9k2uhLc07P\n",
        "\n",
        "Changing point person for a disastrous program won\u2019t help the millions of Americans suffering under #Obamacare More: http://t.co/GAxgkg0xdF\n",
        "\n",
        "Talking about sticker shock of #ObamaCare with @AliceStewart965. The problem we had was unaffordable insurance and that continues to be so.\n",
        "\n",
        "Nonpartisan analysis shows #ObamaCare will raise deficits by $131 billion http://t.co/jzPLf11g4j\n",
        "\n",
        ".@Hotairblog: You can find out your 2015 ObamaCare premiums\u2026 after the election http://t.co/ONhIDvbHd9\n",
        "\n",
        "\n",
        "\n",
        "Cluster 5\n",
        "RT @taxfoundation: Today is #TaxFreedomDay for Georgia and Arkansas http://t.co/3MaFG41hBz\n",
        "\n",
        "@ftsmithchamber is also in DC today. They are here visiting about jobs, economic development &amp; @188thFW http://t.co/uk59xn0yjc\n",
        "\n",
        "American hero from AR, Buddy Spivey, who earned 2 Purple Hearts &amp; 2 Bronze Stars, was interned @ArlingtonNatl today: http://t.co/U9ICIxb1k1\n",
        "\n",
        "Thanks @ASRC4 for meeting with us today and discussing the legislation important to your patients and your profession.\n",
        "\n",
        "RT @LoBiondo2014: Lots of requests for yard signs with final 3 weeks to go. Today's popular item - call us &amp; we deliver 609.837.2764 http:/\u2026\n",
        "\n",
        "Today I remain committed to leading the fight for real reforms #4jobs and a better America\n",
        "\n",
        "Thank you to all who are flying the flag today. We will #NeverForget http://t.co/XQeK7D76q0\n",
        "\n",
        "Couldn't have asked for better weather at today's Butler County #GOP picnic! http://t.co/lEHbbTGud3\n",
        "\n",
        "RT @FrankGuinta: Released our first ad today outlining my positive record of putting you above partisan politics. http://t.co/CBjNeYUlKF\n",
        "\n",
        "RT @BeckyRuby: Solid, bipartisan support for #Israel today. Thank you to our nation\u2019s leaders. #israelsolidarity http://t.co/fdTlrbcr6u\n",
        "\n",
        "\n",
        "\n",
        "Cluster 6\n",
        "HHS Secretary resigns, 2 AR Chambers visit, 70th Anniversary of D-Day Resolution introduced &amp; more in Week in Review http://t.co/nRPGQg79qz\n",
        "\n",
        "@JeffHankins Good to see you &amp; Chancellor Hudson. Thx for the updates on the good things going on at @ArkansasState\n",
        "\n",
        "West Helena sisters Ariel &amp; Dominique presented @Savethechildren Congressional Champion for Children awd #savekids http://t.co/dfe5JmqDlz\n",
        "\n",
        "Proud to join in support of @RoyBlunt's bill that encourages job opportunities for men &amp; women after military service http://t.co/Sw5PZiwYjc\n",
        "\n",
        "Talking  ENFORCE the Law Act \n",
        "&amp; protecting the Constitution &amp; stopping presidential #overreach on our tele-town hall http://t.co/az9N3knhY7\n",
        "\n",
        "RT @KevinYoder: I believe that expanding the size of government limits job growth &amp; these four principles will improve our economy. http://\u2026\n",
        "\n",
        "Early #ff for @JeffGorell, a vet &amp; a problem solver who can win in #CA26\n",
        "\n",
        "RT @RichHudson: Expanding domestic energy production will lower costs, create jobs &amp; transform our economy. \n",
        "http://t.co/zejP2rKc6E http://\u2026\n",
        "\n",
        "Follow @Bobby_Schilling &amp; check out his new ad, \u201cOn this road together\u201d http://t.co/ysqPgjSXXz #FF #IL17\n",
        "\n",
        "Glad to welcome @CoryBooker to bipartisan Senate India Caucus! Stronger relationship w/India makes strategic &amp; economic sense for Va &amp; NJ\n",
        "\n",
        "\n",
        "\n",
        "Cluster 7\n",
        "Help break the logjam. RT to urge Senate Dems to act on dozens of House-passed #jobs bills\n",
        "\n",
        "RT @BiodefenseNews: McCaul Statement on President's Appointment of Ebola Coordinator | The House Committee on Ho... via @HouseHomeland http\u2026\n",
        "\n",
        "We'll meet sisters Ariel and Dominque House on Tues for #savekids Advocacy Summit. @HelenaDaily tells their story http://t.co/TNNApRKhTO\n",
        "\n",
        "Former Defense Secy: I told White House \u2018from the very beginning\u2019 #Benghazi was a terrorist attack http://t.co/t7LGDYhYyp\n",
        "\n",
        "#OnThisDay in 1994, I joined House Republicans in signing A Contract With America.\n",
        "\n",
        "MT @ThisWeekABC: SUNDAY: We go one-on-one with House Speaker @JohnBoehner http://t.co/pOhKfL6ArU\n",
        "\n",
        "My Morning Cup: When I\u2019m home, I stop for coffee @Speedway near my house http://t.co/PiB7pWvXEB\n",
        "\n",
        "RT @ToddYoungIN: OP-ED: Todd and House Republicans are taking action against the inaction of @HarryReid: http://t.co/KAp38P3rtn #4jobs #IN9\n",
        "\n",
        "The Hill: Boehner taps Ariz. House Speaker @Andy_Tobin to deliver GOP address http://t.co/UMVbdqKWdv\n",
        "\n",
        "In the House, we\u2019ve made the American people\u2019s priorities our priorities: #jobs &amp; the economy.  It\u2019s time for the Senate to do the same.\n",
        "\n",
        "\n",
        "\n"
       ]
      }
     ],
     "prompt_number": 364
    },
    {
     "cell_type": "code",
     "collapsed": false,
     "input": [
      "for n in range(8):\n",
      "    print 'Cluster '+str(n)\n",
      "    for twt in clusters[n][:10]:\n",
      "        print twt\n",
      "    print"
     ],
     "language": "python",
     "metadata": {},
     "outputs": [
      {
       "output_type": "stream",
       "stream": "stdout",
       "text": [
        "Cluster 0\n",
        "[u'listen live', u'listen', u'joining', u'right', u'live']\n",
        "[u'forward joining', u'est', u'early', u'looking forward', u'joining', u'looking', u'forward', u'tomorrow', u'morning', u'live']\n",
        "[u'senators', u'campus', u'sexual assault', u'assault', u'sexual', u'msnbc', u'watch live', u'rt', u'live', u'watch', u'new', u'http']\n",
        "[u'watching', u'debate', u'response', u'follow', u'sure', u'live']\n",
        "[u'debate', u'tune', u'morning', u'live', u'http']\n",
        "[u'involved', u'mn', u'ways', u'problem', u'don', u'live', u'http']\n",
        "[u'fought', u'inhofe', u'place', u'city', u'business', u'sen', u'make', u'live', u'great', u'http']\n",
        "[u'listen live', u'minutes', u'interview', u'listen', u'joining', u'live http', u'll', u'10', u'live', u'http']\n",
        "[u'getting ready', u'listen live', u'minutes', u'ready', u'interview', u'getting', u'listen', u'live http', u'join', u'live', u'http']"
       ]
      },
      {
       "output_type": "stream",
       "stream": "stdout",
       "text": [
        "\n",
        "[u'agencies', u'problems', u'fed', u'30', u'staff', u'tomorrow', u'10', u'visit', u'live', u'help', u'http']\n",
        "\n",
        "Cluster 1\n",
        "[u'look', u'week', u'http']\n",
        "[u'obama', u'http']\n",
        "[u'ruling', u'transparency', u'win', u'gt', u'federal', u'http']\n",
        "[u'lack', u'crisis http', u'border crisis', u'pres obama', u'deal', u'pres', u'crisis', u'leadership', u'border', u'obama', u'http']\n",
        "[u'actually', u'things', u'democrats', u'4jobs', u'work', u'http']\n",
        "[u'says', u'gop', u'http']\n",
        "[u'kick', u'race', u'armed', u'forces', u'heroes', u'west', u'1st', u'mt', u'members', u'http']\n",
        "[u'best wishes', u'wishes', u'headed', u'best', u'service', u'congrats', u'students', u'http']\n",
        "[u'crisis http', u'border crisis', u'crisis', u'border', u'obama', u'http']\n",
        "[u'story http', u'sgt', u'cnn', u'story', u'http']\n",
        "\n",
        "Cluster 2\n",
        "[u'rock', u'wife', u'beautiful', u'happy birthday', u'birthday', u'happy', u'thank', u'rt', u'http']\n",
        "[u'know', u'rt', u'http']\n",
        "[u'49', u'sign', u'rt', u'http']\n",
        "[u'capitol hill', u'hill', u'capitol', u'rt', u'http']\n",
        "[u'farmbill', u'farmers', u'ht', u'benefits', u'thanks', u'rt']\n",
        "[u'start', u'hear', u'tax', u'talk', u'day', u'great', u'rt', u'http']\n",
        "[u'blog', u'bridges', u'museum', u'art', u'yes', u'visit', u'american', u'rt', u'http']\n",
        "[u'honors', u'tours', u'capitol hill', u'recognized', u'hill', u'capitol', u'rt', u'http']\n",
        "[u'faa', u'announces', u'breaking', u'medical', u'class', u'rt', u'http']\n",
        "[u'friday', u'et', u'rt', u'http']\n",
        "\n",
        "Cluster 3\n",
        "[u'reducing', u'phone', u'rates', u'key', u'stay', u'make', u'families']\n",
        "[u'museum', u'home http', u'bring', u'home', u'thanks', u'http']\n",
        "[u'keithellison', u'god', u'love', u'visit', u'day']\n",
        "[u'issues important', u'appreciate', u'industry', u'visiting', u'issues', u'important', u'office', u'hearing', u'thanks', u'http']\n",
        "[u'visit', u'dc office', u'dc', u'office', u'read', u'happy', u'http']\n",
        "[u'history', u'share', u'capitol', u'happy']\n",
        "[u'thank service', u'sacrifice', u'meet', u'family', u'service', u'honor', u'thank']\n",
        "[u'beginning', u'mobile office', u'mobile', u'having', u'gov', u'hosting', u'event', u'11', u'issues', u'staff', u'federal', u'office', u'help']\n",
        "[u'extension', u'introduce', u'smith', u'helped', u'passes', u'celebrating', u'like', u'senate', u'act']\n",
        "[u'concern', u'signing', u'letter', u'thanks']\n",
        "\n",
        "Cluster 4\n",
        "[u'matter', u'wh', u'ruling', u'doesn', u'letter', u'law', u'obamacare', u'http']\n",
        "[u'oklahoma', u'months', u'obamacare http', u'man', u'obamacare', u'rt', u'http']\n",
        "[u'administration', u'latest', u'obamacare', u'http']\n",
        "[u'executive', u'discussion', u'efforts', u'hear', u'energy', u'obamacare', u'http']\n",
        "[u'conservative', u'problems', u'obamacare http', u'listen', u'hear', u'honor', u'obamacare', u'amp', u'http']\n",
        "[u'legislative', u'week http', u'40', u'hours', u'change', u'week', u'obamacare', u'support', u'time', u'http']\n",
        "[u'changing', u'millions americans', u'person', u'point', u'obamacare http', u'millions', u'won', u'program', u'americans', u'obamacare', u'help', u'http']\n",
        "[u'problem', u'continues', u'insurance', u'talking', u'obamacare']\n",
        "[u'shows', u'raise', u'billion', u'obamacare', u'http']\n",
        "[u'premiums', u'2015', u'election', u'obamacare', u'http']\n",
        "\n",
        "Cluster 5\n",
        "[u'georgia', u'today', u'rt', u'http']\n",
        "[u'economic development', u'development', u'visiting', u'economic', u'dc', u'jobs', u'today', u'amp', u'http']\n",
        "[u'ar', u'purple', u'hero', u'earned', u'today http', u'american', u'today', u'amp', u'http']\n",
        "[u'meeting today', u'patients', u'discussing', u'legislation', u'important', u'meeting', u'thanks', u'today']\n",
        "[u'signs', u'deliver', u'lots', u'weeks', u'final', u'today', u'amp', u'rt', u'http']\n",
        "[u'committed', u'reforms', u'remain', u'leading', u'real', u'4jobs', u'better', u'fight', u'america', u'today']\n",
        "[u'neverforget http', u'flag', u'neverforget', u'thank', u'today', u'http']\n",
        "[u'couldn', u'weather', u'asked', u'better', u'county', u'gop', u'today', u'http']\n",
        "[u'partisan', u'positive', u'putting', u'released', u'record', u'politics', u'today', u'rt', u'http']\n",
        "[u'bipartisan support', u'israel', u'leaders', u'nation', u'bipartisan', u'thank', u'support', u'today', u'rt', u'http']\n",
        "\n",
        "Cluster 6\n",
        "[u'ar', u'hhs', u'review', u'resolution', u'secretary', u'introduced', u'anniversary', u'visit', u'week', u'day', u'amp', u'http']\n",
        "[u'good', u'updates', u'things', u'going', u'thx', u'amp']\n",
        "[u'presented', u'champion', u'west', u'children', u'congressional', u'amp', u'http']\n",
        "[u'men amp', u'service http', u'proud join', u'amp women', u'opportunities', u'men', u'military', u'job', u'service', u'join', u'proud', u'women', u'support', u'amp', u'http']\n",
        "[u'act amp', u'enforce', u'overreach', u'stopping', u'protecting', u'constitution', u'town hall', u'talking', u'town', u'amp', u'hall', u'law', u'act', u'http']\n",
        "[u'job growth', u'expanding', u'economy http', u'believe', u'improve', u'growth', u'government', u'job', u'economy', u'amp', u'rt', u'http']\n",
        "[u'vet', u'ca26', u'ff', u'early', u'problem', u'win', u'amp']\n",
        "[u'production', u'expanding', u'jobs amp', u'economy http', u'lower', u'domestic', u'create jobs', u'costs', u'create', u'energy', u'economy', u'jobs', u'amp', u'http', u'rt']\n",
        "[u'road', u'ff', u'follow', u'check', u'new', u'amp', u'http']\n",
        "[u'india', u'corybooker', u'stronger', u'sense', u'nj', u'makes', u'caucus', u'welcome', u'economic', u'glad', u'amp', u'bipartisan', u'va', u'senate']\n",
        "\n",
        "Cluster 7\n",
        "[u'break', u'passed jobs', u'jobs bills', u'urge', u'dems', u'house passed', u'bills', u'passed', u'senate', u'help', u'jobs', u'act', u'house', u'rt']\n",
        "[u'househomeland', u'mccaul', u'committee', u'ebola', u'statement', u'president', u'house', u'rt', u'http']\n",
        "[u'advocacy', u'tells', u'story http', u'summit', u'story', u'meet', u'll', u'house', u'http']\n",
        "[u'beginning', u'told', u'terrorist', u'attack', u'white house', u'defense', u'white', u'benghazi', u'house', u'http']\n",
        "[u'onthisday', u'house republicans', u'signing', u'republicans', u'joined', u'america', u'house']\n",
        "[u'speaker', u'sunday', u'mt', u'house', u'http']\n",
        "[u'house http', u'near', u'coffee', u'home', u'stop', u'morning', u'house', u'http']\n",
        "[u'house republicans', u'4jobs', u'republicans', u'taking', u'op ed', u'op', u'ed', u'action', u'house', u'rt', u'http']\n",
        "[u'boehner', u'deliver', u'speaker', u'hill', u'address', u'gop', u'house', u'http']\n",
        "[u'priorities', u'american people', u'jobs amp', u've', u'people', u'economy', u'american', u'senate', u'jobs', u'time', u'house', u'amp']\n",
        "\n"
       ]
      }
     ],
     "prompt_number": 366
    },
    {
     "cell_type": "heading",
     "level": 1,
     "metadata": {},
     "source": [
      "Challenge 2"
     ]
    },
    {
     "cell_type": "code",
     "collapsed": false,
     "input": [
      "inertias = []\n",
      "for n in range(1,11):\n",
      "    k_means_model = cluster.KMeans(n_clusters=n,init='k-means++')\n",
      "    k_means_model.fit(tweet_vectors)\n",
      "    inertias.append(k_means_model.inertia_)"
     ],
     "language": "python",
     "metadata": {},
     "outputs": [],
     "prompt_number": 209
    },
    {
     "cell_type": "code",
     "collapsed": false,
     "input": [
      "import matplotlib.pyplot as plt\n",
      "import seaborn as sns\n",
      "%matplotlib inline\n",
      "x = range(1,11)\n",
      "y = inertias\n",
      "plt.plot(x,y)\n",
      "plt.xlabel('K')\n",
      "plt.ylabel('Inertia')"
     ],
     "language": "python",
     "metadata": {},
     "outputs": [
      {
       "metadata": {},
       "output_type": "pyout",
       "prompt_number": 219,
       "text": [
        "<matplotlib.text.Text at 0x108b5ea10>"
       ]
      },
      {
       "metadata": {},
       "output_type": "display_data",
       "png": "[encoded data removed]",
       "text": [
        "<matplotlib.figure.Figure at 0x10cc160d0>"
       ]
      }
     ],
     "prompt_number": 219
    },
    {
     "cell_type": "heading",
     "level": 1,
     "metadata": {},
     "source": [
      "Challenge 3"
     ]
    },
    {
     "cell_type": "code",
     "collapsed": false,
     "input": [
      "from sklearn.metrics import pairwise_distances\n",
      "\n",
      "tweet_centroids = {}\n",
      "for n in range(8):\n",
      "    centroid = k_means.cluster_centers_[n]\n",
      "    tweet = ''\n",
      "    min_dist = 1\n",
      "    for i in range(len(test)):\n",
      "        if test[i] == n:\n",
      "            vec = tweet_vectors[i].toarray()[0]\n",
      "            if pairwise_distances(centroid, vec) < min_dist:\n",
      "                tweet = tweets[i]\n",
      "                min_dist = pairwise_distances(centroid, vec)\n",
      "    tweet_centroids[n] = tweet"
     ],
     "language": "python",
     "metadata": {},
     "outputs": [],
     "prompt_number": 367
    },
    {
     "cell_type": "code",
     "collapsed": false,
     "input": [
      "tweet_centroids"
     ],
     "language": "python",
     "metadata": {},
     "outputs": [
      {
       "metadata": {},
       "output_type": "pyout",
       "prompt_number": 368,
       "text": [
        "{0: u'The hearing has reconvened. Watch live here: http://t.co/FZPeVJRsu4',\n",
        " 1: u'Another 4 X 8 up in #ButlerCounty #OH08 http://t.co/6B1dadM3TC',\n",
        " 2: u'RT @IsraelSW: RT @randyneugebauer: I #StandWithIsrael.  How about you? http://t.co/i1cDaf2470',\n",
        " 3: u'@speechboy71',\n",
        " 4: u'Upholding ObamaCare\\u2014as Written http://t.co/pk4ItsdLW0',\n",
        " 5: u'Today kicks off #HispanicHeritageMonth! http://t.co/oQOq7XbXt6',\n",
        " 6: u'#FreedomSunday @ #FirstAME &amp; #SecondBaptist #GOTV http://t.co/nT6FpiQmlD',\n",
        " 7: u'Packed house at HQ with @DickDurbin, @Paulvallas, @MikeforIllinois, @repalriley @il29cand http://t.co/MVCU6SyCsy'}"
       ]
      }
     ],
     "prompt_number": 368
    },
    {
     "cell_type": "heading",
     "level": 1,
     "metadata": {},
     "source": [
      "Challenge 4"
     ]
    },
    {
     "cell_type": "code",
     "collapsed": false,
     "input": [
      "cluster_full_text = {}\n",
      "for n in range(8):\n",
      "    s = ''\n",
      "    for i in range(len(test)):\n",
      "        if test[i] == n:\n",
      "            s = s + ' ' + tweets[i]\n",
      "    cluster_full_text[n] = s"
     ],
     "language": "python",
     "metadata": {},
     "outputs": [],
     "prompt_number": 369
    },
    {
     "cell_type": "code",
     "collapsed": false,
     "input": [
      "cluster_full = [cluster_full_text[i] for i in range(8)]"
     ],
     "language": "python",
     "metadata": {},
     "outputs": [],
     "prompt_number": 370
    },
    {
     "cell_type": "code",
     "collapsed": false,
     "input": [
      "cluster_vectorizer = TfidfVectorizer(stop_words=\"english\", ngram_range=(1,1),max_features=2500)\n",
      "cluster_vectors = cluster_vectorizer.fit_transform(cluster_full)\n",
      "cluster_features = cluster_vectorizer.get_feature_names()"
     ],
     "language": "python",
     "metadata": {},
     "outputs": [],
     "prompt_number": 375
    },
    {
     "cell_type": "code",
     "collapsed": false,
     "input": [
      "for cluster in cluster_vectors:\n",
      "    top = [cluster_features[x] for x in cluster.indices[cluster.data.argsort()][:-6:-1]]\n",
      "    print top"
     ],
     "language": "python",
     "metadata": {},
     "outputs": [
      {
       "output_type": "stream",
       "stream": "stdout",
       "text": [
        "[u'live', u'http', u'watch', u'hearing', u'rt']\n",
        "[u'http', u'new', u'read', u'obama', u'president']\n",
        "[u'rt', u'http', u'thanks', u'thank', u'support']\n",
        "[u'http', u'great', u'thanks', u'happy', u'day']\n",
        "[u'obamacare', u'http', u'health', u'care', u'rt']\n",
        "[u'today', u'http', u'rt', u'amp', u'great']\n",
        "[u'amp', u'http', u'rt', u'great', u'jobs']\n",
        "[u'house', u'http', u'rt', u'passed', u'today']\n"
       ]
      }
     ],
     "prompt_number": 376
    },
    {
     "cell_type": "code",
     "collapsed": false,
     "input": [],
     "language": "python",
     "metadata": {},
     "outputs": [],
     "prompt_number": 319
    },
    {
     "cell_type": "heading",
     "level": 1,
     "metadata": {},
     "source": [
      "Challenge 5"
     ]
    },
    {
     "cell_type": "code",
     "collapsed": false,
     "input": [
      "for cluster in cluster_vectors:\n",
      "    \n",
      "    all_nn = [cluster_features[x] for x in cluster.indices[cluster.data.argsort()][::-1] if TextBlob(cluster_features[x]).tags[0][1] == 'NN']\n",
      "    top_nn = [x for x in all_nn[:6]]\n",
      "    print top_nn\n",
      "    print"
     ],
     "language": "python",
     "metadata": {},
     "outputs": [
      {
       "output_type": "stream",
       "stream": "stdout",
       "text": [
        "[u'http', u'hearing', u'rt', u'amp', u'tune', u'today']\n",
        "\n",
        "[u'http', u'obama', u'president', u'act', u'need', u'statement']"
       ]
      },
      {
       "output_type": "stream",
       "stream": "stdout",
       "text": [
        "\n",
        "\n",
        "[u'rt', u'http', u'support', u'act', u'time', u'rep']"
       ]
      },
      {
       "output_type": "stream",
       "stream": "stdout",
       "text": [
        "\n",
        "\n",
        "[u'http', u'day', u'time', u'work', u'act', u'morning']"
       ]
      },
      {
       "output_type": "stream",
       "stream": "stdout",
       "text": [
        "\n",
        "\n",
        "[u'obamacare', u'http', u'health', u'care', u'rt', u'amp']"
       ]
      },
      {
       "output_type": "stream",
       "stream": "stdout",
       "text": [
        "\n",
        "\n",
        "[u'today', u'http', u'rt', u'amp', u'day', u'hearing']"
       ]
      },
      {
       "output_type": "stream",
       "stream": "stdout",
       "text": [
        "\n",
        "\n",
        "[u'amp', u'http', u'rt', u'work', u'act', u'support']"
       ]
      },
      {
       "output_type": "stream",
       "stream": "stdout",
       "text": [
        "\n",
        "\n",
        "[u'house', u'http', u'rt', u'today', u'amp', u'senate']"
       ]
      },
      {
       "output_type": "stream",
       "stream": "stdout",
       "text": [
        "\n",
        "\n"
       ]
      }
     ],
     "prompt_number": 515
    },
    {
     "cell_type": "heading",
     "level": 1,
     "metadata": {},
     "source": [
      "Challenge 6"
     ]
    },
    {
     "cell_type": "code",
     "collapsed": false,
     "input": [
      "minib_k_means = cluster.MiniBatchKMeans(n_clusters=8,init='k-means++')\n",
      "minib_k_means.fit(tweet_vectors) "
     ],
     "language": "python",
     "metadata": {},
     "outputs": [
      {
       "metadata": {},
       "output_type": "pyout",
       "prompt_number": 381,
       "text": [
        "MiniBatchKMeans(batch_size=100, compute_labels=True, init='k-means++',\n",
        "        init_size=None, max_iter=100, max_no_improvement=10, n_clusters=8,\n",
        "        n_init=3, random_state=None, reassignment_ratio=0.01, tol=0.0,\n",
        "        verbose=0)"
       ]
      }
     ],
     "prompt_number": 381
    },
    {
     "cell_type": "code",
     "collapsed": false,
     "input": [
      "mini_b_inertias = []\n",
      "for n in range(1,11):\n",
      "    mini_k_means_model = cluster.MiniBatchKMeans(n_clusters=n,init='k-means++')\n",
      "    mini_k_means_model.fit(tweet_vectors)\n",
      "    mini_b_inertias.append(mini_k_means_model.inertia_)"
     ],
     "language": "python",
     "metadata": {},
     "outputs": [],
     "prompt_number": 519
    },
    {
     "cell_type": "code",
     "collapsed": false,
     "input": [
      "x_mb = range(1,11)\n",
      "y_mb = mini_b_inertias\n",
      "plt.plot(x_mb,y_mb)\n",
      "plt.xlabel('K')\n",
      "plt.ylabel('Inertia')"
     ],
     "language": "python",
     "metadata": {},
     "outputs": [
      {
       "metadata": {},
       "output_type": "pyout",
       "prompt_number": 520,
       "text": [
        "<matplotlib.text.Text at 0x1176b9610>"
       ]
      },
      {
       "metadata": {},
       "output_type": "display_data",
       "png": "[encoded data removed]",
       "text": [
        "<matplotlib.figure.Figure at 0x107c33210>"
       ]
      }
     ],
     "prompt_number": 520
    },
    {
     "cell_type": "code",
     "collapsed": true,
     "input": [
      "minib_predict = minib_k_means.predict(tweet_vectors)"
     ],
     "language": "python",
     "metadata": {},
     "outputs": [],
     "prompt_number": 382
    },
    {
     "cell_type": "code",
     "collapsed": false,
     "input": [
      "minib_tweet_clusters = {}\n",
      "for n in range(8):\n",
      "    l = []\n",
      "    for i in range(len(minib_predict)):\n",
      "        if minib_predict[i] == n:\n",
      "            t = tweets[i]\n",
      "            #top = [tweet_features[x] for x in t.indices[t.data.argsort()][::-1]] \n",
      "            l.append(t)\n",
      "    minib_tweet_clusters[n] = l\n",
      "        "
     ],
     "language": "python",
     "metadata": {},
     "outputs": [],
     "prompt_number": 384
    },
    {
     "cell_type": "code",
     "collapsed": false,
     "input": [
      "for n in range(8):\n",
      "    print 'Cluster '+str(n)\n",
      "    for twt in minib_tweet_clusters[n][:10]:\n",
      "        print twt\n",
      "        print\n",
      "    print\n",
      "    print"
     ],
     "language": "python",
     "metadata": {},
     "outputs": [
      {
       "output_type": "stream",
       "stream": "stdout",
       "text": [
        "Cluster 0\n",
        "Tomorrow is Super Saturday in #OH08 - can you chip in? Give us a call @ 513-779-8435. #GreenWave\n",
        "\n",
        "Everyone involved in #Ebola response needs procedures in place to determine where breakdowns in protection/prevention could occur\n",
        "\n",
        "America must continue to stand w/ our ally, Israel \u2013 facing hundreds of rockets from Hamas #terrorism\n",
        "\n",
        "@DEdixons That\u2019s right. I\u2019m not saying precautions aren\u2019t prudent, but we have to put out the fire at its source to truly protect ourselves.\n",
        "\n",
        "@GeoffReinhardt Nice timing!\n",
        "\n",
        "In a free and diverse society, we respect the #ReligiousFreedom of all to live out their faith. @HobbyLobbyCase\n",
        "\n",
        "For me, no amnesty means no amnesty. Broad amnesty. Narrow amnesty. Doesn't matter. Entry into this country is a privilege, not a right.\n",
        "\n",
        "\u201cIn the 21st Century the only place for a story like Joan\u2019s should be on TV\u201d Mad Men's Christina Hendricks at WH #workingfamiliessummit\n",
        "\n",
        "@chrisFnicholson the bottom of Europa's oceans will look like the teeming life forms at deepocean volcanicvents on Earth at plate boundaries\n",
        "\n",
        "@anths common sense tells you do not spend money you do not have - it's not complicated\n",
        "\n",
        "\n",
        "\n",
        "Cluster 1\n",
        "@TingsMom Thanks for your concern. I am signing onto the letter.\n",
        "\n",
        "POTUS's refusal to enforce immigration laws has led to a situation that's decidedly inhumane - increase in smuggling of kids across border\n",
        "\n",
        "I'm at Dept of Justice for the unveiling of the #USMarshalsCoins. This is big for @marshalsmuseum in @FtSmithARK\n",
        "\n",
        "It's #NationalCatfishDay. Around 11,000 acres are devoted to catfish production in Arkansas.\n",
        "\n",
        "Pleased to announce that the FAA has awarded $541,250 to Michigan City Municipal Airport and $2,152,842 to Porter County Regional Airport.\n",
        "\n",
        "Heading to Bridgeville for Apple Scrapple! #netde\n",
        "\n",
        "@Anniewalker17 And you didn\u2019t come by to say hello?!\n",
        "\n",
        "@RepSinema Thanks, Kyrsten!\n",
        "\n",
        "@PubliusTX yes of course I do. Always have.\n",
        "\n",
        "@repjustinamash thanks Justin - I am always suspicious and expect malware\n",
        "\n",
        "\n",
        "\n",
        "Cluster 2\n",
        "Fairer phone rates will make it easier for prisoners to stay in touch with their families, which is key to reducing recidivism\n",
        "\n",
        "Take a look at My Week In Pictures http://t.co/v50u87ZJXL\n",
        "\n",
        "L.A.-bound Obama sticking to fundraising\u2026 http://t.co/8YWNj5349o\n",
        "\n",
        "Help break the logjam. RT to urge Senate Dems to act on dozens of House-passed #jobs bills\n",
        "\n",
        "A win for #transparency -&gt; @DaytonDailyNews: Delphi retirees cheer federal ruling http://t.co/trdsCHWU4z\n",
        "\n",
        "WH on ObamaCare ruling: Letter of the Law Doesn\u2019t Matter http://t.co/vN4FhsuBEe via @NRO\n",
        "\n",
        "Pres. Obama\u2019s lack of leadership is jeopardizing our ability to deal w/ the border crisis http://t.co/xDplB9hzYg\n",
        "\n",
        "When Democrats actually work with us, we can get things done http://t.co/PHjQyZd9qW #4jobs\n",
        "\n",
        "This @GOP graphic says it all. #SenateMustAct http://t.co/MI0zfrcMW4\n",
        "\n",
        "#Hooah! MT @JournalNews: US Armed Forces members kick off 1st Heroes Race @ Crazy Cardboard Regatta in West Chester: http://t.co/fRbaZ7H870\n",
        "\n",
        "\n",
        "\n",
        "Cluster 3\n",
        "@shiracenter \u201cThey\u2019re Coming For You!\u201d\n",
        "\n",
        "California is making progress. Between 2008-2011, carbon emissions from the power sector in California decreased by 30%. #ActOnClimate\n",
        "\n",
        "POTUS has believed from the beginning of his admin. that leading from behind allows the world to be a safer place. It's simply not true.\n",
        "\n",
        "WH criticizes #Israel for civilian casualties. Ignores the fact Hamas uses civilians as human shields,hides rockets/tunnels in UN facilities\n",
        "\n",
        "\u201c@michaelroston: @RepCohen @jmartNYT isn\u2019t that what private jets are for?\u201d That's ok for the rich Steve Cohen; not 4 the 99%!occupy airport\n",
        "\n",
        "\u201c@TigersMedia: Carleton hits another trey before halftime buzzer. Carleton leads at half 55-29. #gotigersgo\u201d not pretty but wake up call !\n",
        "\n",
        "@jill_zink Oh jeez, that\u2019s a really embarrassing typo.\n",
        "\n",
        "#HobbyLobby ruling awful. Whether a woman uses birth control should be up to her, not her employer #corporationsarentpeople #mepolitics\n",
        "\n",
        "I love bacon too, @brucebraley, but the lobster roll is 2nd tier to no other food! #tasteofamerica #itson\n",
        "\n",
        "@BrianDunn1- ok so if you had an overspending problem you would solve it by borrowing more money?\n",
        "\n",
        "\n",
        "\n",
        "Cluster 4\n",
        "The world must condemn this escalation and demand its cessation. (2/2)\n",
        "\n",
        "I testified before the ITC, stating that there is no higher priority for our domestic steel industry than the enforcement of our trade laws.\n",
        "\n",
        "\u201c@michaelroston: @RepCohen @jmartNYT there\u2019s a lot of occupying of airports, but usually not by choice :-\\\u201dconspiracy with terminal vendors?\n",
        "\n",
        "The DoD should also be building field hospitals for the treatment of this infected with Ebola, and providing airlift for private donations.\n",
        "\n",
        "The Administration\u2019s failure to devise a strategy for the Middle East shouldnt detract from the incredible bravery of our servicemembers\n",
        "\n",
        "@chrisFnicholson Ty - I agree w my hero Thomas Jefferson who said, \"Liberty is the first born of science.\"\n",
        "\n",
        "@DanaDelany I have always admired u, reaffirmed by how active u r here - what app do u use to sort tweets? The volume is overwhelming\n",
        "\n",
        "@speechboy71 that's next stand by\n",
        "\n",
        "Democracy and freedom are worth the sacrifice.  America stands with you. #HongKong #OccupyCentral\n",
        "\n",
        "@DanaLitman, point is, there's no \"free market\" in prescription drug market.\n",
        "\n",
        "\n",
        "\n",
        "Cluster 5\n",
        "RT @JeffcoEDC: Thanks to everyone for attending today! #JCEDCAL2014 http://t.co/lS29gom0sW\n",
        "\n",
        "RT @IsraelinNewYork: A big \"tanks\" for Congressmen @RepPeteKing @RepSteveIsrael for attending today's dedication ceremony http://t.co/Fu1Ga\u2026\n",
        "\n",
        "Was an honor! MT @IsraelinNewYork: big \"tanks\" 4 @RepPeteKing @RepSteveIsrael 4 attending today's dedication ceremony http://t.co/cJ5fGNgg35\n",
        "\n",
        "Great @US_FDA Lab dedication ceremony today with @StenyHoyer, @ChrisVanHollen, Commr Hamburg, @DanGSA, @CoUnTy_ExEc. http://t.co/xv2PeyxZUh\n",
        "\n",
        "\n",
        "\n",
        "Cluster 6\n",
        "Denying entry to US, or requiring a period of quarantine prior to entry, to anyone from an #Ebola affected country ought to be on the table\n",
        "\n",
        "June is #NationalDairyMonth. Arkansas produces more than 17 million gallons of milk annually.\n",
        "\n",
        "As a person of faith, I reject the idea that religious freedom should be used as a tool for discrimination in our society. #FixHobbyLobby\n",
        "\n",
        "I commend MI Gov @onetoughnerd for his emergency dredging strategy. The economics tied to dredging MI waterways cannot be overstated\n",
        "\n",
        "Calling for immediate appointment of independent special counsel + independent computer forensics investigators to the #IRS investigation\n",
        "\n",
        "@nomadsheart I voted for Iraq and Afghanistan\n",
        "\n",
        "@repjustinamash she has zero followers and is from Kazakstan - ouch\n",
        "\n",
        "I\u2019m very pleased the Charleston Harbor port deepening feasibility study is nearing completion. #CHS52 #CHSNEWS\n",
        "\n",
        "What she described as mistakes were major security breaches. #SecretService\n",
        "\n",
        "Average cost of some goods increased, but the purchasing power of the minimum wage dropped. Here\u2019s what #RaiseTheWage means in emojis.\n",
        "\n",
        "\n",
        "\n",
        "Cluster 7\n",
        "RT @ScottRigell: Happy birthday to my beautiful and loving wife, Teri! Thank you for all you do, you rock! http://t.co/lK1eBNP5y1\n",
        "\n",
        "@ftsmithchamber We're always happy to share the history, architecture and paintings of the Capitol.\n",
        "\n",
        "@nataliedtarte It was an honor to meet you. Thank you for the service and sacrifice of your family.\n",
        "\n",
        "@SavetheChildren thank you for this honor.\n",
        "\n",
        "@nc_chadwick We're happy to have you as part of our team this summer.\n",
        "\n",
        "RT @USNavy: Happy #239NavyBday, and thank you to those who support us!\n",
        "\n",
        "Retweet to celebrate!\n",
        "\n",
        "MT @ChadPergram: Boehner: #Israel is our friend and Israel's enemies are our enemies. As long as I am Speaker, this will be our cause.\n",
        "\n",
        "Wishing the Virginia Muslim community a blessed and very happy Eid al-Fitr celebration!\n",
        "\n",
        "hanks for your retweet, @doughty_jeff. Think you can get 5 friends to follow me to support securing the border?\n",
        "\n",
        "Thank you for your retweet, @marklellis.\n",
        "\n",
        "\n",
        "\n"
       ]
      }
     ],
     "prompt_number": 385
    },
    {
     "cell_type": "heading",
     "level": 1,
     "metadata": {},
     "source": [
      "Challenge 7"
     ]
    },
    {
     "cell_type": "code",
     "collapsed": false,
     "input": [
      "n_init_curves = []\n",
      "for i in [1,2,3,10]:\n",
      "    random_inertias = []\n",
      "    for n in range(1,11):\n",
      "        k_means_rand = cluster.MiniBatchKMeans(n_clusters=n,init='random',n_init=i)\n",
      "        k_means_rand.fit(tweet_vectors)\n",
      "        random_inertias.append(k_means_rand.inertia_)\n",
      "    n_init_curves.append(random_inertias)"
     ],
     "language": "python",
     "metadata": {},
     "outputs": [],
     "prompt_number": 401
    },
    {
     "cell_type": "code",
     "collapsed": false,
     "input": [
      "plt.figure(figsize=(10, 7.5))\n",
      "x = range(1,11)\n",
      "for i in range(len(n_init_curves)):\n",
      "    legend = ['n_init_1','n_init_2','n_init_3','n_init_10']\n",
      "    plt.plot(x,n_init_curves[i],label=legend[i])\n",
      "plt.xlabel('K')\n",
      "plt.ylabel('Inertia')\n",
      "plt.legend(bbox_to_anchor=(1.05, 1), loc=2, borderaxespad=0.)"
     ],
     "language": "python",
     "metadata": {},
     "outputs": [
      {
       "metadata": {},
       "output_type": "pyout",
       "prompt_number": 415,
       "text": [
        "<matplotlib.legend.Legend at 0x8e5a7ec1d0>"
       ]
      },
      {
       "metadata": {},
       "output_type": "display_data",
       "png": "[encoded data removed]",
       "text": [
        "<matplotlib.figure.Figure at 0x8e5a7ec190>"
       ]
      }
     ],
     "prompt_number": 415
    },
    {
     "cell_type": "heading",
     "level": 1,
     "metadata": {},
     "source": [
      "Challenge 8"
     ]
    },
    {
     "cell_type": "code",
     "collapsed": false,
     "input": [
      "import csv\n",
      "from sklearn import preprocessing\n",
      "headings = []\n",
      "customers = []\n",
      "with open('Wholesale customers data.csv', 'rb') as csvfile:\n",
      "     c = csv.reader(csvfile, delimiter=' ', quotechar='|')\n",
      "     for row in c:\n",
      "        customers.append(row)\n",
      "headings = customers.pop(0)\n",
      "headings = headings[0].split(',')"
     ],
     "language": "python",
     "metadata": {},
     "outputs": [],
     "prompt_number": 501
    },
    {
     "cell_type": "code",
     "collapsed": false,
     "input": [
      "def process(lst):\n",
      "    return [float(x) for x in lst[0].split(',')]"
     ],
     "language": "python",
     "metadata": {},
     "outputs": [],
     "prompt_number": 502
    },
    {
     "cell_type": "code",
     "collapsed": false,
     "input": [
      "customers = map(process,customers)"
     ],
     "language": "python",
     "metadata": {},
     "outputs": [],
     "prompt_number": 503
    },
    {
     "cell_type": "code",
     "collapsed": false,
     "input": [
      "customers_scaled = preprocessing.scale(customers)"
     ],
     "language": "python",
     "metadata": {},
     "outputs": [],
     "prompt_number": 504
    },
    {
     "cell_type": "code",
     "collapsed": false,
     "input": [
      "for k in range(1,11):\n",
      "    print k\n",
      "    cust_k_means = cluster.MiniBatchKMeans(n_clusters=k,init='k-means++')\n",
      "    cust_k_means.fit(customers_scaled)\n",
      "    print cust_k_means.inertia_"
     ],
     "language": "python",
     "metadata": {},
     "outputs": [
      {
       "output_type": "stream",
       "stream": "stdout",
       "text": [
        "1\n",
        "3523.10511625\n",
        "2\n",
        "2611.21056107\n",
        "3\n",
        "2338.85124731"
       ]
      },
      {
       "output_type": "stream",
       "stream": "stdout",
       "text": [
        "\n",
        "4\n",
        "1897.77420852"
       ]
      },
      {
       "output_type": "stream",
       "stream": "stdout",
       "text": [
        "\n",
        "5\n",
        "1713.40500831"
       ]
      },
      {
       "output_type": "stream",
       "stream": "stdout",
       "text": [
        "\n",
        "6\n",
        "1399.93391723"
       ]
      },
      {
       "output_type": "stream",
       "stream": "stdout",
       "text": [
        "\n",
        "7\n",
        "1480.03454422"
       ]
      },
      {
       "output_type": "stream",
       "stream": "stdout",
       "text": [
        "\n",
        "8\n",
        "1397.68979427"
       ]
      },
      {
       "output_type": "stream",
       "stream": "stdout",
       "text": [
        "\n",
        "9\n",
        "1090.75810983"
       ]
      },
      {
       "output_type": "stream",
       "stream": "stdout",
       "text": [
        "\n",
        "10\n",
        "1016.32530489"
       ]
      },
      {
       "output_type": "stream",
       "stream": "stdout",
       "text": [
        "\n"
       ]
      }
     ],
     "prompt_number": 505
    },
    {
     "cell_type": "code",
     "collapsed": false,
     "input": [
      "clust_num = 4\n",
      "customer_k_means= cluster.MiniBatchKMeans(n_clusters=clust_num,init='k-means++')\n",
      "customer_k_means.fit(customers_scaled)"
     ],
     "language": "python",
     "metadata": {},
     "outputs": [
      {
       "metadata": {},
       "output_type": "pyout",
       "prompt_number": 506,
       "text": [
        "MiniBatchKMeans(batch_size=100, compute_labels=True, init='k-means++',\n",
        "        init_size=None, max_iter=100, max_no_improvement=10, n_clusters=4,\n",
        "        n_init=3, random_state=None, reassignment_ratio=0.01, tol=0.0,\n",
        "        verbose=0)"
       ]
      }
     ],
     "prompt_number": 506
    },
    {
     "cell_type": "code",
     "collapsed": false,
     "input": [
      "customer_predict = customer_k_means.predict(customers_scaled)"
     ],
     "language": "python",
     "metadata": {},
     "outputs": [],
     "prompt_number": 507
    },
    {
     "cell_type": "code",
     "collapsed": false,
     "input": [
      "customer_clusters = {}\n",
      "for n in range(clust_num):\n",
      "    l = []\n",
      "    for i in range(len(customer_predict)):\n",
      "        if customer_predict[i] == n:\n",
      "            l.append(customers_scaled[i])\n",
      "    customer_clusters[n] = l\n",
      "    "
     ],
     "language": "python",
     "metadata": {},
     "outputs": [],
     "prompt_number": 511
    },
    {
     "cell_type": "code",
     "collapsed": false,
     "input": [
      "counter = 0\n",
      "plt.figure(figsize=[20,20])\n",
      "for n in range(clust_num):\n",
      "    for i in range(len(headings)):\n",
      "        array = [x[i] for x in customer_clusters[n]]\n",
      "        plt.subplot(clust_num, len(headings), counter)\n",
      "        bins = [-2,-1.5,-1,-.5,0,.5,1,1.5,2]\n",
      "        plt.hist(array, bins)\n",
      "        plt.title(headings[i])\n",
      "        counter+=1"
     ],
     "language": "python",
     "metadata": {},
     "outputs": [
      {
       "metadata": {},
       "output_type": "display_data",
       "png": "[encoded data removed]",
       "text": [
        "<matplotlib.figure.Figure at 0x108ac7ed0>"
       ]
      }
     ],
     "prompt_number": 514
    },
    {
     "cell_type": "code",
     "collapsed": false,
     "input": [],
     "language": "python",
     "metadata": {},
     "outputs": [],
     "prompt_number": 512
    }
   ],
   "metadata": {}
  }
 ]
}