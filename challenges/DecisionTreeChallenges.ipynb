{
 "metadata": {
  "name": "",
  "signature": "sha256:4f745fc94cb3589f08d211200498901d71dc63be1f4c13cd6d3ad7655b097ca4"
 },
 "nbformat": 3,
 "nbformat_minor": 0,
 "worksheets": [
  {
   "cells": [
    {
     "cell_type": "code",
     "collapsed": false,
     "input": [
      "import numpy as np\n",
      "import csv\n",
      "import matplotlib.pyplot as plt\n",
      "import pandas as pd\n",
      "%matplotlib inline\n",
      "from sklearn.linear_model import LogisticRegression\n",
      "from sklearn.neighbors import KNeighborsClassifier\n",
      "from sklearn.metrics import roc_curve, auc, accuracy_score, precision_score, f1_score, recall_score, classification_report\n",
      "from sklearn.naive_bayes import GaussianNB\n",
      "from sklearn.svm import SVC\n",
      "from sklearn.tree import DecisionTreeClassifier\n",
      "from sklearn.ensemble import RandomForestClassifier\n",
      "from sklearn.cross_validation import cross_val_score, train_test_split"
     ],
     "language": "python",
     "metadata": {},
     "outputs": [],
     "prompt_number": 269
    },
    {
     "cell_type": "code",
     "collapsed": false,
     "input": [
      "votes= []\n",
      "\n",
      "with open('house-votes-84.data', 'rb') as csvfile:\n",
      "    csvvotes = csv.reader(csvfile, delimiter=' ', quotechar='|')\n",
      "    for row in csvvotes:\n",
      "        votes_dict = {}\n",
      "        r = row[0].split(\",\")\n",
      "        for i in range(1,18):\n",
      "            votes_dict[i] = r[i-1]\n",
      "        votes.append(votes_dict)"
     ],
     "language": "python",
     "metadata": {},
     "outputs": [],
     "prompt_number": 2
    },
    {
     "cell_type": "code",
     "collapsed": false,
     "input": [
      "df = pd.DataFrame(votes)\n",
      "\n",
      "for i in range(1,17):\n",
      "    df[i+1] = df[i+1].map({'y': 1, 'n': 0, '?':None})\n",
      "    vote_prob = df[i+1].mean()\n",
      "    df[i+1].fillna(vote_prob, inplace=True)\n",
      "    \n",
      "#df[1] = df[1].map({'republican': 0, 'democrat': 1})\n",
      "\n",
      "df.head(3)"
     ],
     "language": "python",
     "metadata": {},
     "outputs": [
      {
       "html": [
        "<div style=\"max-height:1000px;max-width:1500px;overflow:auto;\">\n",
        "<table border=\"1\" class=\"dataframe\">\n",
        "  <thead>\n",
        "    <tr style=\"text-align: right;\">\n",
        "      <th></th>\n",
        "      <th>1</th>\n",
        "      <th>2</th>\n",
        "      <th>3</th>\n",
        "      <th>4</th>\n",
        "      <th>5</th>\n",
        "      <th>6</th>\n",
        "      <th>7</th>\n",
        "      <th>8</th>\n",
        "      <th>9</th>\n",
        "      <th>10</th>\n",
        "      <th>11</th>\n",
        "      <th>12</th>\n",
        "      <th>13</th>\n",
        "      <th>14</th>\n",
        "      <th>15</th>\n",
        "      <th>16</th>\n",
        "      <th>17</th>\n",
        "    </tr>\n",
        "  </thead>\n",
        "  <tbody>\n",
        "    <tr>\n",
        "      <th>0</th>\n",
        "      <td> republican</td>\n",
        "      <td> 0.00000</td>\n",
        "      <td> 1</td>\n",
        "      <td> 0</td>\n",
        "      <td> 1.000000</td>\n",
        "      <td> 1</td>\n",
        "      <td> 1</td>\n",
        "      <td> 0</td>\n",
        "      <td> 0</td>\n",
        "      <td> 0</td>\n",
        "      <td> 1</td>\n",
        "      <td> 0.362319</td>\n",
        "      <td> 1</td>\n",
        "      <td> 1</td>\n",
        "      <td> 1</td>\n",
        "      <td> 0</td>\n",
        "      <td> 1.000000</td>\n",
        "    </tr>\n",
        "    <tr>\n",
        "      <th>1</th>\n",
        "      <td> republican</td>\n",
        "      <td> 0.00000</td>\n",
        "      <td> 1</td>\n",
        "      <td> 0</td>\n",
        "      <td> 1.000000</td>\n",
        "      <td> 1</td>\n",
        "      <td> 1</td>\n",
        "      <td> 0</td>\n",
        "      <td> 0</td>\n",
        "      <td> 0</td>\n",
        "      <td> 0</td>\n",
        "      <td> 0.000000</td>\n",
        "      <td> 1</td>\n",
        "      <td> 1</td>\n",
        "      <td> 1</td>\n",
        "      <td> 0</td>\n",
        "      <td> 0.812689</td>\n",
        "    </tr>\n",
        "    <tr>\n",
        "      <th>2</th>\n",
        "      <td>   democrat</td>\n",
        "      <td> 0.44208</td>\n",
        "      <td> 1</td>\n",
        "      <td> 1</td>\n",
        "      <td> 0.417453</td>\n",
        "      <td> 1</td>\n",
        "      <td> 1</td>\n",
        "      <td> 0</td>\n",
        "      <td> 0</td>\n",
        "      <td> 0</td>\n",
        "      <td> 0</td>\n",
        "      <td> 1.000000</td>\n",
        "      <td> 0</td>\n",
        "      <td> 1</td>\n",
        "      <td> 1</td>\n",
        "      <td> 0</td>\n",
        "      <td> 0.000000</td>\n",
        "    </tr>\n",
        "  </tbody>\n",
        "</table>\n",
        "</div>"
       ],
       "metadata": {},
       "output_type": "pyout",
       "prompt_number": 3,
       "text": [
        "           1        2   3   4         5   6   7   8   9   10  11        12  \\\n",
        "0  republican  0.00000   1   0  1.000000   1   1   0   0   0   1  0.362319   \n",
        "1  republican  0.00000   1   0  1.000000   1   1   0   0   0   0  0.000000   \n",
        "2    democrat  0.44208   1   1  0.417453   1   1   0   0   0   0  1.000000   \n",
        "\n",
        "   13  14  15  16        17  \n",
        "0   1   1   1   0  1.000000  \n",
        "1   1   1   1   0  0.812689  \n",
        "2   0   1   1   0  0.000000  "
       ]
      }
     ],
     "prompt_number": 3
    },
    {
     "cell_type": "heading",
     "level": 1,
     "metadata": {},
     "source": [
      "Challenge 1"
     ]
    },
    {
     "cell_type": "code",
     "collapsed": false,
     "input": [
      "split = train_test_split(df)\n",
      "train_set = split[0]\n",
      "test_set = split[1]\n",
      "\n",
      "X_votes_train = []\n",
      "y_votes_train = []\n",
      "for row in train_set:\n",
      "    X_votes_train.append(row[1:17])\n",
      "    y_votes_train.append(row[0])\n",
      "\n",
      "X_votes_test = []\n",
      "y_votes_test = []\n",
      "for row in test_set:\n",
      "    X_votes_test.append(row[1:17])\n",
      "    y_votes_test.append(row[0])\n",
      "    \n",
      "vote_model = DecisionTreeClassifier()\n",
      "vote_model.fit(X_votes_train,y_votes_train)"
     ],
     "language": "python",
     "metadata": {},
     "outputs": [
      {
       "metadata": {},
       "output_type": "pyout",
       "prompt_number": 4,
       "text": [
        "DecisionTreeClassifier(compute_importances=None, criterion='gini',\n",
        "            max_depth=None, max_features=None, max_leaf_nodes=None,\n",
        "            min_density=None, min_samples_leaf=1, min_samples_split=2,\n",
        "            random_state=None, splitter='best')"
       ]
      }
     ],
     "prompt_number": 4
    },
    {
     "cell_type": "code",
     "collapsed": false,
     "input": [
      "from sklearn.externals.six import StringIO \n",
      "from sklearn.tree import export_graphviz\n",
      "import pydot \n",
      "reload(pydot)\n",
      "\n",
      "dot_data = StringIO() \n",
      "export_graphviz(vote_model, out_file=dot_data) \n",
      "graph = pydot.graph_from_dot_data(dot_data.getvalue()) \n",
      "graph.write_pdf(\"votes_tree.pdf\") "
     ],
     "language": "python",
     "metadata": {},
     "outputs": [
      {
       "metadata": {},
       "output_type": "pyout",
       "prompt_number": 7,
       "text": [
        "True"
       ]
      }
     ],
     "prompt_number": 7
    },
    {
     "cell_type": "code",
     "collapsed": false,
     "input": [
      "y_pred = vote_model.predict(X_votes_test)\n",
      "accuracy_score(y_votes_test,y_pred)"
     ],
     "language": "python",
     "metadata": {},
     "outputs": [
      {
       "metadata": {},
       "output_type": "pyout",
       "prompt_number": 12,
       "text": [
        "0.93577981651376152"
       ]
      }
     ],
     "prompt_number": 12
    },
    {
     "cell_type": "heading",
     "level": 1,
     "metadata": {},
     "source": [
      "Challenge 2"
     ]
    },
    {
     "cell_type": "code",
     "collapsed": false,
     "input": [
      "import pickle\n",
      "with open('movie_data_dict_yearly.pkl','rb') as infile:\n",
      "    movie_data_all = pickle.load(infile)\n",
      "movie_data = filter(None,movie_data_all)\n",
      "\n",
      "movies = pd.DataFrame(movie_data)\n",
      "\n",
      "movies = movies[movies['budget'] != 'N/A'] \n",
      "movies = movies[movies['domestic_total_gross'] != 'N/A'] \n",
      "movies = movies[movies['opening_weekend_gross'] != 'N/A']\n",
      "movies = movies[movies['runtime'] != 'N/A']\n",
      "movies = movies[movies['rating'] != 'Unrated']\n",
      "movies = movies[movies['rating'] != 'NC-17']\n",
      "\n",
      "\n",
      "movies['year'] = movies['release date'].apply(lambda x: x.year)\n",
      "movies['month'] = movies['release date'].apply(lambda x: x.month)\n",
      "\n",
      "m = movies.drop('director',1)\n",
      "movies_clean = m.drop('release date',1).drop('movie title',1)\n"
     ],
     "language": "python",
     "metadata": {},
     "outputs": [],
     "prompt_number": 15
    },
    {
     "cell_type": "code",
     "collapsed": false,
     "input": [
      "split_data = train_test_split(movies_clean)\n",
      "movies_train_set = split_data[0]\n",
      "movies_test_set = split_data[1]\n",
      "\n",
      "movies_train_X = []\n",
      "movies_train_y = []\n",
      "movies_test_X = []\n",
      "movies_test_y = []\n",
      "class_names = []\n",
      "\n",
      "for row in movies_train_set:\n",
      "    l = list(row)\n",
      "    y = l.pop(3)\n",
      "    if y not in class_names:\n",
      "        class_names.insert(0, y)\n",
      "    movies_train_y.append(y)\n",
      "    movies_train_X.append(l)\n",
      "    \n",
      "for row in movies_test_set:\n",
      "    l = list(row)\n",
      "    y = l.pop(3)\n",
      "    movies_test_y.append(y)\n",
      "    movies_test_X.append(l)"
     ],
     "language": "python",
     "metadata": {},
     "outputs": [],
     "prompt_number": 16
    },
    {
     "cell_type": "code",
     "collapsed": false,
     "input": [
      "y_true = movies_test_y\n",
      "\n",
      "movie_tree_model = DecisionTreeClassifier().fit(movies_train_X,movies_train_y)\n",
      "y_tree_pred = movie_tree_model.predict(movies_test_X)\n",
      "\n",
      "accuracy_score(y_true,y_tree_pred)"
     ],
     "language": "python",
     "metadata": {},
     "outputs": [
      {
       "metadata": {},
       "output_type": "pyout",
       "prompt_number": 18,
       "text": [
        "0.46259541984732827"
       ]
      }
     ],
     "prompt_number": 18
    },
    {
     "cell_type": "code",
     "collapsed": false,
     "input": [
      "dot_data = StringIO() \n",
      "export_graphviz(movie_tree_model, out_file=dot_data) \n",
      "graph = pydot.graph_from_dot_data(dot_data.getvalue()) \n",
      "graph.write_pdf(\"ratings_tree.pdf\") "
     ],
     "language": "python",
     "metadata": {},
     "outputs": [
      {
       "metadata": {},
       "output_type": "pyout",
       "prompt_number": 19,
       "text": [
        "True"
       ]
      }
     ],
     "prompt_number": 19
    },
    {
     "cell_type": "code",
     "collapsed": false,
     "input": [
      "y_true = movies_test_y\n",
      "\n",
      "random_forest_model = RandomForestClassifier().fit(movies_train_X,movies_train_y)\n",
      "y_forest_pred = random_forest_model.predict(movies_test_X)\n",
      "\n",
      "accuracy_score(y_true,y_forest_pred)"
     ],
     "language": "python",
     "metadata": {},
     "outputs": [
      {
       "metadata": {},
       "output_type": "pyout",
       "prompt_number": 22,
       "text": [
        "0.52824427480916025"
       ]
      }
     ],
     "prompt_number": 22
    },
    {
     "cell_type": "heading",
     "level": 1,
     "metadata": {},
     "source": [
      "Challenge 3"
     ]
    },
    {
     "cell_type": "code",
     "collapsed": false,
     "input": [
      "passengers_train = pd.read_csv('titanic_train.csv')\n",
      "passengers_test = pd.read_csv('titanic_test.csv')\n",
      "\n",
      "#passengers_train = passengers_train.dropna()\n",
      "#passengers_test = passengers_test.dropna()"
     ],
     "language": "python",
     "metadata": {},
     "outputs": [],
     "prompt_number": 222
    },
    {
     "cell_type": "code",
     "collapsed": false,
     "input": [
      "df_titanic_train = pd.DataFrame(passengers_train, columns = ['PassengerId','Survived','Name','Sex','Age','Pclass','Ticket','Fare','Parch','Embarked','Cabin','SibSp'])\n",
      "df_titanic_train['Sex'] = pd.get_dummies(df_titanic_train['Sex'])\n",
      "df_titanic_train['Embarked'] = df_titanic_train['Embarked'].map({'S':0,'C':1,'Q':2})\n",
      "m = df_titanic_train['Age'].mean()\n",
      "df_titanic_train['Age'] =  df_titanic_train['Age'].fillna(m)\n",
      "f = df_titanic_train['Fare'].mean()\n",
      "df_titanic_train['Fare'] =  df_titanic_train['Fare'].fillna(f)\n",
      "df_titanic_train['Embarked'] =  df_titanic_train['Embarked'].fillna(0)\n",
      "df_train_X = df_titanic_train[['Sex','Age','Pclass','Fare','Parch','SibSp']]\n",
      "#df_train_X = df_titanic_train[['Sex','Pclass','Fare','Parch','SibSp','Embarked']]\n",
      "df_train_y = df_titanic_train[['Survived']]\n"
     ],
     "language": "python",
     "metadata": {},
     "outputs": [],
     "prompt_number": 265
    },
    {
     "cell_type": "code",
     "collapsed": false,
     "input": [
      "df_titanic_test = pd.DataFrame(passengers_test, columns = ['PassengerId','Name','Sex','Age','Pclass','Ticket','Fare','Parch','Embarked','Cabin','SibSp'])\n",
      "df_titanic_test['Sex'] = pd.get_dummies(df_titanic_test['Sex'])\n",
      "df_titanic_test['Embarked'] = df_titanic_test['Embarked'].map({'S':0,'C':1,'Q':2})\n",
      "df_titanic_test['Age'] =  df_titanic_test['Age'].fillna(m)\n",
      "df_titanic_test['Fare'] =  df_titanic_test['Fare'].fillna(f)\n",
      "df_titanic_test['Embarked'] =  df_titanic_test['Embarked'].fillna(0)\n",
      "df_test_X = df_titanic_test[['Sex','Age','Pclass','Fare','Parch','SibSp']]\n",
      "\n",
      "#df_test_X = df_titanic_test[['Sex','Pclass','Fare','Parch','SibSp','Embarked']]\n",
      "#df_test_X = df_test_X.dropna()"
     ],
     "language": "python",
     "metadata": {},
     "outputs": [],
     "prompt_number": 266
    },
    {
     "cell_type": "code",
     "collapsed": false,
     "input": [
      "titanic_forest_model = RandomForestClassifier(max_depth=4).fit(df_train_X,df_train_y)\n",
      "df_titanic_test['Survived'] = survivors_tree_pred"
     ],
     "language": "python",
     "metadata": {},
     "outputs": [
      {
       "output_type": "stream",
       "stream": "stderr",
       "text": [
        "-c:1: DataConversionWarning: A column-vector y was passed when a 1d array was expected. Please change the shape of y to (n_samples, ), for example using ravel().\n"
       ]
      }
     ],
     "prompt_number": 287
    },
    {
     "cell_type": "code",
     "collapsed": false,
     "input": [
      "titanic_tree_model = DecisionTreeClassifier(max_depth=2).fit(df_train_X,df_train_y)\n",
      "\n",
      "dot_data = StringIO() \n",
      "export_graphviz(titanic_tree_model, out_file=dot_data) \n",
      "graph = pydot.graph_from_dot_data(dot_data.getvalue()) \n",
      "graph.write_pdf(\"titanic_tree.pdf\") "
     ],
     "language": "python",
     "metadata": {},
     "outputs": [
      {
       "metadata": {},
       "output_type": "pyout",
       "prompt_number": 285,
       "text": [
        "True"
       ]
      }
     ],
     "prompt_number": 285
    },
    {
     "cell_type": "code",
     "collapsed": false,
     "input": [
      "survivors_tree_pred = titanic_forest_model.predict(df_test_X)\n",
      "df_titanic_test['Survived'] = survivors_tree_pred\n",
      "df_csv = df_titanic_test[['PassengerId','Survived']]\n",
      "df_csv.to_csv('titanic_submission.csv',index=False,index_label=False)\n"
     ],
     "language": "python",
     "metadata": {},
     "outputs": [],
     "prompt_number": 288
    }
   ],
   "metadata": {}
  }
 ]
}