{
 "metadata": {
  "name": "",
  "signature": "sha256:4b9497f58e71fbad83834ed8b106e083f2e8b60db51b0ce9832354e2c428e3fd"
 },
 "nbformat": 3,
 "nbformat_minor": 0,
 "worksheets": [
  {
   "cells": [
    {
     "cell_type": "code",
     "collapsed": false,
     "input": [
      "from pymongo import MongoClient\n",
      "client = MongoClient()\n",
      "db = client.dsbc"
     ],
     "language": "python",
     "metadata": {},
     "outputs": [],
     "prompt_number": 2
    },
    {
     "cell_type": "code",
     "collapsed": false,
     "input": [
      "hmm = client.dsbc.hmm\n",
      "hmm.count()"
     ],
     "language": "python",
     "metadata": {},
     "outputs": [
      {
       "metadata": {},
       "output_type": "pyout",
       "prompt_number": 13,
       "text": [
        "856"
       ]
      }
     ],
     "prompt_number": 13
    },
    {
     "cell_type": "heading",
     "level": 1,
     "metadata": {},
     "source": [
      "Challenge 1"
     ]
    },
    {
     "cell_type": "code",
     "collapsed": false,
     "input": [
      "years = []\n",
      "for m in hmm.find().sort('year'):\n",
      "    if m['year'] not in years:\n",
      "        years.append(m['year'])\n"
     ],
     "language": "python",
     "metadata": {},
     "outputs": [
      {
       "output_type": "stream",
       "stream": "stdout",
       "text": [
        "[1910, 1912, 1920, 1922, 1923, 1925, 1926, 1929, 1931, 1932, 1933, 1936, 1940, 1941, 1945, 1946, 1954, 1956, 1957, 1958, 1960, 1961, 1962, 1963, 1964, 1965, 1966, 1967, 1968, 1969, 1970, 1971, 1972, 1973, 1974, 1975, 1976, 1977, 1978, 1979, 1980, 1981, 1982, 1983, 1984, 1985, 1986, 1987, 1988, 1989, 1990, 1991, 1992, 1993, 1994, 1995, 1996, 1997, 1998, 1999, 2000, 2001, 2002, 2003, 2004, 2005, 2006, 2007, 2008, 2009, 2010, 2011, 2012, 2013]\n"
       ]
      }
     ],
     "prompt_number": 279
    },
    {
     "cell_type": "code",
     "collapsed": false,
     "input": [
      "import numpy as np\n",
      "import matplotlib.pyplot as plt\n",
      "import seaborn as sns\n",
      "%matplotlib inline\n",
      "\n",
      "yr_counts = []\n",
      "for y in years:\n",
      "    yr_counts.append(hmm.find({'year':y}).count())\n",
      "\n",
      "print yr_counts"
     ],
     "language": "python",
     "metadata": {},
     "outputs": [
      {
       "output_type": "stream",
       "stream": "stdout",
       "text": [
        "[1, 1, 1, 2, 1, 1, 1, 1, 2, 4, 1, 1, 1, 1, 1, 2, 1, 1, 2, 3, 3, 1, 5, 6, 2, 1, 5, 4, 9, 3, 14, 17, 9, 21, 18, 14, 18, 19, 17, 13, 31, 31, 48, 27, 25, 31, 31, 26, 21, 16, 17, 12, 14, 8, 11, 10, 9, 10, 8, 9, 13, 16, 12, 11, 11, 13, 19, 19, 26, 22, 35, 19, 15, 2]\n"
       ]
      }
     ],
     "prompt_number": 307
    },
    {
     "cell_type": "code",
     "collapsed": false,
     "input": [
      "pos = np.arange(len(years))\n",
      "\n",
      "fig = plt.gcf()\n",
      "fig.set_size_inches(20,7.5)\n",
      "ax = plt.axes()\n",
      "ax.set_xticks(pos+.5)\n",
      "ax.set_xticklabels(years)\n",
      "plt.xticks(rotation=90)\n",
      "\n",
      "plt.bar(pos, yr_counts,width=1.0)\n",
      "plt.show()\n"
     ],
     "language": "python",
     "metadata": {},
     "outputs": [
      {
       "metadata": {},
       "output_type": "display_data",
       "png": "[encoded data removed]",
       "text": [
        "<matplotlib.figure.Figure at 0x10e5ca950>"
       ]
      }
     ],
     "prompt_number": 309
    },
    {
     "cell_type": "heading",
     "level": 1,
     "metadata": {},
     "source": [
      "Challenge 2"
     ]
    },
    {
     "cell_type": "code",
     "collapsed": false,
     "input": [
      "cast = []\n",
      "for m in hmm.find():\n",
      "    cast = cast + m['cast']"
     ],
     "language": "python",
     "metadata": {},
     "outputs": [],
     "prompt_number": 85
    },
    {
     "cell_type": "code",
     "collapsed": false,
     "input": [
      "import pandas as pd\n",
      "\n",
      "cast_counts = []\n",
      "for i in set(cast):\n",
      "    d = {}\n",
      "    d['name'] = i\n",
      "    d['count'] = cast.count(i)\n",
      "    cast_counts.append(d)\n",
      "\n",
      "df = pd.DataFrame(cast_counts)"
     ],
     "language": "python",
     "metadata": {},
     "outputs": [],
     "prompt_number": 123
    },
    {
     "cell_type": "code",
     "collapsed": false,
     "input": [
      "df.sort(['count'],ascending=False).head(10)"
     ],
     "language": "python",
     "metadata": {},
     "outputs": [
      {
       "html": [
        "<div style=\"max-height:1000px;max-width:1500px;overflow:auto;\">\n",
        "<table border=\"1\" class=\"dataframe\">\n",
        "  <thead>\n",
        "    <tr style=\"text-align: right;\">\n",
        "      <th></th>\n",
        "      <th>count</th>\n",
        "      <th>name</th>\n",
        "    </tr>\n",
        "  </thead>\n",
        "  <tbody>\n",
        "    <tr>\n",
        "      <th>0   </th>\n",
        "      <td> 22</td>\n",
        "      <td>                      </td>\n",
        "    </tr>\n",
        "    <tr>\n",
        "      <th>1014</th>\n",
        "      <td> 15</td>\n",
        "      <td>          Alice Cooper</td>\n",
        "    </tr>\n",
        "    <tr>\n",
        "      <th>1343</th>\n",
        "      <td> 14</td>\n",
        "      <td>       Christopher Lee</td>\n",
        "    </tr>\n",
        "    <tr>\n",
        "      <th>2509</th>\n",
        "      <td> 10</td>\n",
        "      <td> Arnold Schwarzenegger</td>\n",
        "    </tr>\n",
        "    <tr>\n",
        "      <th>1395</th>\n",
        "      <td>  9</td>\n",
        "      <td>         Ozzy Osbourne</td>\n",
        "    </tr>\n",
        "    <tr>\n",
        "      <th>1262</th>\n",
        "      <td>  8</td>\n",
        "      <td>         Vincent Price</td>\n",
        "    </tr>\n",
        "    <tr>\n",
        "      <th>1007</th>\n",
        "      <td>  8</td>\n",
        "      <td>         Peter Cushing</td>\n",
        "    </tr>\n",
        "    <tr>\n",
        "      <th>2226</th>\n",
        "      <td>  8</td>\n",
        "      <td>                  Gwar</td>\n",
        "    </tr>\n",
        "    <tr>\n",
        "      <th>2370</th>\n",
        "      <td>  7</td>\n",
        "      <td>                 Lemmy</td>\n",
        "    </tr>\n",
        "    <tr>\n",
        "      <th>837 </th>\n",
        "      <td>  7</td>\n",
        "      <td>        Robert Englund</td>\n",
        "    </tr>\n",
        "  </tbody>\n",
        "</table>\n",
        "</div>"
       ],
       "metadata": {},
       "output_type": "pyout",
       "prompt_number": 124,
       "text": [
        "      count                   name\n",
        "0        22                       \n",
        "1014     15           Alice Cooper\n",
        "1343     14        Christopher Lee\n",
        "2509     10  Arnold Schwarzenegger\n",
        "1395      9          Ozzy Osbourne\n",
        "1262      8          Vincent Price\n",
        "1007      8          Peter Cushing\n",
        "2226      8                   Gwar\n",
        "2370      7                  Lemmy\n",
        "837       7         Robert Englund"
       ]
      }
     ],
     "prompt_number": 124
    },
    {
     "cell_type": "heading",
     "level": 1,
     "metadata": {},
     "source": [
      "Challenge 3"
     ]
    },
    {
     "cell_type": "code",
     "collapsed": false,
     "input": [
      "titlewords = []\n",
      "for m in hmm.find():\n",
      "    titlewords = titlewords + m['title'].split(' ')"
     ],
     "language": "python",
     "metadata": {},
     "outputs": [],
     "prompt_number": 119
    },
    {
     "cell_type": "code",
     "collapsed": false,
     "input": [
      "word_counts = []\n",
      "for i in set(titlewords):\n",
      "    d = {}\n",
      "    d['word'] = i\n",
      "    d['count'] = titlewords.count(i)\n",
      "    word_counts.append(d)\n",
      "\n",
      "df_w = pd.DataFrame(word_counts)"
     ],
     "language": "python",
     "metadata": {},
     "outputs": [],
     "prompt_number": 122
    },
    {
     "cell_type": "code",
     "collapsed": false,
     "input": [
      "df_w.sort(['count'],ascending=False).head(10)"
     ],
     "language": "python",
     "metadata": {},
     "outputs": [
      {
       "html": [
        "<div style=\"max-height:1000px;max-width:1500px;overflow:auto;\">\n",
        "<table border=\"1\" class=\"dataframe\">\n",
        "  <thead>\n",
        "    <tr style=\"text-align: right;\">\n",
        "      <th></th>\n",
        "      <th>count</th>\n",
        "      <th>word</th>\n",
        "    </tr>\n",
        "  </thead>\n",
        "  <tbody>\n",
        "    <tr>\n",
        "      <th>733 </th>\n",
        "      <td> 325</td>\n",
        "      <td>   THE</td>\n",
        "    </tr>\n",
        "    <tr>\n",
        "      <th>1078</th>\n",
        "      <td> 147</td>\n",
        "      <td>    OF</td>\n",
        "    </tr>\n",
        "    <tr>\n",
        "      <th>283 </th>\n",
        "      <td>  33</td>\n",
        "      <td>     A</td>\n",
        "    </tr>\n",
        "    <tr>\n",
        "      <th>1318</th>\n",
        "      <td>  29</td>\n",
        "      <td> METAL</td>\n",
        "    </tr>\n",
        "    <tr>\n",
        "      <th>823 </th>\n",
        "      <td>  27</td>\n",
        "      <td>   AND</td>\n",
        "    </tr>\n",
        "    <tr>\n",
        "      <th>980 </th>\n",
        "      <td>  25</td>\n",
        "      <td>    IN</td>\n",
        "    </tr>\n",
        "    <tr>\n",
        "      <th>1012</th>\n",
        "      <td>  23</td>\n",
        "      <td>  DEAD</td>\n",
        "    </tr>\n",
        "    <tr>\n",
        "      <th>350 </th>\n",
        "      <td>  18</td>\n",
        "      <td> HEAVY</td>\n",
        "    </tr>\n",
        "    <tr>\n",
        "      <th>1297</th>\n",
        "      <td>  17</td>\n",
        "      <td>    TO</td>\n",
        "    </tr>\n",
        "    <tr>\n",
        "      <th>961 </th>\n",
        "      <td>  17</td>\n",
        "      <td>  ROCK</td>\n",
        "    </tr>\n",
        "  </tbody>\n",
        "</table>\n",
        "</div>"
       ],
       "metadata": {},
       "output_type": "pyout",
       "prompt_number": 127,
       "text": [
        "      count   word\n",
        "733     325    THE\n",
        "1078    147     OF\n",
        "283      33      A\n",
        "1318     29  METAL\n",
        "823      27    AND\n",
        "980      25     IN\n",
        "1012     23   DEAD\n",
        "350      18  HEAVY\n",
        "1297     17     TO\n",
        "961      17   ROCK"
       ]
      }
     ],
     "prompt_number": 127
    },
    {
     "cell_type": "heading",
     "level": 1,
     "metadata": {},
     "source": [
      "Challenge 4"
     ]
    },
    {
     "cell_type": "code",
     "collapsed": false,
     "input": [
      "mc_keywords_70s = []\n",
      "for m in hmm.find({'$and': [{'year': {'$gt': 1969}},{'year': {'$lt': 1980}}]} ,{'metal_cred'}):\n",
      "     mc_keywords_70s = mc_keywords_70s + m['metal_cred'][1:]\n",
      "        \n",
      "mc_keywords_80s = []\n",
      "for m in hmm.find({'$and': [{'year': {'$gt': 1979}},{'year': {'$lt': 1990}}]} ,{'metal_cred'}):\n",
      "     mc_keywords_80s = mc_keywords_80s + m['metal_cred'][1:]\n",
      "        \n",
      "mc_keywords_90s = []\n",
      "for m in hmm.find({'$and': [{'year': {'$gt': 1989}},{'year': {'$lt': 2000}}]} ,{'metal_cred'}):\n",
      "     mc_keywords_90s = mc_keywords_90s + m['metal_cred'][1:]\n",
      "        \n",
      "mc_keywords_2000s = []\n",
      "for m in hmm.find({'$and': [{'year': {'$gt': 2000}},{'year': {'$lt': 2015}}]} ,{'metal_cred'}):\n",
      "     mc_keywords_2000s = mc_keywords_2000s + m['metal_cred'][1:]"
     ],
     "language": "python",
     "metadata": {},
     "outputs": [],
     "prompt_number": 195
    },
    {
     "cell_type": "code",
     "collapsed": false,
     "input": [
      "def kw_counts(keywords):\n",
      "    mc_kw_counts = []\n",
      "    for i in set(keywords):\n",
      "        d = {}\n",
      "        d['word'] = i\n",
      "        d['count'] = keywords.count(i)\n",
      "        mc_kw_counts.append(d)\n",
      "    return mc_kw_counts\n",
      "\n",
      "kw_counts_70s = kw_counts(mc_keywords_70s)\n",
      "kw_counts_80s = kw_counts(mc_keywords_80s)\n",
      "kw_counts_90s = kw_counts(mc_keywords_90s)\n",
      "kw_counts_2000s = kw_counts(mc_keywords_2000s)"
     ],
     "language": "python",
     "metadata": {},
     "outputs": [],
     "prompt_number": 197
    },
    {
     "cell_type": "code",
     "collapsed": false,
     "input": [
      "df_mc_70 = pd.DataFrame(kw_counts_70s)\n",
      "df_mc_70.sort(['count'],ascending=False).head(10)"
     ],
     "language": "python",
     "metadata": {},
     "outputs": [
      {
       "html": [
        "<div style=\"max-height:1000px;max-width:1500px;overflow:auto;\">\n",
        "<table border=\"1\" class=\"dataframe\">\n",
        "  <thead>\n",
        "    <tr style=\"text-align: right;\">\n",
        "      <th></th>\n",
        "      <th>count</th>\n",
        "      <th>word</th>\n",
        "    </tr>\n",
        "  </thead>\n",
        "  <tbody>\n",
        "    <tr>\n",
        "      <th>57 </th>\n",
        "      <td> 19</td>\n",
        "      <td>           Satan</td>\n",
        "    </tr>\n",
        "    <tr>\n",
        "      <th>41 </th>\n",
        "      <td> 10</td>\n",
        "      <td>      Black Mass</td>\n",
        "    </tr>\n",
        "    <tr>\n",
        "      <th>276</th>\n",
        "      <td>  7</td>\n",
        "      <td>     Video Nasty</td>\n",
        "    </tr>\n",
        "    <tr>\n",
        "      <th>378</th>\n",
        "      <td>  7</td>\n",
        "      <td> Post-Apocalypse</td>\n",
        "    </tr>\n",
        "    <tr>\n",
        "      <th>184</th>\n",
        "      <td>  6</td>\n",
        "      <td>         Zombies</td>\n",
        "    </tr>\n",
        "    <tr>\n",
        "      <th>322</th>\n",
        "      <td>  6</td>\n",
        "      <td>          Giallo</td>\n",
        "    </tr>\n",
        "    <tr>\n",
        "      <th>159</th>\n",
        "      <td>  5</td>\n",
        "      <td>   Manson Family</td>\n",
        "    </tr>\n",
        "    <tr>\n",
        "      <th>203</th>\n",
        "      <td>  4</td>\n",
        "      <td>    Alice Cooper</td>\n",
        "    </tr>\n",
        "    <tr>\n",
        "      <th>199</th>\n",
        "      <td>  4</td>\n",
        "      <td>   Peter Cushing</td>\n",
        "    </tr>\n",
        "    <tr>\n",
        "      <th>432</th>\n",
        "      <td>  3</td>\n",
        "      <td>  Nunsploitation</td>\n",
        "    </tr>\n",
        "  </tbody>\n",
        "</table>\n",
        "</div>"
       ],
       "metadata": {},
       "output_type": "pyout",
       "prompt_number": 198,
       "text": [
        "     count             word\n",
        "57      19            Satan\n",
        "41      10       Black Mass\n",
        "276      7      Video Nasty\n",
        "378      7  Post-Apocalypse\n",
        "184      6          Zombies\n",
        "322      6           Giallo\n",
        "159      5    Manson Family\n",
        "203      4     Alice Cooper\n",
        "199      4    Peter Cushing\n",
        "432      3   Nunsploitation"
       ]
      }
     ],
     "prompt_number": 198
    },
    {
     "cell_type": "code",
     "collapsed": false,
     "input": [
      "df_mc_80 = pd.DataFrame(kw_counts_80s)\n",
      "df_mc_80.sort(['count'],ascending=False).head(10)"
     ],
     "language": "python",
     "metadata": {},
     "outputs": [
      {
       "html": [
        "<div style=\"max-height:1000px;max-width:1500px;overflow:auto;\">\n",
        "<table border=\"1\" class=\"dataframe\">\n",
        "  <thead>\n",
        "    <tr style=\"text-align: right;\">\n",
        "      <th></th>\n",
        "      <th>count</th>\n",
        "      <th>word</th>\n",
        "    </tr>\n",
        "  </thead>\n",
        "  <tbody>\n",
        "    <tr>\n",
        "      <th>661</th>\n",
        "      <td> 29</td>\n",
        "      <td>     Post-Apocalypse</td>\n",
        "    </tr>\n",
        "    <tr>\n",
        "      <th>558</th>\n",
        "      <td> 20</td>\n",
        "      <td>   Sword and Sorcery</td>\n",
        "    </tr>\n",
        "    <tr>\n",
        "      <th>99 </th>\n",
        "      <td> 16</td>\n",
        "      <td>               Satan</td>\n",
        "    </tr>\n",
        "    <tr>\n",
        "      <th>73 </th>\n",
        "      <td> 12</td>\n",
        "      <td>         Video Nasty</td>\n",
        "    </tr>\n",
        "    <tr>\n",
        "      <th>170</th>\n",
        "      <td> 11</td>\n",
        "      <td> \u201980s Italian Horror</td>\n",
        "    </tr>\n",
        "    <tr>\n",
        "      <th>665</th>\n",
        "      <td> 11</td>\n",
        "      <td>        \u201980s Slasher</td>\n",
        "    </tr>\n",
        "    <tr>\n",
        "      <th>329</th>\n",
        "      <td> 11</td>\n",
        "      <td>             Zombies</td>\n",
        "    </tr>\n",
        "    <tr>\n",
        "      <th>718</th>\n",
        "      <td>  7</td>\n",
        "      <td>           Cannibals</td>\n",
        "    </tr>\n",
        "    <tr>\n",
        "      <th>1  </th>\n",
        "      <td>  6</td>\n",
        "      <td>       Satanic Panic</td>\n",
        "    </tr>\n",
        "    <tr>\n",
        "      <th>507</th>\n",
        "      <td>  5</td>\n",
        "      <td>  \u201980s Slasher Movie</td>\n",
        "    </tr>\n",
        "  </tbody>\n",
        "</table>\n",
        "</div>"
       ],
       "metadata": {},
       "output_type": "pyout",
       "prompt_number": 199,
       "text": [
        "     count                 word\n",
        "661     29      Post-Apocalypse\n",
        "558     20    Sword and Sorcery\n",
        "99      16                Satan\n",
        "73      12          Video Nasty\n",
        "170     11  \u201980s Italian Horror\n",
        "665     11         \u201980s Slasher\n",
        "329     11              Zombies\n",
        "718      7            Cannibals\n",
        "1        6        Satanic Panic\n",
        "507      5   \u201980s Slasher Movie"
       ]
      }
     ],
     "prompt_number": 199
    },
    {
     "cell_type": "code",
     "collapsed": false,
     "input": [
      "df_mc_90 = pd.DataFrame(kw_counts_90s)\n",
      "df_mc_90.sort(['count'],ascending=False).head(10)"
     ],
     "language": "python",
     "metadata": {},
     "outputs": [
      {
       "html": [
        "<div style=\"max-height:1000px;max-width:1500px;overflow:auto;\">\n",
        "<table border=\"1\" class=\"dataframe\">\n",
        "  <thead>\n",
        "    <tr style=\"text-align: right;\">\n",
        "      <th></th>\n",
        "      <th>count</th>\n",
        "      <th>word</th>\n",
        "    </tr>\n",
        "  </thead>\n",
        "  <tbody>\n",
        "    <tr>\n",
        "      <th>137</th>\n",
        "      <td> 7</td>\n",
        "      <td>                 Satan</td>\n",
        "    </tr>\n",
        "    <tr>\n",
        "      <th>172</th>\n",
        "      <td> 6</td>\n",
        "      <td>                  Gwar</td>\n",
        "    </tr>\n",
        "    <tr>\n",
        "      <th>131</th>\n",
        "      <td> 4</td>\n",
        "      <td>                 Lemmy</td>\n",
        "    </tr>\n",
        "    <tr>\n",
        "      <th>58 </th>\n",
        "      <td> 4</td>\n",
        "      <td>       Post-Apocalypse</td>\n",
        "    </tr>\n",
        "    <tr>\n",
        "      <th>94 </th>\n",
        "      <td> 3</td>\n",
        "      <td>              Iggy Pop</td>\n",
        "    </tr>\n",
        "    <tr>\n",
        "      <th>4  </th>\n",
        "      <td> 3</td>\n",
        "      <td>               Zombies</td>\n",
        "    </tr>\n",
        "    <tr>\n",
        "      <th>201</th>\n",
        "      <td> 3</td>\n",
        "      <td>          Alice Cooper</td>\n",
        "    </tr>\n",
        "    <tr>\n",
        "      <th>244</th>\n",
        "      <td> 3</td>\n",
        "      <td>         Ozzy Osbourne</td>\n",
        "    </tr>\n",
        "    <tr>\n",
        "      <th>90 </th>\n",
        "      <td> 3</td>\n",
        "      <td>             Metallica</td>\n",
        "    </tr>\n",
        "    <tr>\n",
        "      <th>200</th>\n",
        "      <td> 2</td>\n",
        "      <td> Soundtrack: Metallica</td>\n",
        "    </tr>\n",
        "  </tbody>\n",
        "</table>\n",
        "</div>"
       ],
       "metadata": {},
       "output_type": "pyout",
       "prompt_number": 201,
       "text": [
        "     count                   word\n",
        "137      7                  Satan\n",
        "172      6                   Gwar\n",
        "131      4                  Lemmy\n",
        "58       4        Post-Apocalypse\n",
        "94       3               Iggy Pop\n",
        "4        3                Zombies\n",
        "201      3           Alice Cooper\n",
        "244      3          Ozzy Osbourne\n",
        "90       3              Metallica\n",
        "200      2  Soundtrack: Metallica"
       ]
      }
     ],
     "prompt_number": 201
    },
    {
     "cell_type": "code",
     "collapsed": false,
     "input": [
      "df_mc_2000 = pd.DataFrame(kw_counts_2000s)\n",
      "df_mc_2000.sort(['count'],ascending=False).head(10)"
     ],
     "language": "python",
     "metadata": {},
     "outputs": [
      {
       "html": [
        "<div style=\"max-height:1000px;max-width:1500px;overflow:auto;\">\n",
        "<table border=\"1\" class=\"dataframe\">\n",
        "  <thead>\n",
        "    <tr style=\"text-align: right;\">\n",
        "      <th></th>\n",
        "      <th>count</th>\n",
        "      <th>word</th>\n",
        "    </tr>\n",
        "  </thead>\n",
        "  <tbody>\n",
        "    <tr>\n",
        "      <th>21 </th>\n",
        "      <td> 14</td>\n",
        "      <td>                 Torture Porn</td>\n",
        "    </tr>\n",
        "    <tr>\n",
        "      <th>63 </th>\n",
        "      <td> 10</td>\n",
        "      <td>                        Satan</td>\n",
        "    </tr>\n",
        "    <tr>\n",
        "      <th>400</th>\n",
        "      <td>  7</td>\n",
        "      <td>              Christopher Lee</td>\n",
        "    </tr>\n",
        "    <tr>\n",
        "      <th>351</th>\n",
        "      <td>  5</td>\n",
        "      <td>                 Billy Puppet</td>\n",
        "    </tr>\n",
        "    <tr>\n",
        "      <th>322</th>\n",
        "      <td>  5</td>\n",
        "      <td> Music Score: Charlie Clouser</td>\n",
        "    </tr>\n",
        "    <tr>\n",
        "      <th>360</th>\n",
        "      <td>  5</td>\n",
        "      <td>                       Jigsaw</td>\n",
        "    </tr>\n",
        "    <tr>\n",
        "      <th>340</th>\n",
        "      <td>  4</td>\n",
        "      <td>                   Censorship</td>\n",
        "    </tr>\n",
        "    <tr>\n",
        "      <th>393</th>\n",
        "      <td>  4</td>\n",
        "      <td>                   Rob Zombie</td>\n",
        "    </tr>\n",
        "    <tr>\n",
        "      <th>362</th>\n",
        "      <td>  4</td>\n",
        "      <td>              Human Sacrifice</td>\n",
        "    </tr>\n",
        "    <tr>\n",
        "      <th>327</th>\n",
        "      <td>  3</td>\n",
        "      <td>                      Vikings</td>\n",
        "    </tr>\n",
        "  </tbody>\n",
        "</table>\n",
        "</div>"
       ],
       "metadata": {},
       "output_type": "pyout",
       "prompt_number": 203,
       "text": [
        "     count                          word\n",
        "21      14                  Torture Porn\n",
        "63      10                         Satan\n",
        "400      7               Christopher Lee\n",
        "351      5                  Billy Puppet\n",
        "322      5  Music Score: Charlie Clouser\n",
        "360      5                        Jigsaw\n",
        "340      4                    Censorship\n",
        "393      4                    Rob Zombie\n",
        "362      4               Human Sacrifice\n",
        "327      3                       Vikings"
       ]
      }
     ],
     "prompt_number": 203
    },
    {
     "cell_type": "heading",
     "level": 1,
     "metadata": {},
     "source": [
      "Challenge 5"
     ]
    },
    {
     "cell_type": "code",
     "collapsed": false,
     "input": [
      "all_m = hmm.find({},{'metal_cred'})\n",
      "for m in all_m:\n",
      "    l = len(m['metal_cred']) -1 \n",
      "    m_id = m['_id']\n",
      "    hmm.update({'_id': m_id},{'$set': {'metal_score': l}})"
     ],
     "language": "python",
     "metadata": {},
     "outputs": [],
     "prompt_number": 209
    },
    {
     "cell_type": "code",
     "collapsed": false,
     "input": [
      "for m in hmm.find()[:3]:\n",
      "    print m['title']\n",
      "    print m['metal_cred']\n",
      "    print m['metal_score']\n",
      "    print "
     ],
     "language": "python",
     "metadata": {},
     "outputs": [
      {
       "output_type": "stream",
       "stream": "stdout",
       "text": [
        "ARISE: THE SRI LANKAN METAL MUSIC DOCUMENTARY\n",
        "[u'METAL CRED', u'Few of us were overly hip to the\\nSri Lankan metal scene before this movie.']\n",
        "1\n",
        "\n",
        "200 MOTELS\n",
        "[u'METAL CRED', u'Frank Zappa', u'Nun Desecration']\n",
        "2\n",
        "\n",
        "300\n",
        "[u'METAL CRED', u'Sword and Sorcery', u'Battle Elephants vs. Battle Rhinos', u'Pit of Death', u'Sparta band\\u2014UK', u'Spartan Warrior\\u2014UK', u'Leonidas band\\u2014Argentina', u'Xerxes band\\u2014Switzerland']\n",
        "7\n",
        "\n"
       ]
      }
     ],
     "prompt_number": 213
    },
    {
     "cell_type": "heading",
     "level": 1,
     "metadata": {},
     "source": [
      "Challenge 6"
     ]
    },
    {
     "cell_type": "code",
     "collapsed": false,
     "input": [
      "all_directors = []\n",
      "all_director_scores = []\n",
      "for m in hmm.find({},{'direct','metal_score'}):\n",
      "    all_directors = all_directors + m['direct']\n",
      "        \n",
      "for d in set(all_directors):\n",
      "    direct = {}\n",
      "    direct['director'] = d\n",
      "    direct['movie_count'] = 0\n",
      "    direct['total_score'] = 0\n",
      "    all_director_scores.append(direct)\n",
      "\n",
      "for m in hmm.find({},{'direct','metal_score'}):\n",
      "    for d in m['direct']:\n",
      "        entry = [i for i in all_director_scores if i['director'] == d][0]\n",
      "        entry['movie_count'] += 1\n",
      "        entry['total_score'] += m['metal_score']\n",
      "        "
     ],
     "language": "python",
     "metadata": {},
     "outputs": [],
     "prompt_number": 240
    },
    {
     "cell_type": "code",
     "collapsed": false,
     "input": [
      "df_d = pd.DataFrame(all_director_scores)\n",
      "df_d['avg_metal_score'] = df_d['total_score']/df_d['movie_count']\n",
      "df_d.sort(['avg_metal_score'],ascending=False).head(5)"
     ],
     "language": "python",
     "metadata": {},
     "outputs": [
      {
       "html": [
        "<div style=\"max-height:1000px;max-width:1500px;overflow:auto;\">\n",
        "<table border=\"1\" class=\"dataframe\">\n",
        "  <thead>\n",
        "    <tr style=\"text-align: right;\">\n",
        "      <th></th>\n",
        "      <th>director</th>\n",
        "      <th>movie_count</th>\n",
        "      <th>total_score</th>\n",
        "      <th>avg_metal_score</th>\n",
        "    </tr>\n",
        "  </thead>\n",
        "  <tbody>\n",
        "    <tr>\n",
        "      <th>385</th>\n",
        "      <td>        John Milius</td>\n",
        "      <td> 1</td>\n",
        "      <td> 74</td>\n",
        "      <td> 74</td>\n",
        "    </tr>\n",
        "    <tr>\n",
        "      <th>497</th>\n",
        "      <td>     David Jacobson</td>\n",
        "      <td> 1</td>\n",
        "      <td> 26</td>\n",
        "      <td> 26</td>\n",
        "    </tr>\n",
        "    <tr>\n",
        "      <th>675</th>\n",
        "      <td>   Laurence Merrick</td>\n",
        "      <td> 1</td>\n",
        "      <td> 17</td>\n",
        "      <td> 17</td>\n",
        "    </tr>\n",
        "    <tr>\n",
        "      <th>35 </th>\n",
        "      <td> Robert Hendrickson</td>\n",
        "      <td> 1</td>\n",
        "      <td> 17</td>\n",
        "      <td> 17</td>\n",
        "    </tr>\n",
        "    <tr>\n",
        "      <th>498</th>\n",
        "      <td>        Tinto Brass</td>\n",
        "      <td> 1</td>\n",
        "      <td> 12</td>\n",
        "      <td> 12</td>\n",
        "    </tr>\n",
        "  </tbody>\n",
        "</table>\n",
        "</div>"
       ],
       "metadata": {},
       "output_type": "pyout",
       "prompt_number": 241,
       "text": [
        "               director  movie_count  total_score  avg_metal_score\n",
        "385         John Milius            1           74               74\n",
        "497      David Jacobson            1           26               26\n",
        "675    Laurence Merrick            1           17               17\n",
        "35   Robert Hendrickson            1           17               17\n",
        "498         Tinto Brass            1           12               12"
       ]
      }
     ],
     "prompt_number": 241
    },
    {
     "cell_type": "heading",
     "level": 1,
     "metadata": {},
     "source": [
      "Challenge 7"
     ]
    },
    {
     "cell_type": "code",
     "collapsed": false,
     "input": [
      "from collections import defaultdict\n",
      "all_collaborators = []\n",
      " \n",
      "for d in set(all_directors):\n",
      "    direct = {}\n",
      "    direct['director'] = d\n",
      "    direct['actors'] = defaultdict(int)\n",
      "    all_collaborators.append(direct)\n",
      "\n",
      "for m in hmm.find({},{'direct','cast'}):\n",
      "    for d in m['direct']:\n",
      "        entry = [i for i in all_collaborators if i['director'] == d][0]\n",
      "        for actor in m['cast']:\n",
      "            entry['actors'][actor] += 1\n",
      "            \n",
      "for i in all_collaborators:\n",
      "    m = max(i['actors'].values())\n",
      "    i['max_collab_ct'] = m\n",
      "    i['max_collab_actor'] = i['actors'].keys()[i['actors'].values().index(m)]"
     ],
     "language": "python",
     "metadata": {},
     "outputs": [],
     "prompt_number": 263
    },
    {
     "cell_type": "code",
     "collapsed": false,
     "input": [
      "df_collab = pd.DataFrame(all_collaborators)\n",
      "df_collab.sort(['max_collab_ct'],ascending=False).head(5)"
     ],
     "language": "python",
     "metadata": {},
     "outputs": [
      {
       "html": [
        "<div style=\"max-height:1000px;max-width:1500px;overflow:auto;\">\n",
        "<table border=\"1\" class=\"dataframe\">\n",
        "  <thead>\n",
        "    <tr style=\"text-align: right;\">\n",
        "      <th></th>\n",
        "      <th>actors</th>\n",
        "      <th>director</th>\n",
        "      <th>max_collab_actor</th>\n",
        "      <th>max_collab_ct</th>\n",
        "    </tr>\n",
        "  </thead>\n",
        "  <tbody>\n",
        "    <tr>\n",
        "      <th>528</th>\n",
        "      <td> {u'Vigo Mortensen': 1, u'Ian Watkin': 1, u'Ian...</td>\n",
        "      <td> Peter Jackson</td>\n",
        "      <td>   Christopher Lee</td>\n",
        "      <td> 4</td>\n",
        "    </tr>\n",
        "    <tr>\n",
        "      <th>308</th>\n",
        "      <td> {u'': 1, u'Ritza Brown': 1, u'Gabriele Tinti':...</td>\n",
        "      <td>   Joe D\u2019Amato</td>\n",
        "      <td>    George Eastman</td>\n",
        "      <td> 4</td>\n",
        "    </tr>\n",
        "    <tr>\n",
        "      <th>88 </th>\n",
        "      <td> {u'Dalila Di Lazzaro': 1, u'Piper Laurie': 1, ...</td>\n",
        "      <td> Dario Argento</td>\n",
        "      <td>    Daria Nicolodi</td>\n",
        "      <td> 4</td>\n",
        "    </tr>\n",
        "    <tr>\n",
        "      <th>644</th>\n",
        "      <td> {u'Scout Taylor-Compton': 1, u'Judy Geeson': 1...</td>\n",
        "      <td>    Rob Zombie</td>\n",
        "      <td> Sheri Moon Zombie</td>\n",
        "      <td> 4</td>\n",
        "    </tr>\n",
        "    <tr>\n",
        "      <th>194</th>\n",
        "      <td> {u'Jeffrey Donovan': 1, u'Damien Echols': 3, u...</td>\n",
        "      <td> Joe Berlinger</td>\n",
        "      <td>     Damien Echols</td>\n",
        "      <td> 3</td>\n",
        "    </tr>\n",
        "  </tbody>\n",
        "</table>\n",
        "</div>"
       ],
       "metadata": {},
       "output_type": "pyout",
       "prompt_number": 267,
       "text": [
        "                                                actors       director  \\\n",
        "528  {u'Vigo Mortensen': 1, u'Ian Watkin': 1, u'Ian...  Peter Jackson   \n",
        "308  {u'': 1, u'Ritza Brown': 1, u'Gabriele Tinti':...    Joe D\u2019Amato   \n",
        "88   {u'Dalila Di Lazzaro': 1, u'Piper Laurie': 1, ...  Dario Argento   \n",
        "644  {u'Scout Taylor-Compton': 1, u'Judy Geeson': 1...     Rob Zombie   \n",
        "194  {u'Jeffrey Donovan': 1, u'Damien Echols': 3, u...  Joe Berlinger   \n",
        "\n",
        "      max_collab_actor  max_collab_ct  \n",
        "528    Christopher Lee              4  \n",
        "308     George Eastman              4  \n",
        "88      Daria Nicolodi              4  \n",
        "644  Sheri Moon Zombie              4  \n",
        "194      Damien Echols              3  "
       ]
      }
     ],
     "prompt_number": 267
    },
    {
     "cell_type": "heading",
     "level": 1,
     "metadata": {},
     "source": [
      "Challenge 8"
     ]
    },
    {
     "cell_type": "code",
     "collapsed": false,
     "input": [
      "hmm.ensure_index(\"direct\")\n",
      "hmm.index_information()"
     ],
     "language": "python",
     "metadata": {},
     "outputs": [
      {
       "metadata": {},
       "output_type": "pyout",
       "prompt_number": 288,
       "text": [
        "{u'_id_': {u'key': [(u'_id', 1)], u'v': 1},\n",
        " u'direct_1': {u'key': [(u'direct', 1)], u'v': 1}}"
       ]
      }
     ],
     "prompt_number": 288
    },
    {
     "cell_type": "code",
     "collapsed": false,
     "input": [
      "for m in hmm.find({'direct': 'Fred Vogel'},{'title','direct'}):\n",
      "    print m['title']\n",
      "    print m['direct']\n",
      "    print"
     ],
     "language": "python",
     "metadata": {},
     "outputs": [
      {
       "output_type": "stream",
       "stream": "stdout",
       "text": [
        "AUGUST UNDERGROUND\n",
        "[u'Fred Vogel']\n",
        "\n",
        "AUGUST UNDERGROUND\u2019S MORDUM\n",
        "[u'Fred Vogel', u'Killjoy De Sade', u'Jerami Cruise', u'Michael Todd Schneider', u'Cristie Whiles']\n",
        "\n",
        "AUGUST UNDERGROUND\u2019S PENANCE\n",
        "[u'Fred Vogel']\n",
        "\n"
       ]
      }
     ],
     "prompt_number": 305
    },
    {
     "cell_type": "code",
     "collapsed": false,
     "input": [
      "for m in hmm.find({'direct': 'Michael Todd Schneider'},{'title','direct'}):\n",
      "    print m['title']\n",
      "    print m['direct']\n",
      "    print"
     ],
     "language": "python",
     "metadata": {},
     "outputs": [
      {
       "output_type": "stream",
       "stream": "stdout",
       "text": [
        "AUGUST UNDERGROUND\u2019S MORDUM\n",
        "[u'Fred Vogel', u'Killjoy De Sade', u'Jerami Cruise', u'Michael Todd Schneider', u'Cristie Whiles']\n",
        "\n"
       ]
      }
     ],
     "prompt_number": 306
    }
   ],
   "metadata": {}
  }
 ]
}