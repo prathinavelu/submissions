{
 "metadata": {
  "name": "",
  "signature": "sha256:32bdfe78f1cfebc09faf9060c472ccf34586a573dd918f8d57772209fa493247"
 },
 "nbformat": 3,
 "nbformat_minor": 0,
 "worksheets": [
  {
   "cells": [
    {
     "cell_type": "code",
     "collapsed": false,
     "input": [
      "import csv\n",
      "votes= []\n",
      "\n",
      "with open('house-votes-84.data', 'rb') as csvfile:\n",
      "    csvvotes = csv.reader(csvfile, delimiter=' ', quotechar='|')\n",
      "    for row in csvvotes:\n",
      "        votes_dict = {}\n",
      "        r = row[0].split(\",\")\n",
      "        for i in range(1,18):\n",
      "            votes_dict[i] = r[i-1]\n",
      "        votes.append(votes_dict)\n"
     ],
     "language": "python",
     "metadata": {},
     "outputs": [],
     "prompt_number": 3
    },
    {
     "cell_type": "heading",
     "level": 1,
     "metadata": {},
     "source": [
      "Challenge 1"
     ]
    },
    {
     "cell_type": "code",
     "collapsed": false,
     "input": [
      "import pandas as pd\n",
      "\n",
      "df = pd.DataFrame(votes)\n",
      "\n",
      "for i in range(1,17):\n",
      "    df[i+1] = df[i+1].map({'y': 1, 'n': 0, '?':None})\n",
      "    vote_prob = df[i+1].mean()\n",
      "    df[i+1].fillna(vote_prob, inplace=True)\n",
      "    "
     ],
     "language": "python",
     "metadata": {},
     "outputs": [],
     "prompt_number": 4
    },
    {
     "cell_type": "heading",
     "level": 1,
     "metadata": {},
     "source": [
      "Challenge 2"
     ]
    },
    {
     "cell_type": "code",
     "collapsed": false,
     "input": [
      "from sklearn.cross_validation import train_test_split\n",
      "\n",
      "train_set = train_test_split(df)[0]\n",
      "test_set = train_test_split(df)[1]"
     ],
     "language": "python",
     "metadata": {},
     "outputs": [],
     "prompt_number": 5
    },
    {
     "cell_type": "heading",
     "level": 1,
     "metadata": {},
     "source": [
      "Challenge 3"
     ]
    },
    {
     "cell_type": "code",
     "collapsed": false,
     "input": [
      "from sklearn.neighbors import KNeighborsClassifier\n",
      "from sklearn.metrics import accuracy_score\n",
      "import matplotlib.pyplot as plt\n",
      "%matplotlib inline\n",
      "\n",
      "def accuracy(tr_set, te_set, model):\n",
      "    X = []\n",
      "    y= []\n",
      "    for t in tr_set:\n",
      "        X.append(t[1:17])\n",
      "        y.append(t[0])\n",
      "    model.fit(X,y)\n",
      "    y_pred = []\n",
      "    y_actual  = []\n",
      "    for t in te_set:\n",
      "        y_pred.append(model.predict(t[1:17]))\n",
      "        y_actual.append(t[0])\n",
      "    return accuracy_score(y_actual,y_pred)\n",
      "\n",
      "   \n",
      "k_results = {}\n",
      "for i in range(1,21):\n",
      "    k_results[i] = accuracy(train_set,test_set,KNeighborsClassifier(n_neighbors=i))\n",
      "\n",
      "plty = k_results.values()\n",
      "\n",
      "f = plt.figure(figsize = (10,5))\n",
      "plt.plot(plty)\n",
      "\n",
      "\n"
     ],
     "language": "python",
     "metadata": {},
     "outputs": [
      {
       "metadata": {},
       "output_type": "pyout",
       "prompt_number": 56,
       "text": [
        "[<matplotlib.lines.Line2D at 0x10ffee950>]"
       ]
      },
      {
       "metadata": {},
       "output_type": "display_data",
       "png": "[encoded data removed]",
       "text": [
        "<matplotlib.figure.Figure at 0x10f7b8e90>"
       ]
      }
     ],
     "prompt_number": 56
    },
    {
     "cell_type": "heading",
     "level": 1,
     "metadata": {},
     "source": [
      "Challenge 4"
     ]
    },
    {
     "cell_type": "code",
     "collapsed": false,
     "input": [
      "from sklearn.linear_model import LogisticRegression\n",
      "\n",
      "log_acc = accuracy(train_set,test_set,LogisticRegression())\n",
      "print log_acc"
     ],
     "language": "python",
     "metadata": {},
     "outputs": [
      {
       "output_type": "stream",
       "stream": "stdout",
       "text": [
        "0.94495412844\n"
       ]
      }
     ],
     "prompt_number": 59
    },
    {
     "cell_type": "heading",
     "level": 1,
     "metadata": {},
     "source": [
      "Challenge 5"
     ]
    },
    {
     "cell_type": "code",
     "collapsed": false,
     "input": [
      "import numpy as np\n",
      "counts = [len(df[df[1]=='democrat']),len(df[df[1]=='republican'])]\n",
      "parties = ['democrat','republican']\n",
      "\n",
      "fig = plt.figure()\n",
      "ax = plt.subplot(111)\n",
      "ax.bar(np.arange(2),counts, width=.75)\n",
      "plt.xticks(np.arange(2) + .325, ('Democrat','Republican'))\n"
     ],
     "language": "python",
     "metadata": {},
     "outputs": [
      {
       "metadata": {},
       "output_type": "pyout",
       "prompt_number": 9,
       "text": [
        "([<matplotlib.axis.XTick at 0x10f698110>,\n",
        "  <matplotlib.axis.XTick at 0x10f6a0050>],\n",
        " <a list of 2 Text xticklabel objects>)"
       ]
      },
      {
       "metadata": {},
       "output_type": "display_data",
       "png": "[encoded data removed]",
       "text": [
        "<matplotlib.figure.Figure at 0x10f29b690>"
       ]
      }
     ],
     "prompt_number": 9
    },
    {
     "cell_type": "code",
     "collapsed": false,
     "input": [
      "def simple_predictor(X,party='democrat'):\n",
      "    result = []\n",
      "    for row in X:\n",
      "        result.append(party)\n",
      "    return result\n",
      "\n",
      "def simple_accuracy(sample,party='democrat'):\n",
      "    X = []\n",
      "    y_actual = []\n",
      "    for row in sample.values:\n",
      "        X.append(row[1:17])\n",
      "        y_actual.append(row[0])\n",
      "    y_pred = simple_predictor(X,party)\n",
      "    return accuracy_score(y_actual,y_pred)\n",
      "\n",
      "print simple_accuracy(df,party='democrat')\n",
      "print simple_accuracy(df,party='republican')"
     ],
     "language": "python",
     "metadata": {},
     "outputs": [
      {
       "output_type": "stream",
       "stream": "stdout",
       "text": [
        "0.613793103448\n",
        "0.386206896552\n"
       ]
      }
     ],
     "prompt_number": 60
    },
    {
     "cell_type": "heading",
     "level": 1,
     "metadata": {},
     "source": [
      "Challenge 6"
     ]
    },
    {
     "cell_type": "code",
     "collapsed": false,
     "input": [
      "x_acc = [i for i in range(1,21)]\n",
      "acc_simple_d = [simple_accuracy(df,party = 'democrat') for x in range(1,21)]\n",
      "acc_simple_r = [simple_accuracy(df,party = 'republican') for x in range(1,21)]\n",
      "acc_log = [l_acc for x in range(1,21)]\n",
      "\n",
      "f = plt.figure(figsize = (10,5))\n",
      "plt.plot(plty,label='k-nearest')\n",
      "plt.plot(acc_simple_d,label='democrat predictor')\n",
      "plt.plot(acc_simple_r,label='republican predictor')\n",
      "plt.plot(acc_log,label='logistic regression')\n",
      "plt.ylabel('Accuracy')\n",
      "plt.xlabel('K')\n",
      "#plt.ylim([0,1])\n",
      "#plt.xlim([1,20])\n",
      "plt.legend(bbox_to_anchor=(1.05, 1), loc=2, borderaxespad=0.)"
     ],
     "language": "python",
     "metadata": {},
     "outputs": [
      {
       "metadata": {},
       "output_type": "pyout",
       "prompt_number": 61,
       "text": [
        "<matplotlib.legend.Legend at 0x10fe35650>"
       ]
      },
      {
       "metadata": {},
       "output_type": "display_data",
       "png": "[encoded data removed]",
       "text": [
        "<matplotlib.figure.Figure at 0x10fe40590>"
       ]
      }
     ],
     "prompt_number": 61
    },
    {
     "cell_type": "heading",
     "level": 1,
     "metadata": {},
     "source": [
      "Challenge 7"
     ]
    },
    {
     "cell_type": "code",
     "collapsed": false,
     "input": [
      "from sklearn.learning_curve import learning_curve\n",
      "X = []\n",
      "y = []\n",
      "for row in df.values:\n",
      "    X.append(row[1:17])\n",
      "    y.append(row[0])\n",
      "    \n",
      "    \n",
      "log_model = LogisticRegression()\n",
      "m , log_train_err, log_test_err = learning_curve(log_model,X,y)\n",
      "\n",
      "log_train_cv_err = np.mean(log_train_err,axis=1)\n",
      "log_test_cv_err = np.mean(log_test_err,axis=1)\n",
      "\n",
      "plt.title('Logistic Regression Learning Curve')\n",
      "plt.plot(m,log_train_cv_err,label='Training Error')\n",
      "plt.plot(m,log_test_cv_err,'r',label='Test Error')\n",
      "#plt.ylim([.9,1.05])\n",
      "plt.xlabel('m')\n",
      "plt.legend(bbox_to_anchor=(1.05, 1), loc=2, borderaxespad=0.)"
     ],
     "language": "python",
     "metadata": {},
     "outputs": [
      {
       "metadata": {},
       "output_type": "pyout",
       "prompt_number": 560,
       "text": [
        "<matplotlib.legend.Legend at 0x115731f10>"
       ]
      },
      {
       "metadata": {},
       "output_type": "display_data",
       "png": "[encoded data removed]",
       "text": [
        "<matplotlib.figure.Figure at 0x1151a3f90>"
       ]
      }
     ],
     "prompt_number": 560
    },
    {
     "cell_type": "code",
     "collapsed": false,
     "input": [
      "knn_model = KNeighborsClassifier(n_neighbors=2) \n",
      "m , k_train_err, k_test_err = learning_curve(knn_model,X,y)\n",
      "#print k_train_err\n",
      "\n",
      "k_train_cv_err = np.mean(k_train_err,axis=1)\n",
      "k_test_cv_err = np.mean(k_test_err,axis=1)\n",
      "\n",
      "plt.title('KNN Learning Curve')\n",
      "plt.plot(m,k_train_cv_err,label='Training Error')\n",
      "plt.plot(m,k_test_cv_err,'r',label='Test Error')\n",
      "plt.xlabel('m')\n",
      "plt.legend(bbox_to_anchor=(1.05, 1), loc=2, borderaxespad=0.)"
     ],
     "language": "python",
     "metadata": {},
     "outputs": [
      {
       "metadata": {},
       "output_type": "pyout",
       "prompt_number": 561,
       "text": [
        "<matplotlib.legend.Legend at 0x115835690>"
       ]
      },
      {
       "metadata": {},
       "output_type": "display_data",
       "png": "[encoded data removed]",
       "text": [
        "<matplotlib.figure.Figure at 0x10ff0a910>"
       ]
      }
     ],
     "prompt_number": 561
    },
    {
     "cell_type": "heading",
     "level": 1,
     "metadata": {},
     "source": [
      "Challenge 8"
     ]
    },
    {
     "cell_type": "code",
     "collapsed": false,
     "input": [
      "#Gaussian Naive Bayes\n",
      "from sklearn.naive_bayes import GaussianNB\n",
      "#SVM (Support Vector Machine) Classifier\n",
      "from sklearn.svm import SVC\n",
      "#Decision Tree\n",
      "from sklearn.tree import DecisionTreeClassifier\n",
      "#Random Forest\n",
      "from sklearn.ensemble import RandomForestClassifier\n",
      "\n",
      "\n",
      "gaussian_acc = accuracy(train_set,test_set,GaussianNB())\n",
      "print 'Gaussian Naive Bayes:'\n",
      "print gaussian_acc\n",
      "\n",
      "svc_acc = accuracy(train_set,test_set,SVC())\n",
      "print '\\nSVM:'\n",
      "print svc_acc\n",
      "\n",
      "dtc_acc = accuracy(train_set,test_set,DecisionTreeClassifier())\n",
      "print '\\nDecision Tree Classifier:'\n",
      "print dtc_acc\n",
      "\n",
      "rfc_acc = accuracy(train_set,test_set,RandomForestClassifier())\n",
      "print '\\nRandom Forest Classifier:'\n",
      "print rfc_acc\n"
     ],
     "language": "python",
     "metadata": {},
     "outputs": [
      {
       "output_type": "stream",
       "stream": "stdout",
       "text": [
        "Gaussian Naive Bayes:\n",
        "0.917431192661\n",
        "\n",
        "SVM:\n",
        "0.94495412844\n",
        "\n",
        "Decision Tree Classifier:\n",
        "0.981651376147\n",
        "\n",
        "Random Forest Classifier:"
       ]
      },
      {
       "output_type": "stream",
       "stream": "stdout",
       "text": [
        "\n",
        "0.990825688073\n"
       ]
      }
     ],
     "prompt_number": 64
    },
    {
     "cell_type": "heading",
     "level": 1,
     "metadata": {},
     "source": [
      "Challenge 9"
     ]
    },
    {
     "cell_type": "code",
     "collapsed": false,
     "input": [
      "from sklearn.cross_validation import cross_val_score\n",
      "\n",
      "print 'Logistic Regression:'\n",
      "log_cv = cross_val_score(LogisticRegression(),X,y,scoring='accuracy').mean()\n",
      "print log_cv\n",
      "\n",
      "print '\\nKNN:'\n",
      "knn_cv = cross_val_score(KNeighborsClassifier(n_neighbors=2),X,y,scoring='accuracy').mean()\n",
      "print knn_cv\n",
      "\n",
      "print '\\nGaussian Naive Bayes:'\n",
      "gnb_cv = cross_val_score(GaussianNB(),X,y,scoring='accuracy').mean()\n",
      "print gnb_cv\n",
      "\n",
      "print '\\nSVM:'\n",
      "svm_cv = cross_val_score(SVC(),X,y,scoring='accuracy').mean()\n",
      "print svm_cv\n",
      "\n",
      "print '\\nDecision Tree Classifier:'\n",
      "dtc_cv = cross_val_score(DecisionTreeClassifier(),X,y,scoring='accuracy').mean()\n",
      "print dtc_cv\n",
      "\n",
      "print '\\nRandom Forest Classifier:'\n",
      "rfc_cv = cross_val_score(RandomForestClassifier(),X,y,scoring='accuracy').mean()\n",
      "print rfc_cv\n"
     ],
     "language": "python",
     "metadata": {},
     "outputs": [
      {
       "output_type": "stream",
       "stream": "stdout",
       "text": [
        "Logistic Regression:\n",
        "0.96091954023\n",
        "\n",
        "KNN:\n",
        "0.951724137931\n",
        "\n",
        "Gaussian Naive Bayes:\n",
        "0.931034482759"
       ]
      },
      {
       "output_type": "stream",
       "stream": "stdout",
       "text": [
        "\n",
        "\n",
        "SVM:\n",
        "0.954022988506\n",
        "\n",
        "Decision Tree Classifier:\n",
        "0.95632183908\n",
        "\n",
        "Random Forest Classifier:\n",
        "0.958620689655"
       ]
      },
      {
       "output_type": "stream",
       "stream": "stdout",
       "text": [
        "\n"
       ]
      }
     ],
     "prompt_number": 65
    },
    {
     "cell_type": "heading",
     "level": 1,
     "metadata": {},
     "source": [
      "Challenge 10"
     ]
    },
    {
     "cell_type": "code",
     "collapsed": false,
     "input": [
      "df_new = pd.DataFrame(votes)\n",
      "\n",
      "for i in range(1,17):\n",
      "    df_new[i+1] = df_new[i+1].map({'y': 1, 'n': 0, '?':None})\n",
      "    df_new[i+1].fillna(df_new[i+1].mode()[0],inplace=True)\n",
      "#df_new.fillna(df_new.mode(),inplace=True)\n",
      "\n",
      "X_vote2 = []\n",
      "y_vote2 = []\n",
      "for row in df_new.values:\n",
      "    X_vote2.append(row[2:17])\n",
      "    y_vote2.append(row[1])\n",
      "    \n",
      "log_cv_vote = cross_val_score(LogisticRegression(),X_vote2,y_vote2,scoring='accuracy').mean()\n",
      "print 'Logistic Regression CV Score:'\n",
      "print log_cv_vote\n",
      "\n",
      "knn_cv_vote = cross_val_score(KNeighborsClassifier(n_neighbors=2),X_vote2,y_vote2,scoring='accuracy').mean()\n",
      "print '\\nKNN CV Score:'\n",
      "print knn_cv_vote\n"
     ],
     "language": "python",
     "metadata": {},
     "outputs": [
      {
       "output_type": "stream",
       "stream": "stdout",
       "text": [
        "Logistic Regression CV Score:\n",
        "0.6756145139\n",
        "\n",
        "KNN CV Score:\n",
        "0.61122920275\n"
       ]
      }
     ],
     "prompt_number": 266
    },
    {
     "cell_type": "heading",
     "level": 1,
     "metadata": {},
     "source": [
      "Challenge 11"
     ]
    },
    {
     "cell_type": "code",
     "collapsed": true,
     "input": [
      "import pickle\n",
      "\n",
      "with open('movie_data_dict_yearly.pkl','rb') as infile:\n",
      "    movie_data_all = pickle.load(infile)\n",
      "movie_data = filter(None,movie_data_all)\n",
      "\n",
      "movies = pd.DataFrame(movie_data)\n",
      "\n",
      "movies = movies[movies['budget'] != 'N/A'] \n",
      "movies = movies[movies['domestic_total_gross'] != 'N/A'] \n",
      "movies = movies[movies['opening_weekend_gross'] != 'N/A']\n",
      "movies = movies[movies['runtime'] != 'N/A']\n",
      "#movies = movies[movies['release date'] != 'N/A']"
     ],
     "language": "python",
     "metadata": {},
     "outputs": [],
     "prompt_number": 320
    },
    {
     "cell_type": "code",
     "collapsed": true,
     "input": [
      "movies['year'] = movies['release date'].apply(lambda x: x.year)\n",
      "movies['month'] = movies['release date'].apply(lambda x: x.month)\n",
      "\n",
      "m = movies.drop('director',1)\n",
      "movies_clean = m.drop('release date',1).drop('movie title',1)\n"
     ],
     "language": "python",
     "metadata": {},
     "outputs": [],
     "prompt_number": 321
    },
    {
     "cell_type": "code",
     "collapsed": false,
     "input": [
      "movies_by_rating = movies_clean.groupby('rating')\n",
      "ratings = movies_by_rating.groups.keys()\n",
      "\n",
      "rating_counts ={}\n",
      "for r in ratings:\n",
      "    rating_counts[r]= len(movies_by_rating.get_group(r))\n",
      "    \n",
      "fig = plt.figure(figsize=[10,5])\n",
      "ax = plt.subplot(111)\n",
      "ax.bar(np.arange(6),rating_counts.values(), width=.75)\n",
      "plt.xticks(np.arange(6) + .325, rating_counts.keys())\n"
     ],
     "language": "python",
     "metadata": {},
     "outputs": [
      {
       "metadata": {},
       "output_type": "pyout",
       "prompt_number": 322,
       "text": [
        "([<matplotlib.axis.XTick at 0x111014290>,\n",
        "  <matplotlib.axis.XTick at 0x113fffa10>,\n",
        "  <matplotlib.axis.XTick at 0x114695f10>,\n",
        "  <matplotlib.axis.XTick at 0x1114b19d0>,\n",
        "  <matplotlib.axis.XTick at 0x1114b1390>,\n",
        "  <matplotlib.axis.XTick at 0x1141a6210>],\n",
        " <a list of 6 Text xticklabel objects>)"
       ]
      },
      {
       "metadata": {},
       "output_type": "display_data",
       "png": "[encoded data removed]",
       "text": [
        "<matplotlib.figure.Figure at 0x11217cf50>"
       ]
      }
     ],
     "prompt_number": 322
    },
    {
     "cell_type": "code",
     "collapsed": false,
     "input": [
      "m = movies_clean\n",
      "features = [r for r in movies_clean if r != 'rating']"
     ],
     "language": "python",
     "metadata": {},
     "outputs": [],
     "prompt_number": 545
    },
    {
     "cell_type": "code",
     "collapsed": false,
     "input": [
      "def stupid_predictor(X):\n",
      "    result = []\n",
      "    for row in X:\n",
      "        result.append('R')\n",
      "    return result\n",
      "\n",
      "movie_train_set = train_test_split(movies_clean)[0]\n",
      "movie_test_set = train_test_split(movies_clean)[1]\n",
      "\n",
      "\n",
      "def rating_predictor_accuracy(tr_set,te_set,model,coef=0):\n",
      "    X_train= []\n",
      "    y_train= []\n",
      "    for row in tr_set:\n",
      "        l = list(row)\n",
      "        y = l.pop(3)\n",
      "        X_train.append(l)\n",
      "        y_train.append(y)  \n",
      "        \n",
      "    model.fit(X_train,y_train)\n",
      "    \n",
      "    y_pred= []\n",
      "    y_actual= []\n",
      "    for row in te_set:\n",
      "        l = list(row)\n",
      "        y = l.pop(3)\n",
      "        y_actual.append(y)\n",
      "        y_pred.append(model.predict(l))\n",
      "        \n",
      "    \n",
      "    if coef==1:\n",
      "        return [accuracy_score(y_actual,y_pred),model.coef_]\n",
      "    else: \n",
      "        return accuracy_score(y_actual,y_pred)\n",
      "\n",
      "def stupid_predictor_accuracy(te_set):\n",
      "    X= []\n",
      "    y_actual= []\n",
      "    for row in te_set:\n",
      "        l = list(row)\n",
      "        y = l.pop(3)\n",
      "        X.append(l)\n",
      "        y_actual.append(y)\n",
      "    y_pred = stupid_predictor(X)\n",
      "    return accuracy_score(y_actual,y_pred)\n",
      "\n"
     ],
     "language": "python",
     "metadata": {},
     "outputs": [],
     "prompt_number": 554
    },
    {
     "cell_type": "code",
     "collapsed": false,
     "input": [
      "print 'Stupid Predictor Accuracy: '+str(stupid_predictor_accuracy(movie_test_set))"
     ],
     "language": "python",
     "metadata": {},
     "outputs": [
      {
       "output_type": "stream",
       "stream": "stdout",
       "text": [
        "Stupid Predictor Accuracy: 0.433681073025\n"
       ]
      }
     ],
     "prompt_number": 555
    },
    {
     "cell_type": "code",
     "collapsed": false,
     "input": [
      "log_movie_acc = rating_predictor_accuracy(movie_train_set,movie_test_set,LogisticRegression(),coef=1)\n",
      "print 'Logistic Regression Accuracy: '+str(log_movie_acc[0])\n",
      "print '\\nCoefficients:'\n",
      "\n",
      "for i in range(len(ratings)):\n",
      "    print '\\n'+str(ratings[i])\n",
      "    for j in range(len(features)):\n",
      "        print features[j] +' '+str(log_movie_acc[1][i][j])\n",
      "\n"
     ],
     "language": "python",
     "metadata": {},
     "outputs": [
      {
       "output_type": "stream",
       "stream": "stdout",
       "text": [
        "Logistic Regression Accuracy: 0.362146050671\n",
        "\n",
        "Coefficients:\n",
        "\n",
        "G\n",
        "budget -7.72913292047e-08\n",
        "domestic_total_gross 2.39533980395e-09\n",
        "opening_weekend_gross -4.76514583703e-08\n",
        "runtime -7.43027635673e-12\n",
        "year -1.35654063421e-10\n",
        "month -4.64526400622e-13\n",
        "\n",
        "NC-17\n",
        "budget -5.47199331005e-07\n",
        "domestic_total_gross -2.42794772061e-07\n",
        "opening_weekend_gross -4.41593224223e-07\n",
        "runtime -1.89215016133e-10\n",
        "year -4.10822749588e-09\n",
        "month -1.29374022842e-11\n",
        "\n",
        "PG-13\n",
        "budget -2.4949651275e-12\n",
        "domestic_total_gross 1.60699845611e-09\n",
        "opening_weekend_gross -6.19857487434e-08\n",
        "runtime -3.86064822119e-12\n",
        "year -7.01712475959e-11\n",
        "month -2.45721878269e-13\n",
        "\n",
        "R\n",
        "budget -3.21672497125e-12\n",
        "domestic_total_gross -4.04560405471e-09\n",
        "opening_weekend_gross 1.45469476989e-08\n",
        "runtime -7.7216707033e-13\n",
        "year -1.49388099416e-11\n",
        "month -5.65459200679e-14\n",
        "\n",
        "PG\n",
        "budget 1.883744095e-13\n",
        "domestic_total_gross -4.64702023933e-09\n",
        "opening_weekend_gross -1.17030257393e-08\n",
        "runtime 4.54232065048e-13\n",
        "year 6.13584705992e-12\n",
        "month 3.23644828405e-14\n",
        "\n",
        "Unrated\n",
        "budget -6.66819641663e-13\n",
        "domestic_total_gross -7.35721951471e-07\n",
        "opening_weekend_gross -4.20304637086e-07\n",
        "runtime -2.16932505275e-10\n",
        "year -4.39807901206e-09\n",
        "month -1.58773364466e-11\n"
       ]
      }
     ],
     "prompt_number": 556
    },
    {
     "cell_type": "code",
     "collapsed": false,
     "input": [
      "knn_movie_acc = rating_predictor_accuracy(movie_train_set,movie_test_set,KNeighborsClassifier(n_neighbors=2))\n",
      "print 'KNN Accuracy: ' + str(knn_movie_acc)"
     ],
     "language": "python",
     "metadata": {},
     "outputs": [
      {
       "output_type": "stream",
       "stream": "stdout",
       "text": [
        "KNN Accuracy: 0.593144560358\n"
       ]
      }
     ],
     "prompt_number": 557
    },
    {
     "cell_type": "heading",
     "level": 1,
     "metadata": {},
     "source": [
      "Challenge 12"
     ]
    },
    {
     "cell_type": "code",
     "collapsed": false,
     "input": [
      "patients= []\n",
      "\n",
      "with open('haberman.data', 'rb') as csvfile:\n",
      "    csvdata = csv.reader(csvfile, delimiter=' ', quotechar='|')\n",
      "    for row in csvdata:\n",
      "        dict = {}\n",
      "        r = row[0].split(\",\")\n",
      "        dict['age']=int(r[0])\n",
      "        dict['year']=int(r[1])\n",
      "        dict['nodes']=int(r[2])\n",
      "        dict['survival']=int(r[3])\n",
      "        patients.append(dict)\n"
     ],
     "language": "python",
     "metadata": {},
     "outputs": [],
     "prompt_number": 443
    },
    {
     "cell_type": "code",
     "collapsed": false,
     "input": [
      "cancer_df = pd.DataFrame(patients)\n",
      "\n",
      "print cancer_df['age'].mean()\n",
      "print cancer_df['age'].std()"
     ],
     "language": "python",
     "metadata": {},
     "outputs": [
      {
       "output_type": "stream",
       "stream": "stdout",
       "text": [
        "52.4575163399\n",
        "10.8034523493\n"
       ]
      }
     ],
     "prompt_number": 450
    },
    {
     "cell_type": "code",
     "collapsed": false,
     "input": [
      "grouped = cancer_df.groupby('survival')\n",
      "grouped.mean()"
     ],
     "language": "python",
     "metadata": {},
     "outputs": [
      {
       "html": [
        "<div style=\"max-height:1000px;max-width:1500px;overflow:auto;\">\n",
        "<table border=\"1\" class=\"dataframe\">\n",
        "  <thead>\n",
        "    <tr style=\"text-align: right;\">\n",
        "      <th></th>\n",
        "      <th>age</th>\n",
        "      <th>nodes</th>\n",
        "      <th>year</th>\n",
        "    </tr>\n",
        "    <tr>\n",
        "      <th>survival</th>\n",
        "      <th></th>\n",
        "      <th></th>\n",
        "      <th></th>\n",
        "    </tr>\n",
        "  </thead>\n",
        "  <tbody>\n",
        "    <tr>\n",
        "      <th>1</th>\n",
        "      <td> 52.017778</td>\n",
        "      <td> 2.791111</td>\n",
        "      <td> 62.862222</td>\n",
        "    </tr>\n",
        "    <tr>\n",
        "      <th>2</th>\n",
        "      <td> 53.679012</td>\n",
        "      <td> 7.456790</td>\n",
        "      <td> 62.827160</td>\n",
        "    </tr>\n",
        "  </tbody>\n",
        "</table>\n",
        "</div>"
       ],
       "metadata": {},
       "output_type": "pyout",
       "prompt_number": 463,
       "text": [
        "                age     nodes       year\n",
        "survival                                \n",
        "1         52.017778  2.791111  62.862222\n",
        "2         53.679012  7.456790  62.827160"
       ]
      }
     ],
     "prompt_number": 463
    },
    {
     "cell_type": "code",
     "collapsed": false,
     "input": [
      "grouped = cancer_df.groupby('survival')\n",
      "grouped.std()"
     ],
     "language": "python",
     "metadata": {},
     "outputs": [
      {
       "html": [
        "<div style=\"max-height:1000px;max-width:1500px;overflow:auto;\">\n",
        "<table border=\"1\" class=\"dataframe\">\n",
        "  <thead>\n",
        "    <tr style=\"text-align: right;\">\n",
        "      <th></th>\n",
        "      <th>age</th>\n",
        "      <th>nodes</th>\n",
        "      <th>year</th>\n",
        "    </tr>\n",
        "    <tr>\n",
        "      <th>survival</th>\n",
        "      <th></th>\n",
        "      <th></th>\n",
        "      <th></th>\n",
        "    </tr>\n",
        "  </thead>\n",
        "  <tbody>\n",
        "    <tr>\n",
        "      <th>1</th>\n",
        "      <td> 11.012154</td>\n",
        "      <td> 5.870318</td>\n",
        "      <td> 3.222915</td>\n",
        "    </tr>\n",
        "    <tr>\n",
        "      <th>2</th>\n",
        "      <td> 10.167137</td>\n",
        "      <td> 9.185654</td>\n",
        "      <td> 3.342118</td>\n",
        "    </tr>\n",
        "  </tbody>\n",
        "</table>\n",
        "</div>"
       ],
       "metadata": {},
       "output_type": "pyout",
       "prompt_number": 465,
       "text": [
        "                age     nodes      year\n",
        "survival                               \n",
        "1         11.012154  5.870318  3.222915\n",
        "2         10.167137  9.185654  3.342118"
       ]
      }
     ],
     "prompt_number": 465
    },
    {
     "cell_type": "code",
     "collapsed": false,
     "input": [
      "plt.hist(cancer_df['age'])\n",
      "plt.title('Cancer Patients Age Distribution')"
     ],
     "language": "python",
     "metadata": {},
     "outputs": [
      {
       "metadata": {},
       "output_type": "pyout",
       "prompt_number": 563,
       "text": [
        "<matplotlib.text.Text at 0x115c02490>"
       ]
      },
      {
       "metadata": {},
       "output_type": "display_data",
       "png": "[encoded data removed]",
       "text": [
        "<matplotlib.figure.Figure at 0x115042350>"
       ]
      }
     ],
     "prompt_number": 563
    },
    {
     "cell_type": "code",
     "collapsed": false,
     "input": [
      "plt.hist(cancer_df['nodes'],color='g')\n",
      "plt.title('Cancer Patients Node Distribution')"
     ],
     "language": "python",
     "metadata": {},
     "outputs": [
      {
       "metadata": {},
       "output_type": "pyout",
       "prompt_number": 564,
       "text": [
        "<matplotlib.text.Text at 0x115d88f90>"
       ]
      },
      {
       "metadata": {},
       "output_type": "display_data",
       "png": "[encoded data removed]",
       "text": [
        "<matplotlib.figure.Figure at 0x115bef050>"
       ]
      }
     ],
     "prompt_number": 564
    },
    {
     "cell_type": "code",
     "collapsed": false,
     "input": [
      "print '19%s' % cancer_df['year'].min()"
     ],
     "language": "python",
     "metadata": {},
     "outputs": [
      {
       "output_type": "stream",
       "stream": "stdout",
       "text": [
        "1958\n"
       ]
      }
     ],
     "prompt_number": 480
    },
    {
     "cell_type": "code",
     "collapsed": false,
     "input": [
      "print '19%s' % cancer_df['year'].max()"
     ],
     "language": "python",
     "metadata": {},
     "outputs": [
      {
       "output_type": "stream",
       "stream": "stdout",
       "text": [
        "1969\n"
       ]
      }
     ],
     "prompt_number": 482
    },
    {
     "cell_type": "code",
     "collapsed": false,
     "input": [
      "cancer_train_set = train_test_split(cancer_df)[0]\n",
      "cancer_test_set = train_test_split(cancer_df)[1]"
     ],
     "language": "python",
     "metadata": {},
     "outputs": [],
     "prompt_number": 487
    },
    {
     "cell_type": "code",
     "collapsed": false,
     "input": [
      "y_train = []\n",
      "X_train = []\n",
      "\n",
      "for row in cancer_train_set:\n",
      "    l = list(row)\n",
      "    y = l.pop(2)\n",
      "    y_train.append(y)\n",
      "    X_train.append(l)\n",
      "\n",
      "cancer_logmodel = LogisticRegression()\n",
      "cancer_logmodel.fit(X_train,y_train)\n",
      "\n",
      "y_pred = []\n",
      "y_actual = []\n",
      "for row in cancer_test_set:\n",
      "    l = list(row)\n",
      "    y = l.pop(2)\n",
      "    y_actual.append(y)\n",
      "    y_pred.append(cancer_logmodel.predict(l))\n",
      "    \n",
      "cancer_log_acc = accuracy_score(y_actual,y_pred)\n",
      "\n",
      "print cancer_log_acc"
     ],
     "language": "python",
     "metadata": {},
     "outputs": [
      {
       "output_type": "stream",
       "stream": "stdout",
       "text": [
        "0.701298701299\n"
       ]
      }
     ],
     "prompt_number": 514
    },
    {
     "cell_type": "code",
     "collapsed": false,
     "input": [
      "c = cancer_logmodel.coef_\n",
      "print 'Coefficients:'\n",
      "print 'Age :' + str(c[0][0])\n",
      "print 'Nodes :' + str(c[0][1])\n",
      "print 'Year :' + str(c[0][2])"
     ],
     "language": "python",
     "metadata": {},
     "outputs": [
      {
       "output_type": "stream",
       "stream": "stdout",
       "text": [
        "Coefficients:\n",
        "Age :0.012205667999\n",
        "Nodes :0.082209373641\n",
        "Year :-0.0315023233736\n"
       ]
      }
     ],
     "prompt_number": 520
    },
    {
     "cell_type": "code",
     "collapsed": false,
     "input": [
      "cancer_y = []\n",
      "cancer_X = []\n",
      "\n",
      "for row in cancer_df.values:\n",
      "    l = list(row)\n",
      "    y = l.pop(2)\n",
      "    cancer_y.append(y)\n",
      "    cancer_X.append(l)\n",
      "\n",
      "m , log_train_err, log_test_err = learning_curve(LogisticRegression(),cancer_X,cancer_y)\n",
      "\n",
      "log_train_cv_err = np.mean(log_train_err,axis=1)\n",
      "log_test_cv_err = np.mean(log_test_err,axis=1)\n",
      "\n",
      "plt.title('Logistic Regression Learning Curve')\n",
      "plt.plot(m,log_train_cv_err,label = 'Training Error')\n",
      "plt.plot(m,log_test_cv_err,'r',label = 'Test Error')\n",
      "plt.xlabel('m')\n",
      "plt.legend(bbox_to_anchor=(1.05, 1), loc=2, borderaxespad=0.)"
     ],
     "language": "python",
     "metadata": {},
     "outputs": [
      {
       "metadata": {},
       "output_type": "pyout",
       "prompt_number": 562,
       "text": [
        "<matplotlib.legend.Legend at 0x115a062d0>"
       ]
      },
      {
       "metadata": {},
       "output_type": "display_data",
       "png": "[encoded data removed]",
       "text": [
        "<matplotlib.figure.Figure at 0x1158c3c10>"
       ]
      }
     ],
     "prompt_number": 562
    }
   ],
   "metadata": {}
  }
 ]
}