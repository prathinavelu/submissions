{
 "metadata": {
  "name": "",
  "signature": "sha256:b6ae9f5173f68c9879334014fc3b471fc2802e4967b223aae7f27d1dd9236dfb"
 },
 "nbformat": 3,
 "nbformat_minor": 0,
 "worksheets": [
  {
   "cells": [
    {
     "cell_type": "heading",
     "level": 1,
     "metadata": {},
     "source": [
      "SQL Challenges"
     ]
    },
    {
     "cell_type": "heading",
     "level": 4,
     "metadata": {},
     "source": [
      "Who has played the most matches total in all of US Open, AUST Open, French Open?\n",
      "Answer this both for men and women."
     ]
    },
    {
     "cell_type": "raw",
     "metadata": {},
     "source": [
      "CREATE TABLE all_mens_matches SELECT * FROM us_men_2013 UNION ALL SELECT * FROM aus_men_2013 UNION ALL SELECT * FROM french_men_2013;\n",
      "CREATE TABLE all_mens_players SELECT player1 FROM all_mens_matches UNION ALL SELECT player2 FROM all_mens_matches; \n",
      "\n",
      "CREATE TABLE all_womens_matches SELECT * FROM us_women_2013 UNION ALL SELECT * FROM aus_women_2013 UNION ALL SELECT * FROM french_women_2013;\n",
      "CREATE TABLE all_womens_players SELECT player1 FROM all_womens_matches UNION ALL SELECT player2 FROM all_womens_matches; "
     ]
    },
    {
     "cell_type": "raw",
     "metadata": {},
     "source": [
      "SELECT player1, count(*) as matches_count FROM all_players GROUP BY player1 ORDER BY matches_count DESC LIMIT 5;\n",
      "+--------------------+---------------+\n",
      "| player1            | matches_count |\n",
      "+--------------------+---------------+\n",
      "| Rafael Nadal       |            21 |\n",
      "| Stanislas Wawrinka |            17 |\n",
      "| Novak Djokovic     |            17 |\n",
      "| David Ferrer       |            17 |\n",
      "| Roger Federer      |            15 |\n",
      "+--------------------+---------------+\n"
     ]
    },
    {
     "cell_type": "raw",
     "metadata": {},
     "source": [
      "SELECT player1, count(*) as matches_count FROM all_womens_players GROUP BY player1 ORDER BY matches_count DESC LIMIT 5;\n",
      "+---------------------+---------------+\n",
      "| player1             | matches_count |\n",
      "+---------------------+---------------+\n",
      "| Victoria Azarenka   |            11 |\n",
      "| Maria Sharapova     |            11 |\n",
      "| Serena Williams     |            11 |\n",
      "| Agnieszka Radwanska |            11 |\n",
      "| Dominika Cibulkova  |             9 |\n",
      "+---------------------+---------------+\n"
     ]
    },
    {
     "cell_type": "heading",
     "level": 4,
     "metadata": {},
     "source": [
      "Who has the highest first serve percentage? (Just the maximum value in a single match)"
     ]
    },
    {
     "cell_type": "raw",
     "metadata": {},
     "source": [
      "SELECT player1, fsp_1 FROM all_mens_matches UNION ALL select player2, fsp_2 FROM all_mens_matches ORDER BY fsp_1 DESC LIMIT 5;\n",
      "+-----------------------+-------+\n",
      "| player1               | fsp_1 |\n",
      "+-----------------------+-------+\n",
      "| Gael Monfils          | 84    |\n",
      "| Carlos Berlocq        | 84    |\n",
      "| Rafael Nadal          | 84    |\n",
      "| Roberto Bautista Agut | 83    |\n",
      "| Gael Monfils          | 83    |\n",
      "+-----------------------+-------+"
     ]
    },
    {
     "cell_type": "raw",
     "metadata": {},
     "source": [
      "SELECT player1, fsp_1 FROM all_womens_matches UNION ALL select player2, fsp_2 FROM all_womens_matches ORDER BY fsp_1 DESC LIMIT 5;\n",
      "+-------------------+-------+\n",
      "| player1           | fsp_1 |\n",
      "+-------------------+-------+\n",
      "| S Errani          | 93    |\n",
      "| Sara Errani       | 91    |\n",
      "| Sara Errani       | 89    |\n",
      "| Victoria Azarenka | 88    |\n",
      "| Sara Errani       | 87    |\n",
      "+-------------------+-------+"
     ]
    },
    {
     "cell_type": "heading",
     "level": 4,
     "metadata": {},
     "source": [
      "What are the unforced error percentages of the top three players with the most wins? (unforced error percentage is % of points lost due to unforced errors. In a match, you have fields for number of points won by each player, and number of unforced errors for each field)."
     ]
    },
    {
     "cell_type": "raw",
     "metadata": {},
     "source": [
      "CREATE TABLE mens_winners AS SELECT player1,ufe_1 as errors,tpw_2 as pointslost FROM all_mens_matches WHERE result=1 UNION ALL SELECT player2, ufe_2 as errors,tpw_1 as pointslost FROM all_mens_matches WHERE result=0;\n",
      "\n",
      "CREATE TABLE womens_winners AS SELECT player1,ufe_1 as errors,tpw_2 as pointslost FROM all_womens_matches WHERE result=1 UNION ALL SELECT player2, ufe_2 as errors,tpw_1 as pointslost FROM all_womens_matches WHERE result=0;"
     ]
    },
    {
     "cell_type": "raw",
     "metadata": {},
     "source": [
      "select player1, count(player1) as wins,sum(errors)/sum(pointslost) as unforced_error_percentage FROM mens_winners GROUP BY player1 ORDER BY count(player1) DESC LIMIT 5;\n",
      "+--------------------+------+---------------------------+\n",
      "| player1            | wins | unforced_error_percentage |\n",
      "+--------------------+------+---------------------------+\n",
      "| Rafael Nadal       |   20 |        0.2075134168157424 |\n",
      "| Stanislas Wawrinka |   15 |         0.251500600240096 |\n",
      "| Novak Djokovic     |   14 |       0.20829576194770064 |\n",
      "| David Ferrer       |   14 |       0.21508828250401285 |\n",
      "| Roger Federer      |   12 |          0.29806598407281 |\n",
      "+--------------------+------+---------------------------+"
     ]
    },
    {
     "cell_type": "raw",
     "metadata": {},
     "source": [
      "select player1, count(player1) as wins,sum(errors)/sum(pointslost) as unforced_error_percentage FROM womens_winners GROUP BY player1 ORDER BY count(player1) DESC LIMIT 5;\n",
      "+---------------------+------+---------------------------+\n",
      "| player1             | wins | unforced_error_percentage |\n",
      "+---------------------+------+---------------------------+\n",
      "| Serena Williams     |   10 |        0.4529262086513995 |\n",
      "| Victoria Azarenka   |    9 |        0.3919491525423729 |\n",
      "| Agnieszka Radwanska |    9 |         0.252465483234714 |\n",
      "| Na Li               |    8 |        0.5238095238095238 |\n",
      "| Maria Sharapova     |    8 |         0.525974025974026 |\n",
      "+---------------------+------+---------------------------+\n"
     ]
    },
    {
     "cell_type": "heading",
     "level": 6,
     "metadata": {},
     "source": [
      "Some of the men's matches didn't record unforced errors. Here are the percentages excluding those matches:"
     ]
    },
    {
     "cell_type": "raw",
     "metadata": {},
     "source": [
      "Some of the men's matches didn't record unforced errors. Here are the percentages excluding those matches:\n",
      "\n",
      "select player1, count(player1) as wins,sum(errors)/sum(pointslost) as unforced_error_percentage FROM winners WHERE errors >0  GROUP BY player1 ORDER BY count(player1) DESC LIMIT 5;\n",
      "+--------------------+------+---------------------------+\n",
      "| player1            | wins | unforced_error_percentage |\n",
      "+--------------------+------+---------------------------+\n",
      "| Rafael Nadal       |   13 |        0.3005181347150259 |\n",
      "| Stanislas Wawrinka |   10 |        0.3612068965517241 |\n",
      "| David Ferrer       |   10 |        0.3341645885286783 |\n",
      "| Novak Djokovic     |    9 |        0.3397058823529412 |\n",
      "| Roger Federer      |    9 |        0.3732193732193732 |\n",
      "+--------------------+------+---------------------------+\n"
     ]
    }
   ],
   "metadata": {}
  }
 ]
}