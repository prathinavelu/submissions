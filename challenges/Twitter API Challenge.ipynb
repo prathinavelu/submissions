{
 "metadata": {
  "name": "",
  "signature": "sha256:d0d2f4a1a0a9de4330b79ca8ce36df0cfb3f263fe7bbbd3ee87629d05e7a1f0b"
 },
 "nbformat": 3,
 "nbformat_minor": 0,
 "worksheets": [
  {
   "cells": [
    {
     "cell_type": "code",
     "collapsed": false,
     "input": [
      "import requests\n",
      "from requests_oauthlib import OAuth1\n",
      "import tweepy\n",
      "from pymongo import MongoClient\n",
      "client = MongoClient()\n",
      "congress = client.dsbc.congress"
     ],
     "language": "python",
     "metadata": {},
     "outputs": [],
     "prompt_number": 17
    },
    {
     "cell_type": "code",
     "collapsed": false,
     "input": [
      "consumer_key = \"u3YQ8gKfXGs7Uc9WcDIo8LZw4\"\n",
      "consumer_secret = \"GDSymPoZGYdIbjJLw1Wgm7GE3p8LnQbqY1LGWPYCMs6rqeemLP\"\n",
      "access_token = \"2828159875-jF5oTVCpmW3AyTMic26GUD6ByS6ZSskTedRepU4\"\n",
      "access_secret = \"2X59xSlGHHlKaVTwmlbLDDnodDqakAuazIHmIRA0xmM0w\"\n",
      "\n",
      "auth = tweepy.OAuthHandler(consumer_key, consumer_secret)\n",
      "auth.set_access_token(access_token, access_secret)\n",
      "api = tweepy.API(auth)"
     ],
     "language": "python",
     "metadata": {},
     "outputs": [],
     "prompt_number": 18
    },
    {
     "cell_type": "code",
     "collapsed": false,
     "input": [
      "congressmen = []\n",
      "for person in api.list_members('cspan','members-of-congress',count=500):\n",
      "    congressmen.append(person.screen_name)"
     ],
     "language": "python",
     "metadata": {},
     "outputs": [],
     "prompt_number": 19
    },
    {
     "cell_type": "code",
     "collapsed": false,
     "input": [
      "congress.remove()"
     ],
     "language": "python",
     "metadata": {},
     "outputs": [
      {
       "metadata": {},
       "output_type": "pyout",
       "prompt_number": 15,
       "text": [
        "{u'n': 97030, u'ok': 1}"
       ]
      }
     ],
     "prompt_number": 15
    },
    {
     "cell_type": "code",
     "collapsed": false,
     "input": [
      "import time\n",
      "for name in congressmen:\n",
      "    time.sleep(5)\n",
      "    tweets = api.user_timeline(name, count=3000)\n",
      "    for tweet in tweets:\n",
      "        d = {}\n",
      "        d['id'] = tweet.id\n",
      "        d['user'] = tweet.user.screen_name\n",
      "        d['date'] = tweet.created_at\n",
      "        d['text'] = tweet.text\n",
      "        d['favorite_count'] = tweet.favorite_count\n",
      "        d['retweet_count'] = tweet.retweet_count\n",
      "        d['followers'] = tweet.user.followers_count\n",
      "        d['description'] = tweet.user.description\n",
      "        d['location'] = tweet.user.location\n",
      "        congress.insert(d)"
     ],
     "language": "python",
     "metadata": {},
     "outputs": [],
     "prompt_number": 20
    },
    {
     "cell_type": "code",
     "collapsed": false,
     "input": [
      "x= api.user_timeline(congressmen[0],count=1)"
     ],
     "language": "python",
     "metadata": {},
     "outputs": [],
     "prompt_number": 253
    },
    {
     "cell_type": "code",
     "collapsed": false,
     "input": [
      "congress.count()"
     ],
     "language": "python",
     "metadata": {},
     "outputs": [
      {
       "metadata": {},
       "output_type": "pyout",
       "prompt_number": 322,
       "text": [
        "96964"
       ]
      }
     ],
     "prompt_number": 322
    },
    {
     "cell_type": "code",
     "collapsed": false,
     "input": [
      "l = [t['text'] for t in congress.find() if t['text'][:3] == 'RT ']\n",
      "print len(l)"
     ],
     "language": "python",
     "metadata": {},
     "outputs": [
      {
       "output_type": "stream",
       "stream": "stdout",
       "text": [
        "18737\n"
       ]
      }
     ],
     "prompt_number": 323
    },
    {
     "cell_type": "code",
     "collapsed": false,
     "input": [
      "congressmen_ids = []\n",
      "for person in api.list_members('cspan','members-of-congress',count=500):\n",
      "    congressmen_ids.append(person.id_str)"
     ],
     "language": "python",
     "metadata": {},
     "outputs": [],
     "prompt_number": 432
    },
    {
     "cell_type": "code",
     "collapsed": false,
     "input": [
      "for i in range(6):\n",
      "    y = 2009 + i\n",
      "    print y\n",
      "    print len([x for x in dates if x.year == y])\n",
      "    print"
     ],
     "language": "python",
     "metadata": {},
     "outputs": [
      {
       "output_type": "stream",
       "stream": "stdout",
       "text": [
        "2009\n",
        "12\n",
        "\n",
        "2010\n",
        "186"
       ]
      },
      {
       "output_type": "stream",
       "stream": "stdout",
       "text": [
        "\n",
        "\n",
        "2011\n",
        "445"
       ]
      },
      {
       "output_type": "stream",
       "stream": "stdout",
       "text": [
        "\n",
        "\n",
        "2012\n",
        "1632"
       ]
      },
      {
       "output_type": "stream",
       "stream": "stdout",
       "text": [
        "\n",
        "\n",
        "2013\n",
        "7479"
       ]
      },
      {
       "output_type": "stream",
       "stream": "stdout",
       "text": [
        "\n",
        "\n",
        "2014\n",
        "87210"
       ]
      },
      {
       "output_type": "stream",
       "stream": "stdout",
       "text": [
        "\n",
        "\n"
       ]
      }
     ],
     "prompt_number": 334
    },
    {
     "cell_type": "code",
     "collapsed": false,
     "input": [
      "# sunlight_key = '7ef8a11e218443dcb3867207a3a9172d'\n",
      "# sunlight_response = requests.get(\"http://capitolwords.org/api/1/text.json\",\n",
      "#                         params = parameters,\n",
      "#                         auth=sunlight_key)"
     ],
     "language": "python",
     "metadata": {},
     "outputs": [],
     "prompt_number": 232
    },
    {
     "cell_type": "code",
     "collapsed": false,
     "input": [
      "capitolwords = client.dsbc.capitolwords"
     ],
     "language": "python",
     "metadata": {},
     "outputs": [],
     "prompt_number": 4
    },
    {
     "cell_type": "code",
     "collapsed": false,
     "input": [
      "import math\n",
      "s = 'http://capitolwords.org/api/1/text.json?start_date=2011-01-01&apikey=7ef8a11e218443dcb3867207a3a9172d'\n",
      "\n",
      "req0 = requests.get(s).json()\n",
      "num = req0['num_found']\n",
      "count = len(req0['results'])\n",
      "pages = int(math.ceil(float(num)/count))\n",
      "\n",
      "capitol_words = []\n",
      "for pg in range(pages):\n",
      "    s_n= 'http://capitolwords.org/api/1/text.json?page='+str(pg)+'&start_date=2011-01-01&apikey=7ef8a11e218443dcb3867207a3a9172d'\n",
      "    results = requests.get(s_n).json()['results']\n",
      "    for r in results:\n",
      "        capitolwords.insert(r)"
     ],
     "language": "python",
     "metadata": {},
     "outputs": [],
     "prompt_number": 424
    },
    {
     "cell_type": "code",
     "collapsed": false,
     "input": [
      "capitolwords.count()"
     ],
     "language": "python",
     "metadata": {},
     "outputs": [
      {
       "metadata": {},
       "output_type": "pyout",
       "prompt_number": 425,
       "text": [
        "260876"
       ]
      }
     ],
     "prompt_number": 425
    },
    {
     "cell_type": "code",
     "collapsed": false,
     "input": [
      "print num"
     ],
     "language": "python",
     "metadata": {},
     "outputs": [
      {
       "output_type": "stream",
       "stream": "stdout",
       "text": [
        "260876\n"
       ]
      }
     ],
     "prompt_number": 426
    },
    {
     "cell_type": "code",
     "collapsed": false,
     "input": [
      "dates = [w['date'] for w in capitolwords.find({},{'date'})]"
     ],
     "language": "python",
     "metadata": {},
     "outputs": [],
     "prompt_number": 5
    },
    {
     "cell_type": "code",
     "collapsed": false,
     "input": [
      "blah ='http://capitolwords.org/api/1/text.json?start_date=2014-10-15&apikey=7ef8a11e218443dcb3867207a3a9172d'\n",
      "req1 = requests.get(blah).json()['results']\n"
     ],
     "language": "python",
     "metadata": {},
     "outputs": [],
     "prompt_number": 465
    },
    {
     "cell_type": "code",
     "collapsed": false,
     "input": [
      "from datetime import datetime as dt\n",
      "m = max(dates)\n",
      "od = dt.strptime(m, '%Y-%m-%d')\n",
      "newdate = '%i-%i-%i' % (od.year,od.month,od.day+1)\n",
      "newdate"
     ],
     "language": "python",
     "metadata": {},
     "outputs": [
      {
       "metadata": {},
       "output_type": "pyout",
       "prompt_number": 6,
       "text": [
        "'2014-10-16'"
       ]
      }
     ],
     "prompt_number": 6
    },
    {
     "cell_type": "code",
     "collapsed": false,
     "input": [
      "congress.count()"
     ],
     "language": "python",
     "metadata": {},
     "outputs": [
      {
       "metadata": {},
       "output_type": "pyout",
       "prompt_number": 73,
       "text": [
        "98538"
       ]
      }
     ],
     "prompt_number": 73
    }
   ],
   "metadata": {}
  }
 ]
}