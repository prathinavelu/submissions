{
 "metadata": {
  "name": "",
  "signature": "sha256:201d24a28a47f27bed22aa08b6d6252927c856bb952ced573a27c11eff796579"
 },
 "nbformat": 3,
 "nbformat_minor": 0,
 "worksheets": [
  {
   "cells": [
    {
     "cell_type": "code",
     "collapsed": false,
     "input": [
      "from pymongo import MongoClient\n",
      "import nltk\n",
      "from textblob import TextBlob\n",
      "import numpy as np\n",
      "from sklearn.feature_extraction.text import TfidfVectorizer\n",
      "from sklearn import cluster, datasets\n",
      "import requests\n",
      "from requests_oauthlib import OAuth1\n",
      "import tweepy\n",
      "client = MongoClient()\n",
      "congress = client.dsbc.congress\n",
      "capitolwords = client.dsbc.capitolwords"
     ],
     "language": "python",
     "metadata": {},
     "outputs": [],
     "prompt_number": 28
    },
    {
     "cell_type": "code",
     "collapsed": false,
     "input": [
      "consumer_key = \"u3YQ8gKfXGs7Uc9WcDIo8LZw4\"\n",
      "consumer_secret = \"GDSymPoZGYdIbjJLw1Wgm7GE3p8LnQbqY1LGWPYCMs6rqeemLP\"\n",
      "access_token = \"2828159875-jF5oTVCpmW3AyTMic26GUD6ByS6ZSskTedRepU4\"\n",
      "access_secret = \"2X59xSlGHHlKaVTwmlbLDDnodDqakAuazIHmIRA0xmM0w\"\n",
      "\n",
      "auth = tweepy.OAuthHandler(consumer_key, consumer_secret)\n",
      "auth.set_access_token(access_token, access_secret)\n",
      "api = tweepy.API(auth)\n",
      "\n",
      "congressmen = []\n",
      "for person in api.list_members('cspan','members-of-congress',count=500):\n",
      "    congressmen.append(person.screen_name)"
     ],
     "language": "python",
     "metadata": {},
     "outputs": [],
     "prompt_number": 3
    },
    {
     "cell_type": "code",
     "collapsed": false,
     "input": [
      "tweet_cursor = congress.find({},{'user','text'})\n",
      "tweets = [t['text'] for t in tweet_cursor if t['user'] in congressmen]\n",
      "vectorizer = TfidfVectorizer(stop_words=\"english\", ngram_range=(1,2),max_features=2500)\n",
      "tweet_vectors = vectorizer.fit_transform(tweets[:5000])\n",
      "tweet_features = vectorizer.get_feature_names()"
     ],
     "language": "python",
     "metadata": {},
     "outputs": [],
     "prompt_number": 4
    },
    {
     "cell_type": "code",
     "collapsed": false,
     "input": [],
     "language": "python",
     "metadata": {},
     "outputs": [],
     "prompt_number": 6
    },
    {
     "cell_type": "heading",
     "level": 1,
     "metadata": {},
     "source": [
      "Challenge 1 - DBScan"
     ]
    },
    {
     "cell_type": "code",
     "collapsed": false,
     "input": [
      "db = cluster.DBSCAN()\n",
      "db_predict = db.fit_predict(tweet_vectors.toarray())"
     ],
     "language": "python",
     "metadata": {},
     "outputs": [],
     "prompt_number": 11
    },
    {
     "cell_type": "code",
     "collapsed": false,
     "input": [
      "clusters = {}\n",
      "for n in range(clust_num):\n",
      "    l = []\n",
      "    for i in range(len(db_predict)):\n",
      "        if db_predict[i] == n:\n",
      "            top = tweets[i]\n",
      "#             t = tweet_vectors[i]\n",
      "#             top = [tweet_features[x] for x in t.indices[t.data.argsort()][::-1]] \n",
      "            l.append(top)\n",
      "    clusters[n] = l\n",
      "        "
     ],
     "language": "python",
     "metadata": {},
     "outputs": [],
     "prompt_number": 14
    },
    {
     "cell_type": "code",
     "collapsed": false,
     "input": [
      "for n in range(clust_num):\n",
      "    print 'Cluster '+str(n)\n",
      "    for twt in clusters[n][:7]:\n",
      "        print twt\n",
      "        print\n",
      "    print\n",
      "    print"
     ],
     "language": "python",
     "metadata": {},
     "outputs": [
      {
       "output_type": "stream",
       "stream": "stdout",
       "text": [
        "Cluster 0\n",
        "Thank you @ConsuelaLoga @BarbHigbee1 @BJohnston15 for the retweets!\n",
        "\n",
        "@pedro1948 Thank you!\n",
        "\n",
        "@DrProdigal Humbling praise. Thank you!\n",
        "\n",
        "@HKonowitz Thank you, Herb!\n",
        "\n",
        "@carolynsave Thank you, Carolyn!\n",
        "\n",
        "@SenatorCardin Thank you!\n",
        "\n",
        "@DelawareYD Thank you!\n",
        "\n",
        "\n",
        "\n",
        "Cluster 1\n",
        "When the Pres. and #TeaParty tried to cut #Medicare, @joegarcia stood up to them and won, protecting it for seniors: http://t.co/55Cf6njyFZ\n",
        "\n",
        "When the Pres. and #TeaParty tried to cut #Medicare, @joegarcia stood up to them and won, protecting it for seniors: http://t.co/3KJk6vlfjd\n",
        "\n",
        "When the Pres. and #TeaParty tried to cut #Medicare, @joegarcia stood up to them and won, protecting it for seniors: http://t.co/55Cf6njyFZ\n",
        "\n",
        "RT @RickyJunquera: When the Pres. and #TeaParty tried to cut #Medicare, @joegarcia stood up to them and won, protecting it for seniors: htt\u2026\n",
        "\n",
        "When the Pres. and #TeaParty tried to cut #Medicare, @joegarcia stood up to them and won, protecting it for seniors: http://t.co/3KJk6vlfjd\n",
        "\n",
        "\n",
        "\n",
        "Cluster 2\n",
        "What?\n",
        "\n",
        "@haroldpollack what have I misstated?\n",
        "\n",
        "@SOMAMadman no cursing - goodbye\n",
        "\n",
        "@okobojidan ?\n",
        "\n",
        "Eid Mubarak!\n",
        "\n",
        "@nomoremister, cynicism is so lame.\n",
        "\n",
        "\n",
        "\n",
        "Cluster 3\n",
        "@kmmccorm As usual the press misquoted me - I said since we Rs are in 100% agreement, let's roll. One of my favorite expressions\n",
        "\n",
        "@BigDCSW As usual the press misquoted me - I said since we Rs are in 100% agreement, let's roll. One of my favorite expressions\n",
        "\n",
        "@benny_bobby as usual the press misquoted me - I said since we Rs are in 100% agreement, let's roll. One of my favorite expressions\n",
        "\n",
        "@Irishboy51 As usual the press misquoted me - I said since we Rs are in 100% agreement, let's roll. One of my favorite expressions\n",
        "\n",
        "@nomadsheart As usual the press misquoted me - I said since we Rs are in 100% agreement, let's roll. One of my favorite expressions\n",
        "\n",
        "@mstowle As usual the press misquoted me - I said since we Rs are in 100% agreement, let's roll. One of my favorite expressions\n",
        "\n",
        "@FuquaJim As usual the press misquoted me - I said since we Rs are in 100% agreement, let's roll. One of my favorite expressions\n",
        "\n",
        "\n",
        "\n"
       ]
      }
     ],
     "prompt_number": 15
    },
    {
     "cell_type": "heading",
     "level": 1,
     "metadata": {},
     "source": [
      "Challenge 4 - DBScan"
     ]
    },
    {
     "cell_type": "code",
     "collapsed": false,
     "input": [
      "cluster_full_text = {}\n",
      "for n in range(8):\n",
      "    s = ''\n",
      "    for i in range(len(db_predict)):\n",
      "        if db_predict[i] == n:\n",
      "            s = s + ' ' + tweets[i]\n",
      "    cluster_full_text[n] = s"
     ],
     "language": "python",
     "metadata": {},
     "outputs": [],
     "prompt_number": 18
    },
    {
     "cell_type": "code",
     "collapsed": false,
     "input": [
      "cluster_full = [cluster_full_text[i] for i in range(4)]"
     ],
     "language": "python",
     "metadata": {},
     "outputs": [],
     "prompt_number": 19
    },
    {
     "cell_type": "code",
     "collapsed": false,
     "input": [
      "cluster_vectorizer = TfidfVectorizer(stop_words=\"english\", ngram_range=(1,1),max_features=2500)\n",
      "cluster_vectors = cluster_vectorizer.fit_transform(cluster_full)\n",
      "cluster_features = cluster_vectorizer.get_feature_names()"
     ],
     "language": "python",
     "metadata": {},
     "outputs": [],
     "prompt_number": 20
    },
    {
     "cell_type": "code",
     "collapsed": false,
     "input": [
      "for cluster in cluster_vectors:\n",
      "    top = [cluster_features[x] for x in cluster.indices[cluster.data.argsort()][:-8:-1]]\n",
      "    print top"
     ],
     "language": "python",
     "metadata": {},
     "outputs": [
      {
       "output_type": "stream",
       "stream": "stdout",
       "text": [
        "[u'thank', u'consuelaloga', u'houston912ers', u'gridlockjoe', u'michaud2014', u'whiphoyer', u'manmohannath']\n",
        "[u'pres', u'teaparty', u'tried', u'cut', u'medicare', u'joegarcia', u'stood']\n",
        "[u'misstated', u'somamadman', u'cursing', u'goodbye', u'okobojidan', u'eid', u'mubarak']\n",
        "[u'expressions', u'press', u'misquoted', u'said', u'rs', u'100', u'agreement']\n"
       ]
      }
     ],
     "prompt_number": 21
    },
    {
     "cell_type": "heading",
     "level": 1,
     "metadata": {},
     "source": [
      "Challenge 5 DBScan"
     ]
    },
    {
     "cell_type": "code",
     "collapsed": false,
     "input": [
      "for cluster in cluster_vectors:\n",
      "    all_nn = [cluster_features[x] for x in cluster.indices[cluster.data.argsort()][::-1] if TextBlob(cluster_features[x]).tags[0][1] == 'NN']\n",
      "    top_nn = [x for x in all_nn[:6]]\n",
      "    print top_nn\n",
      "    print"
     ],
     "language": "python",
     "metadata": {},
     "outputs": [
      {
       "output_type": "stream",
       "stream": "stdout",
       "text": [
        "[u'consuelaloga', u'gridlockjoe', u'michaud2014', u'whiphoyer', u'manmohannath', u'mbtrave']\n",
        "\n",
        "[u'teaparty', u'medicare', u'joegarcia', u'http', u'55cf6njyfz', u'3kjk6vlfjd']\n",
        "\n",
        "[u'somamadman', u'goodbye', u'okobojidan', u'eid', u'mubarak', u'nomoremister']\n",
        "\n",
        "[u'press', u'agreement', u'roll', u'mstowle', u'chris_randall', u'lozada3937']\n",
        "\n"
       ]
      }
     ],
     "prompt_number": 22
    },
    {
     "cell_type": "heading",
     "level": 1,
     "metadata": {},
     "source": [
      "Challenge 8 DBScan\n"
     ]
    },
    {
     "cell_type": "code",
     "collapsed": false,
     "input": [
      "import csv\n",
      "from sklearn import preprocessing\n",
      "headings = []\n",
      "customers = []\n",
      "with open('Wholesale customers data.csv', 'rb') as csvfile:\n",
      "     c = csv.reader(csvfile, delimiter=' ', quotechar='|')\n",
      "     for row in c:\n",
      "        customers.append(row)\n",
      "headings = customers.pop(0)\n",
      "headings = headings[0].split(',')"
     ],
     "language": "python",
     "metadata": {},
     "outputs": [],
     "prompt_number": 23
    },
    {
     "cell_type": "code",
     "collapsed": false,
     "input": [
      "def process(lst):\n",
      "    return [float(x) for x in lst[0].split(',')]"
     ],
     "language": "python",
     "metadata": {},
     "outputs": [],
     "prompt_number": 24
    },
    {
     "cell_type": "code",
     "collapsed": false,
     "input": [
      "customers = map(process,customers)"
     ],
     "language": "python",
     "metadata": {},
     "outputs": [],
     "prompt_number": 25
    },
    {
     "cell_type": "code",
     "collapsed": false,
     "input": [
      "customers_scaled = preprocessing.scale(customers)"
     ],
     "language": "python",
     "metadata": {},
     "outputs": [],
     "prompt_number": 26
    },
    {
     "cell_type": "code",
     "collapsed": false,
     "input": [
      "clust_num = 3\n",
      "customer_db= cluster.DBSCAN()\n",
      "customer_predict = customer_db.fit_predict(customers_scaled)"
     ],
     "language": "python",
     "metadata": {},
     "outputs": [],
     "prompt_number": 30
    },
    {
     "cell_type": "code",
     "collapsed": false,
     "input": [
      "customer_clusters = {}\n",
      "for n in range(clust_num):\n",
      "    l = []\n",
      "    for i in range(len(customer_predict)):\n",
      "        if customer_predict[i] == n:\n",
      "            l.append(customers_scaled[i])\n",
      "    customer_clusters[n] = l\n",
      "    "
     ],
     "language": "python",
     "metadata": {},
     "outputs": [],
     "prompt_number": 31
    },
    {
     "cell_type": "code",
     "collapsed": false,
     "input": [
      "import matplotlib.pyplot as plt\n",
      "import seaborn as sns\n",
      "%matplotlib inline\n",
      "counter = 0\n",
      "plt.figure(figsize=[20,20])\n",
      "for n in range(clust_num):\n",
      "    for i in range(len(headings)):\n",
      "        array = [x[i] for x in customer_clusters[n]]\n",
      "        plt.subplot(clust_num, len(headings), counter)\n",
      "        bins = [-2,-1.5,-1,-.5,0,.5,1,1.5,2]\n",
      "        plt.hist(array, bins)\n",
      "        plt.title(headings[i])\n",
      "        counter+=1"
     ],
     "language": "python",
     "metadata": {},
     "outputs": [
      {
       "output_type": "stream",
       "stream": "stderr",
       "text": [
        "/usr/local/lib/python2.7/site-packages/scipy/ndimage/measurements.py:36: RuntimeWarning: numpy.dtype size changed, may indicate binary incompatibility\n",
        "  from . import _ni_label\n",
        "/usr/local/lib/python2.7/site-packages/scipy/ndimage/measurements.py:36: RuntimeWarning: numpy.ufunc size changed, may indicate binary incompatibility\n",
        "  from . import _ni_label\n",
        "/usr/local/lib/python2.7/site-packages/scipy/signal/spectral.py:10: RuntimeWarning: numpy.dtype size changed, may indicate binary incompatibility\n",
        "  from ._spectral import lombscargle\n",
        "/usr/local/lib/python2.7/site-packages/scipy/signal/spectral.py:10: RuntimeWarning: numpy.ufunc size changed, may indicate binary incompatibility\n",
        "  from ._spectral import lombscargle\n",
        "/usr/local/lib/python2.7/site-packages/matplotlib/axes/_subplots.py:69: MatplotlibDeprecationWarning: The use of 0 (which ends up being the _last_ sub-plot) is deprecated in 1.4 and will raise an error in 1.5\n",
        "  mplDeprecation)\n"
       ]
      },
      {
       "metadata": {},
       "output_type": "display_data",
       "png": "[encoded data removed]",
       "text": [
        "<matplotlib.figure.Figure at 0x1149a44d0>"
       ]
      }
     ],
     "prompt_number": 32
    },
    {
     "cell_type": "code",
     "collapsed": false,
     "input": [],
     "language": "python",
     "metadata": {},
     "outputs": []
    }
   ],
   "metadata": {}
  }
 ]
}