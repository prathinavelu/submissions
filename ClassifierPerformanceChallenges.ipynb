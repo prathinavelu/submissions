{
 "metadata": {
  "name": "",
  "signature": "sha256:c98369e43201746558fff9213e9c19fec5304a97da9bedf2f6c3ceced3792c80"
 },
 "nbformat": 3,
 "nbformat_minor": 0,
 "worksheets": [
  {
   "cells": [
    {
     "cell_type": "code",
     "collapsed": false,
     "input": [
      "import csv\n",
      "import matplotlib.pyplot as plt\n",
      "import pandas as pd\n",
      "import numpy as np\n",
      "%matplotlib inline\n",
      "from sklearn.linear_model import LogisticRegression\n",
      "from sklearn.neighbors import KNeighborsClassifier\n",
      "from sklearn.metrics import roc_curve, auc, accuracy_score, precision_score, f1_score, recall_score, classification_report\n",
      "from sklearn.naive_bayes import GaussianNB\n",
      "from sklearn.svm import SVC\n",
      "from sklearn.tree import DecisionTreeClassifier\n",
      "from sklearn.ensemble import RandomForestClassifier\n",
      "from sklearn.cross_validation import cross_val_score, train_test_split"
     ],
     "language": "python",
     "metadata": {},
     "outputs": [],
     "prompt_number": 396
    },
    {
     "cell_type": "code",
     "collapsed": false,
     "input": [
      "votes= []\n",
      "\n",
      "with open('house-votes-84.data', 'rb') as csvfile:\n",
      "    csvvotes = csv.reader(csvfile, delimiter=' ', quotechar='|')\n",
      "    for row in csvvotes:\n",
      "        votes_dict = {}\n",
      "        r = row[0].split(\",\")\n",
      "        for i in range(1,18):\n",
      "            votes_dict[i] = r[i-1]\n",
      "        votes.append(votes_dict)"
     ],
     "language": "python",
     "metadata": {},
     "outputs": [],
     "prompt_number": 5
    },
    {
     "cell_type": "code",
     "collapsed": false,
     "input": [
      "df = pd.DataFrame(votes)\n",
      "\n",
      "for i in range(1,17):\n",
      "    df[i+1] = df[i+1].map({'y': 1, 'n': 0, '?':None})\n",
      "    vote_prob = df[i+1].mean()\n",
      "    df[i+1].fillna(vote_prob, inplace=True)\n",
      "    \n",
      "df[1] = df[1].map({'republican': 0, 'democrat': 1})\n",
      "\n",
      "df.head(3)"
     ],
     "language": "python",
     "metadata": {},
     "outputs": [
      {
       "html": [
        "<div style=\"max-height:1000px;max-width:1500px;overflow:auto;\">\n",
        "<table border=\"1\" class=\"dataframe\">\n",
        "  <thead>\n",
        "    <tr style=\"text-align: right;\">\n",
        "      <th></th>\n",
        "      <th>1</th>\n",
        "      <th>2</th>\n",
        "      <th>3</th>\n",
        "      <th>4</th>\n",
        "      <th>5</th>\n",
        "      <th>6</th>\n",
        "      <th>7</th>\n",
        "      <th>8</th>\n",
        "      <th>9</th>\n",
        "      <th>10</th>\n",
        "      <th>11</th>\n",
        "      <th>12</th>\n",
        "      <th>13</th>\n",
        "      <th>14</th>\n",
        "      <th>15</th>\n",
        "      <th>16</th>\n",
        "      <th>17</th>\n",
        "    </tr>\n",
        "  </thead>\n",
        "  <tbody>\n",
        "    <tr>\n",
        "      <th>0</th>\n",
        "      <td> 0</td>\n",
        "      <td> 0.00000</td>\n",
        "      <td> 1</td>\n",
        "      <td> 0</td>\n",
        "      <td> 1.000000</td>\n",
        "      <td> 1</td>\n",
        "      <td> 1</td>\n",
        "      <td> 0</td>\n",
        "      <td> 0</td>\n",
        "      <td> 0</td>\n",
        "      <td> 1</td>\n",
        "      <td> 0.362319</td>\n",
        "      <td> 1</td>\n",
        "      <td> 1</td>\n",
        "      <td> 1</td>\n",
        "      <td> 0</td>\n",
        "      <td> 1.000000</td>\n",
        "    </tr>\n",
        "    <tr>\n",
        "      <th>1</th>\n",
        "      <td> 0</td>\n",
        "      <td> 0.00000</td>\n",
        "      <td> 1</td>\n",
        "      <td> 0</td>\n",
        "      <td> 1.000000</td>\n",
        "      <td> 1</td>\n",
        "      <td> 1</td>\n",
        "      <td> 0</td>\n",
        "      <td> 0</td>\n",
        "      <td> 0</td>\n",
        "      <td> 0</td>\n",
        "      <td> 0.000000</td>\n",
        "      <td> 1</td>\n",
        "      <td> 1</td>\n",
        "      <td> 1</td>\n",
        "      <td> 0</td>\n",
        "      <td> 0.812689</td>\n",
        "    </tr>\n",
        "    <tr>\n",
        "      <th>2</th>\n",
        "      <td> 1</td>\n",
        "      <td> 0.44208</td>\n",
        "      <td> 1</td>\n",
        "      <td> 1</td>\n",
        "      <td> 0.417453</td>\n",
        "      <td> 1</td>\n",
        "      <td> 1</td>\n",
        "      <td> 0</td>\n",
        "      <td> 0</td>\n",
        "      <td> 0</td>\n",
        "      <td> 0</td>\n",
        "      <td> 1.000000</td>\n",
        "      <td> 0</td>\n",
        "      <td> 1</td>\n",
        "      <td> 1</td>\n",
        "      <td> 0</td>\n",
        "      <td> 0.000000</td>\n",
        "    </tr>\n",
        "  </tbody>\n",
        "</table>\n",
        "</div>"
       ],
       "metadata": {},
       "output_type": "pyout",
       "prompt_number": 204,
       "text": [
        "   1        2   3   4         5   6   7   8   9   10  11        12  13  14  \\\n",
        "0   0  0.00000   1   0  1.000000   1   1   0   0   0   1  0.362319   1   1   \n",
        "1   0  0.00000   1   0  1.000000   1   1   0   0   0   0  0.000000   1   1   \n",
        "2   1  0.44208   1   1  0.417453   1   1   0   0   0   0  1.000000   0   1   \n",
        "\n",
        "   15  16        17  \n",
        "0   1   0  1.000000  \n",
        "1   1   0  0.812689  \n",
        "2   1   0  0.000000  "
       ]
      }
     ],
     "prompt_number": 204
    },
    {
     "cell_type": "heading",
     "level": 1,
     "metadata": {},
     "source": [
      "Challenge 1"
     ]
    },
    {
     "cell_type": "code",
     "collapsed": false,
     "input": [
      "def score(tr_set, te_set, model, metric):\n",
      "    X = []\n",
      "    y= []\n",
      "    for t in tr_set:\n",
      "        X.append(t[1:17])\n",
      "        y.append(t[0])\n",
      "    model.fit(X,y)\n",
      "    y_pred = []\n",
      "    y_actual  = []\n",
      "    for t in te_set:\n",
      "        y_pred.append(model.predict(t[1:17]))\n",
      "        y_actual.append(t[0])\n",
      "    return metric(y_actual,y_pred)"
     ],
     "language": "python",
     "metadata": {},
     "outputs": [],
     "prompt_number": 205
    },
    {
     "cell_type": "code",
     "collapsed": false,
     "input": [
      "full_set = train_test_split(df)\n",
      "train_set = full_set[0]\n",
      "test_set = full_set[1]\n",
      "\n",
      "def get_scores(classifier,train,test):\n",
      "    print str(classifier)[:str(classifier).find('(')]\n",
      "    print 'Accuracy: %s' % score(train, test, classifier, accuracy_score)\n",
      "    print 'Precision: %s' % score(train, test, classifier, precision_score)\n",
      "    print 'Recall: %s' % score(train, test, classifier, recall_score)\n",
      "    print 'f1: %s' % score(train, test, classifier, f1_score)\n",
      "    print '\\n'\n",
      "\n",
      "get_scores(LogisticRegression(), train_set, test_set)\n",
      "get_scores(KNeighborsClassifier(n_neighbors=2),train_set,test_set) \n",
      "get_scores(GaussianNB(),train_set,test_set) \n",
      "get_scores(SVC(),train_set,test_set) \n",
      "get_scores(DecisionTreeClassifier(),train_set,test_set) \n",
      "get_scores(RandomForestClassifier(),train_set,test_set) "
     ],
     "language": "python",
     "metadata": {},
     "outputs": [
      {
       "output_type": "stream",
       "stream": "stdout",
       "text": [
        "LogisticRegression\n",
        "Accuracy: 0.954128440367\n",
        "Precision: 0.96875"
       ]
      },
      {
       "output_type": "stream",
       "stream": "stdout",
       "text": [
        "\n",
        "Recall: 0.953846153846\n",
        "f1: 0.961240310078\n",
        "\n",
        "\n",
        "KNeighborsClassifier\n",
        "Accuracy: 0.926605504587"
       ]
      },
      {
       "output_type": "stream",
       "stream": "stdout",
       "text": [
        "\n",
        "Precision: 0.967213114754"
       ]
      },
      {
       "output_type": "stream",
       "stream": "stdout",
       "text": [
        "\n",
        "Recall: 0.907692307692"
       ]
      },
      {
       "output_type": "stream",
       "stream": "stdout",
       "text": [
        "\n",
        "f1: 0.936507936508"
       ]
      },
      {
       "output_type": "stream",
       "stream": "stdout",
       "text": [
        "\n",
        "\n",
        "\n",
        "GaussianNB\n",
        "Accuracy: 0.935779816514"
       ]
      },
      {
       "output_type": "stream",
       "stream": "stdout",
       "text": [
        "\n",
        "Precision: 0.953125"
       ]
      },
      {
       "output_type": "stream",
       "stream": "stdout",
       "text": [
        "\n",
        "Recall: 0.938461538462"
       ]
      },
      {
       "output_type": "stream",
       "stream": "stdout",
       "text": [
        "\n",
        "f1: 0.945736434109"
       ]
      },
      {
       "output_type": "stream",
       "stream": "stdout",
       "text": [
        "\n",
        "\n",
        "\n",
        "SVC\n",
        "Accuracy: 0.94495412844\n",
        "Precision: 0.968253968254"
       ]
      },
      {
       "output_type": "stream",
       "stream": "stdout",
       "text": [
        "\n",
        "Recall: 0.938461538462\n",
        "f1: 0.953125"
       ]
      },
      {
       "output_type": "stream",
       "stream": "stdout",
       "text": [
        "\n",
        "\n",
        "\n",
        "DecisionTreeClassifier\n",
        "Accuracy: 0.917431192661\n",
        "Precision: 0.952380952381\n",
        "Recall: 0.876923076923"
       ]
      },
      {
       "output_type": "stream",
       "stream": "stdout",
       "text": [
        "\n",
        "f1: 0.913385826772\n",
        "\n",
        "\n",
        "RandomForestClassifier\n",
        "Accuracy: 0.935779816514"
       ]
      },
      {
       "output_type": "stream",
       "stream": "stdout",
       "text": [
        "\n",
        "Precision: 0.952380952381"
       ]
      },
      {
       "output_type": "stream",
       "stream": "stdout",
       "text": [
        "\n",
        "Recall: 0.923076923077"
       ]
      },
      {
       "output_type": "stream",
       "stream": "stdout",
       "text": [
        "\n",
        "f1: 0.96"
       ]
      },
      {
       "output_type": "stream",
       "stream": "stdout",
       "text": [
        "\n",
        "\n",
        "\n"
       ]
      }
     ],
     "prompt_number": 206
    },
    {
     "cell_type": "heading",
     "level": 1,
     "metadata": {},
     "source": [
      "Challenge 2"
     ]
    },
    {
     "cell_type": "code",
     "collapsed": false,
     "input": [
      "def get_roc(tr_set, te_set, model):\n",
      "    X = []\n",
      "    y= []\n",
      "    for t in tr_set:\n",
      "        X.append(t[1:17])\n",
      "        y.append(t[0])\n",
      "    model.fit(X,y)\n",
      "    y_decision = []\n",
      "    y_actual  = []\n",
      "    for t in te_set:\n",
      "        try:\n",
      "            y_decision.append(model.decision_function(t[1:17])[0])\n",
      "        except:\n",
      "             y_decision.append(model.predict_proba(t[1:17])[0][1])\n",
      "        y_actual.append(t[0])\n",
      "    return roc_curve(y_actual,y_decision)"
     ],
     "language": "python",
     "metadata": {},
     "outputs": [],
     "prompt_number": 281
    },
    {
     "cell_type": "code",
     "collapsed": false,
     "input": [
      "fpr_knn,tpr_knn,_knn = get_roc(train_set,test_set,KNeighborsClassifier(n_neighbors=2))\n",
      "auc_knn = auc(fpr_knn,tpr_knn)\n",
      "\n",
      "fpr_log,tpr_log,_log = get_roc(train_set,test_set,LogisticRegression())\n",
      "auc_log = auc(fpr_log,tpr_log)\n",
      "\n",
      "fpr_gnb,tpr_gnb,_gnb = get_roc(train_set,test_set,GaussianNB())\n",
      "auc_gnb = auc(fpr_gnb,tpr_gnb)\n",
      "\n",
      "fpr_svc,tpr_svc,_svc = get_roc(train_set,test_set,SVC())\n",
      "auc_svc = auc(fpr_svc,tpr_svc)\n",
      "\n",
      "fpr_tree,tpr_tree,_tree = get_roc(train_set,test_set,DecisionTreeClassifier())\n",
      "auc_tree = auc(fpr_tree,tpr_tree)\n",
      "\n",
      "fpr_forest,tpr_forest,_forest = get_roc(train_set,test_set,RandomForestClassifier())\n",
      "auc_forest = auc(fpr_forest,tpr_forest)"
     ],
     "language": "python",
     "metadata": {},
     "outputs": [],
     "prompt_number": 293
    },
    {
     "cell_type": "code",
     "collapsed": false,
     "input": [
      "plt.figure(figsize=[12.5,10])\n",
      "plt.plot(fpr_log, tpr_log, label='Logistic Regression (AUC = %0.3f)' % auc_log,lw=2.5)\n",
      "plt.plot(fpr_knn, tpr_knn, label='KNN (AUC = %0.3f)' % auc_knn, lw=2.5)\n",
      "plt.plot(fpr_gnb, tpr_gnb, label='Gaussian Naive Bayes (AUC = %0.3f)' % auc_gnb,lw=2.5)\n",
      "plt.plot(fpr_svc, tpr_svc, label='Support Vector Machine (AUC = %0.3f)' % auc_knn,lw=2.5)\n",
      "plt.plot(fpr_tree, tpr_tree, label='Decision Tree Classifier (AUC = %0.3f)' % auc_tree, lw=2.5)\n",
      "plt.plot(fpr_forest, tpr_forest, label='Random Forest Classifier (AUC = %0.3f)' % auc_forest, lw=2.5)\n",
      "plt.plot([0, 1], [0, 1], 'k--')\n",
      "plt.xlim([-0.05, 1.0])\n",
      "plt.ylim([0.0, 1.0])\n",
      "plt.xlabel('False Positive Rate')\n",
      "plt.ylabel('True Positive Rate')\n",
      "plt.legend(bbox_to_anchor=(1.05, 1), loc=2, borderaxespad=0.)\n",
      "plt.title('ROC')\n",
      "plt.show()"
     ],
     "language": "python",
     "metadata": {},
     "outputs": [
      {
       "metadata": {},
       "output_type": "display_data",
       "png": "[encoded data removed]",
       "text": [
        "<matplotlib.figure.Figure at 0x11968d410>"
       ]
      }
     ],
     "prompt_number": 454
    },
    {
     "cell_type": "heading",
     "level": 1,
     "metadata": {},
     "source": [
      "Challenge 3"
     ]
    },
    {
     "cell_type": "code",
     "collapsed": false,
     "input": [
      "X_votes = []\n",
      "y_votes = []\n",
      "for row in df.values:\n",
      "    y_votes.append(row[0])\n",
      "    X_votes.append(row[1:17])"
     ],
     "language": "python",
     "metadata": {},
     "outputs": [],
     "prompt_number": 301
    },
    {
     "cell_type": "code",
     "collapsed": false,
     "input": [
      "def get_cross_val_scores(classifier,x,y):\n",
      "    print str(classifier)[:str(classifier).find('(')]\n",
      "    print 'Accuracy: %s' % cross_val_score(classifier,x,y,scoring='accuracy').mean()\n",
      "    print 'Precision: %s' % cross_val_score(classifier,x,y,scoring='precision').mean()\n",
      "    print 'Recall: %s' % cross_val_score(classifier,x,y,scoring='recall').mean()\n",
      "    print 'f1: %s' % cross_val_score(classifier,x,y,scoring='f1').mean()\n",
      "    print '\\n'\n",
      "\n",
      "get_cross_val_scores(LogisticRegression(),X_votes,y_votes)\n",
      "get_cross_val_scores(KNeighborsClassifier(n_neighbors=2),X_votes,y_votes)\n",
      "get_cross_val_scores(GaussianNB(),X_votes,y_votes)\n",
      "get_cross_val_scores(SVC(),X_votes,y_votes)\n",
      "get_cross_val_scores(DecisionTreeClassifier(),X_votes,y_votes)\n",
      "get_cross_val_scores(RandomForestClassifier(),X_votes,y_votes)"
     ],
     "language": "python",
     "metadata": {},
     "outputs": [
      {
       "output_type": "stream",
       "stream": "stdout",
       "text": [
        "LogisticRegression\n",
        "Accuracy: 0.96091954023\n",
        "Precision: 0.970163331033"
       ]
      },
      {
       "output_type": "stream",
       "stream": "stdout",
       "text": [
        "\n",
        "Recall: 0.966292134831\n",
        "f1: 0.967864264228\n",
        "\n",
        "\n",
        "KNeighborsClassifier\n",
        "Accuracy: 0.903448275862"
       ]
      },
      {
       "output_type": "stream",
       "stream": "stdout",
       "text": [
        "\n",
        "Precision: 0.974648933114\n",
        "Recall: 0.865168539326"
       ]
      },
      {
       "output_type": "stream",
       "stream": "stdout",
       "text": [
        "\n",
        "f1: 0.916336600935\n",
        "\n",
        "\n",
        "GaussianNB\n",
        "Accuracy: 0.931034482759\n",
        "Precision: 0.948219376539"
       ]
      },
      {
       "output_type": "stream",
       "stream": "stdout",
       "text": [
        "\n",
        "Recall: 0.940074906367\n",
        "f1: 0.943525081974\n",
        "\n",
        "\n",
        "SVC\n",
        "Accuracy: 0.954022988506"
       ]
      },
      {
       "output_type": "stream",
       "stream": "stdout",
       "text": [
        "\n",
        "Precision: 0.977123246718\n",
        "Recall: 0.947565543071"
       ]
      },
      {
       "output_type": "stream",
       "stream": "stdout",
       "text": [
        "\n",
        "f1: 0.961803989438\n",
        "\n",
        "\n",
        "DecisionTreeClassifier\n",
        "Accuracy: 0.951724137931\n",
        "Precision: 0.969461347757"
       ]
      },
      {
       "output_type": "stream",
       "stream": "stdout",
       "text": [
        "\n",
        "Recall: 0.947565543071\n",
        "f1: 0.956510912417\n",
        "\n",
        "\n",
        "RandomForestClassifier\n",
        "Accuracy: 0.958620689655"
       ]
      },
      {
       "output_type": "stream",
       "stream": "stdout",
       "text": [
        "\n",
        "Precision: 0.977638537933"
       ]
      },
      {
       "output_type": "stream",
       "stream": "stdout",
       "text": [
        "\n",
        "Recall: 0.947565543071"
       ]
      },
      {
       "output_type": "stream",
       "stream": "stdout",
       "text": [
        "\n",
        "f1: 0.969625779544"
       ]
      },
      {
       "output_type": "stream",
       "stream": "stdout",
       "text": [
        "\n",
        "\n",
        "\n"
       ]
      }
     ],
     "prompt_number": 375
    },
    {
     "cell_type": "heading",
     "level": 1,
     "metadata": {},
     "source": [
      "Challenge 4"
     ]
    },
    {
     "cell_type": "code",
     "collapsed": false,
     "input": [
      "import pickle\n",
      "\n",
      "with open('movie_data_dict_yearly.pkl','rb') as infile:\n",
      "    movie_data_all = pickle.load(infile)\n",
      "movie_data = filter(None,movie_data_all)\n",
      "\n",
      "movies = pd.DataFrame(movie_data)\n",
      "\n",
      "movies = movies[movies['budget'] != 'N/A'] \n",
      "movies = movies[movies['domestic_total_gross'] != 'N/A'] \n",
      "movies = movies[movies['opening_weekend_gross'] != 'N/A']\n",
      "movies = movies[movies['runtime'] != 'N/A']\n",
      "movies = movies[movies['rating'] != 'Unrated']\n",
      "movies = movies[movies['rating'] != 'NC-17']\n",
      "\n",
      "\n",
      "movies['year'] = movies['release date'].apply(lambda x: x.year)\n",
      "movies['month'] = movies['release date'].apply(lambda x: x.month)\n",
      "\n",
      "m = movies.drop('director',1)\n",
      "movies_clean = m.drop('release date',1).drop('movie title',1)\n"
     ],
     "language": "python",
     "metadata": {},
     "outputs": [],
     "prompt_number": 461
    },
    {
     "cell_type": "code",
     "collapsed": false,
     "input": [
      "split_data = train_test_split(movies_clean)\n",
      "movies_train_set = split_data[0]\n",
      "movies_test_set = split_data[1]"
     ],
     "language": "python",
     "metadata": {},
     "outputs": [],
     "prompt_number": 462
    },
    {
     "cell_type": "code",
     "collapsed": false,
     "input": [
      "movies_train_X = []\n",
      "movies_train_y = []\n",
      "movies_test_X = []\n",
      "movies_test_y = []\n",
      "class_names = []\n",
      "\n",
      "for row in movies_train_set:\n",
      "    l = list(row)\n",
      "    y = l.pop(3)\n",
      "    if y not in class_names:\n",
      "        class_names.insert(0, y)\n",
      "    movies_train_y.append(y)\n",
      "    movies_train_X.append(l)\n",
      "    \n",
      "for row in movies_test_set:\n",
      "    l = list(row)\n",
      "    y = l.pop(3)\n",
      "    movies_test_y.append(y)\n",
      "    movies_test_X.append(l)"
     ],
     "language": "python",
     "metadata": {},
     "outputs": [],
     "prompt_number": 463
    },
    {
     "cell_type": "code",
     "collapsed": false,
     "input": [
      "y_true = movies_test_y\n",
      "\n",
      "log_model = LogisticRegression().fit(movies_train_X,movies_train_y)\n",
      "y_log_pred = log_model.predict(movies_test_X)\n",
      "\n",
      "print precision_score(y_true,y_log_pred)\n",
      "\n",
      "print classification_report(y_true, y_log_pred, target_names=class_names)"
     ],
     "language": "python",
     "metadata": {},
     "outputs": [
      {
       "output_type": "stream",
       "stream": "stdout",
       "text": [
        "0.505441075484\n",
        "             precision    recall  f1-score   support\n",
        "\n",
        "          G       0.00      0.00      0.00        11\n",
        "      PG-13       0.11      0.08      0.09       100\n",
        "         PG       0.44      0.93      0.60       267\n",
        "          R       0.73      0.04      0.08       277\n",
        "\n",
        "avg / total       0.51      0.41      0.29       655\n",
        "\n"
       ]
      }
     ],
     "prompt_number": 464
    },
    {
     "cell_type": "code",
     "collapsed": false,
     "input": [
      "knn_model = KNeighborsClassifier(n_neighbors=8).fit(movies_train_X,movies_train_y)\n",
      "y_knn_pred = knn_model.predict(movies_test_X)\n",
      "\n",
      "print classification_report(y_true, y_knn_pred, target_names=class_names)"
     ],
     "language": "python",
     "metadata": {},
     "outputs": [
      {
       "output_type": "stream",
       "stream": "stdout",
       "text": [
        "             precision    recall  f1-score   support\n",
        "\n",
        "          G       0.00      0.00      0.00        11\n",
        "      PG-13       0.24      0.14      0.18       100\n",
        "         PG       0.50      0.53      0.51       267\n",
        "          R       0.56      0.62      0.59       277\n",
        "\n",
        "avg / total       0.48      0.50      0.48       655\n",
        "\n"
       ]
      }
     ],
     "prompt_number": 465
    },
    {
     "cell_type": "code",
     "collapsed": false,
     "input": [
      "def stupid_predictor(X):\n",
      "    return ['R' for i in range(len(X))]\n",
      "y_stupid_pred = stupid_predictor(movies_test_X)\n",
      "\n",
      "print classification_report(y_true, y_stupid_pred, target_names=class_names)"
     ],
     "language": "python",
     "metadata": {},
     "outputs": [
      {
       "output_type": "stream",
       "stream": "stdout",
       "text": [
        "             precision    recall  f1-score   support\n",
        "\n",
        "          G       0.00      0.00      0.00        11\n",
        "      PG-13       0.00      0.00      0.00       100\n",
        "         PG       0.00      0.00      0.00       267\n",
        "          R       0.42      1.00      0.59       277\n",
        "\n",
        "avg / total       0.18      0.42      0.25       655\n",
        "\n"
       ]
      }
     ],
     "prompt_number": 466
    },
    {
     "cell_type": "heading",
     "level": 1,
     "metadata": {},
     "source": [
      "Challenge 5"
     ]
    },
    {
     "cell_type": "code",
     "collapsed": false,
     "input": [
      "patients= []\n",
      "\n",
      "with open('haberman.data', 'rb') as csvfile:\n",
      "    csvdata = csv.reader(csvfile, delimiter=' ', quotechar='|')\n",
      "    for row in csvdata:\n",
      "        dict = {}\n",
      "        r = row[0].split(\",\")\n",
      "        dict['age']=int(r[0])\n",
      "        dict['year']=int(r[1])\n",
      "        dict['nodes']=int(r[2])\n",
      "        dict['survival']=int(r[3])\n",
      "        patients.append(dict)"
     ],
     "language": "python",
     "metadata": {},
     "outputs": [],
     "prompt_number": 412
    },
    {
     "cell_type": "code",
     "collapsed": false,
     "input": [
      "cancer_df = pd.DataFrame(patients)\n",
      "cancer_df['survival'] = cancer_df['survival'].map({2:1, 1:0})\n",
      "cancer_df.head(3)"
     ],
     "language": "python",
     "metadata": {},
     "outputs": [
      {
       "html": [
        "<div style=\"max-height:1000px;max-width:1500px;overflow:auto;\">\n",
        "<table border=\"1\" class=\"dataframe\">\n",
        "  <thead>\n",
        "    <tr style=\"text-align: right;\">\n",
        "      <th></th>\n",
        "      <th>age</th>\n",
        "      <th>nodes</th>\n",
        "      <th>survival</th>\n",
        "      <th>year</th>\n",
        "    </tr>\n",
        "  </thead>\n",
        "  <tbody>\n",
        "    <tr>\n",
        "      <th>0</th>\n",
        "      <td> 30</td>\n",
        "      <td> 1</td>\n",
        "      <td> 0</td>\n",
        "      <td> 64</td>\n",
        "    </tr>\n",
        "    <tr>\n",
        "      <th>1</th>\n",
        "      <td> 30</td>\n",
        "      <td> 3</td>\n",
        "      <td> 0</td>\n",
        "      <td> 62</td>\n",
        "    </tr>\n",
        "    <tr>\n",
        "      <th>2</th>\n",
        "      <td> 30</td>\n",
        "      <td> 0</td>\n",
        "      <td> 0</td>\n",
        "      <td> 65</td>\n",
        "    </tr>\n",
        "  </tbody>\n",
        "</table>\n",
        "</div>"
       ],
       "metadata": {},
       "output_type": "pyout",
       "prompt_number": 424,
       "text": [
        "   age  nodes  survival  year\n",
        "0   30      1         0    64\n",
        "1   30      3         0    62\n",
        "2   30      0         0    65"
       ]
      }
     ],
     "prompt_number": 424
    },
    {
     "cell_type": "code",
     "collapsed": false,
     "input": [
      "split = train_test_split(cancer_df)\n",
      "cancer_train_set = split[0]\n",
      "cancer_test_set = split[1]\n",
      "\n",
      "cancer_train_X = []\n",
      "cancer_train_y = []\n",
      "cancer_test_X = []\n",
      "cancer_test_y = []\n",
      "\n",
      "for row in cancer_train_set:\n",
      "    l = list(row)\n",
      "    y = l.pop(2)\n",
      "    cancer_train_y.append(y)\n",
      "    cancer_train_X.append(l)\n",
      "    \n",
      "for row in cancer_test_set:\n",
      "    l = list(row)\n",
      "    y = l.pop(2)\n",
      "    cancer_test_y.append(y)\n",
      "    cancer_test_X.append(l)"
     ],
     "language": "python",
     "metadata": {},
     "outputs": [],
     "prompt_number": 425
    },
    {
     "cell_type": "code",
     "collapsed": false,
     "input": [
      "cancer_model = LogisticRegression().fit(cancer_train_X,cancer_train_y)\n",
      "y_probs = cancer_model.decision_function(cancer_test_X)\n",
      "\n",
      "fpr_cancer , tpr_cancer, _cancer = roc_curve(cancer_test_y,y_probs)\n",
      "auc_cancer = auc(fpr_cancer,tpr_cancer)\n",
      "\n",
      "plt.figure(figsize=[10,7.5])\n",
      "plt.plot(fpr_forest, tpr_forest, label='Logistic Regression (AUC = %0.3f)' % auc_cancer, lw=2.5, color = 'maroon')\n",
      "plt.plot([0, 1], [0, 1], 'k--')\n",
      "plt.xlim([0, 1.0])\n",
      "plt.ylim([0.0, 1.0])\n",
      "plt.xlabel('False Positive Rate')\n",
      "plt.ylabel('True Positive Rate')\n",
      "plt.legend(bbox_to_anchor=(1.05, 1), loc=2, borderaxespad=0.)\n",
      "plt.title('ROC')\n",
      "plt.show()"
     ],
     "language": "python",
     "metadata": {},
     "outputs": [
      {
       "metadata": {},
       "output_type": "display_data",
       "png": "[encoded data removed]",
       "text": [
        "<matplotlib.figure.Figure at 0x1169d6b50>"
       ]
      }
     ],
     "prompt_number": 446
    }
   ],
   "metadata": {}
  }
 ]
}