{
 "metadata": {
  "name": "",
  "signature": "sha256:4f04a69765aba2cabfff41e1fd8733015bbd42bdbe25e039b42b78426495f942"
 },
 "nbformat": 3,
 "nbformat_minor": 0,
 "worksheets": [
  {
   "cells": [
    {
     "cell_type": "code",
     "collapsed": false,
     "input": [
      "from pymongo import MongoClient\n",
      "import nltk\n",
      "from textblob import TextBlob\n",
      "import numpy as np\n",
      "from sklearn.feature_extraction.text import TfidfVectorizer\n",
      "from sklearn import cluster, datasets\n",
      "import requests\n",
      "from requests_oauthlib import OAuth1\n",
      "import tweepy\n",
      "client = MongoClient()\n",
      "congress = client.dsbc.congress\n",
      "capitolwords = client.dsbc.capitolwords"
     ],
     "language": "python",
     "metadata": {},
     "outputs": [],
     "prompt_number": 45
    },
    {
     "cell_type": "code",
     "collapsed": false,
     "input": [
      "consumer_key = \"u3YQ8gKfXGs7Uc9WcDIo8LZw4\"\n",
      "consumer_secret = \"GDSymPoZGYdIbjJLw1Wgm7GE3p8LnQbqY1LGWPYCMs6rqeemLP\"\n",
      "access_token = \"2828159875-jF5oTVCpmW3AyTMic26GUD6ByS6ZSskTedRepU4\"\n",
      "access_secret = \"2X59xSlGHHlKaVTwmlbLDDnodDqakAuazIHmIRA0xmM0w\"\n",
      "\n",
      "auth = tweepy.OAuthHandler(consumer_key, consumer_secret)\n",
      "auth.set_access_token(access_token, access_secret)\n",
      "api = tweepy.API(auth)\n",
      "\n",
      "congressmen = []\n",
      "for person in api.list_members('cspan','members-of-congress',count=500):\n",
      "    congressmen.append(person.screen_name)"
     ],
     "language": "python",
     "metadata": {},
     "outputs": [],
     "prompt_number": 4
    },
    {
     "cell_type": "code",
     "collapsed": false,
     "input": [
      "tweet_cursor = congress.find({},{'user','text'})\n",
      "tweets = [t['text'] for t in tweet_cursor if t['user'] in congressmen]\n",
      "vectorizer = TfidfVectorizer(stop_words=\"english\", ngram_range=(1,2),max_features=2500)\n",
      "tweet_vectors = vectorizer.fit_transform(tweets[:5000])\n",
      "tweet_features = vectorizer.get_feature_names()"
     ],
     "language": "python",
     "metadata": {},
     "outputs": [],
     "prompt_number": 5
    },
    {
     "cell_type": "heading",
     "level": 1,
     "metadata": {},
     "source": [
      "Challenge 1 - Agglomerative"
     ]
    },
    {
     "cell_type": "code",
     "collapsed": false,
     "input": [
      "clust_num = 4\n",
      "agg_clustering = cluster.AgglomerativeClustering(n_clusters=clust_num, affinity='cosine',linkage='average')\n",
      "agg_predict = agg_clustering.fit_predict(tweet_vectors.toarray())"
     ],
     "language": "python",
     "metadata": {},
     "outputs": [],
     "prompt_number": 6
    },
    {
     "cell_type": "code",
     "collapsed": false,
     "input": [
      "clusters = {}\n",
      "for n in range(clust_num):\n",
      "    l = []\n",
      "    for i in range(len(agg_predict)):\n",
      "        if agg_predict[i] == n:\n",
      "            top = tweets[i]\n",
      "#             t = tweet_vectors[i]\n",
      "#             top = [tweet_features[x] for x in t.indices[t.data.argsort()][::-1]] \n",
      "            l.append(top)\n",
      "    clusters[n] = l\n",
      "        "
     ],
     "language": "python",
     "metadata": {},
     "outputs": [],
     "prompt_number": 23
    },
    {
     "cell_type": "code",
     "collapsed": false,
     "input": [],
     "language": "python",
     "metadata": {},
     "outputs": [],
     "prompt_number": 57
    },
    {
     "cell_type": "code",
     "collapsed": false,
     "input": [
      "for n in range(clust_num):\n",
      "    print 'Cluster '+str(n)\n",
      "    for twt in clusters[n][:7]:\n",
      "        print twt\n",
      "        print\n",
      "    print\n",
      "    print"
     ],
     "language": "python",
     "metadata": {},
     "outputs": [
      {
       "output_type": "stream",
       "stream": "stdout",
       "text": [
        "Cluster 0\n",
        "Fairer phone rates will make it easier for prisoners to stay in touch with their families, which is key to reducing recidivism\n",
        "\n",
        "Take a look at My Week In Pictures http://t.co/v50u87ZJXL\n",
        "\n",
        "L.A.-bound Obama sticking to fundraising\u2026 http://t.co/8YWNj5349o\n",
        "\n",
        "Help break the logjam. RT to urge Senate Dems to act on dozens of House-passed #jobs bills\n",
        "\n",
        "A win for #transparency -&gt; @DaytonDailyNews: Delphi retirees cheer federal ruling http://t.co/trdsCHWU4z\n",
        "\n",
        "WH on ObamaCare ruling: Letter of the Law Doesn\u2019t Matter http://t.co/vN4FhsuBEe via @NRO\n",
        "\n",
        "Pres. Obama\u2019s lack of leadership is jeopardizing our ability to deal w/ the border crisis http://t.co/xDplB9hzYg\n",
        "\n",
        "\n",
        "\n",
        "Cluster 1\n",
        "The Port of Savannah Harbor Expansion Project will preserve, protect, and promote job opportunities in Georgia http://t.co/7sehAu7ILo\n",
        "\n",
        "Excited to see the Port of Savannah Harbor Expansion Project bring opportunity and economic vitality to our state http://t.co/7sehAu7ILo\n",
        "\n",
        "EPA's Susan Hedman,@geofbenson @DunesLearning &amp; NPS Superintendent Labovitz promoting #CleanWater on Little Cal River http://t.co/Q35YEBFY5Q\n",
        "\n",
        "Army Corps will dedicate $1 million to dredging Black River at city of Port Huron http://t.co/Djn0y30iBM\n",
        "\n",
        "FDA just told me they would find solution so farmers can keep using spent grain from beer brewers.  https://t.co/zYTYJx558p #mepolitics\n",
        "\n",
        "What?\n",
        "\n",
        "Look forward to discussing Harbor deepening tomorrow in Charleston. #CHS52 #CHSNEWS\n",
        "\n",
        "\n",
        "\n",
        "Cluster 2\n",
        "@haroldpollack what have I misstated?\n",
        "\n",
        "@SOMAMadman no cursing - goodbye\n",
        "\n",
        "@okobojidan ?\n",
        "\n",
        "All the bad actors in the world are taking advantage of a weak American president. #ISIL #ISIS #Putin #Russia #Iran\n",
        "\n",
        "#EqualPay #IgualdadSalarial #EqualPay #IgualdadSalarial #EqualPay #IgualdadSalarial #EqualPay #IgualdadSalarial #EqualPay #IgualdadSalarial\n",
        "\n",
        "Eid Mubarak!\n",
        "\n",
        "@nomoremister, cynicism is so lame.\n",
        "\n",
        "\n",
        "\n",
        "Cluster 3\n",
        "Great to join Fr. Geoff and Fr. John yesterday at St. Max's 25th anniversary event. #OH08 http://t.co/cEcS4OTABV\n",
        "\n",
        "It was a hard fought, enjoyable game MT Sen @JohnBoozman staff beats @SenMarkPryor staff in annual softball game  http://t.co/SlwhBm8fot\n",
        "\n",
        "\u201c@GaryParrishCBS: This is the best baseball game in the history of baseball.\u201d This game is better than the game u touted as best innings ago\n",
        "\n",
        "At the Eagles-Giants game with my boys. Loving this game! Nice to finally see some defense.\n",
        "\n",
        "@PubliusTX yes of course I do. Always have.\n",
        "\n",
        "@coffeepartyusa of course I understand your logic - no photo IDs for anything right?\n",
        "\n",
        "The stadium may lack for fans but it doesn't lack for Lehtinens! Mi familia is cheering on our @univmiami #Canes! http://t.co/CJLx61MwQG\n",
        "\n",
        "\n",
        "\n"
       ]
      }
     ],
     "prompt_number": 27
    },
    {
     "cell_type": "heading",
     "level": 1,
     "metadata": {},
     "source": [
      "Challenge 4 - Agglomerative"
     ]
    },
    {
     "cell_type": "code",
     "collapsed": false,
     "input": [
      "cluster_full_text = {}\n",
      "for n in range(8):\n",
      "    s = ''\n",
      "    for i in range(len(agg_predict)):\n",
      "        if agg_predict[i] == n:\n",
      "            s = s + ' ' + tweets[i]\n",
      "    cluster_full_text[n] = s"
     ],
     "language": "python",
     "metadata": {},
     "outputs": [],
     "prompt_number": 28
    },
    {
     "cell_type": "code",
     "collapsed": false,
     "input": [
      "cluster_full = [cluster_full_text[i] for i in range(4)]"
     ],
     "language": "python",
     "metadata": {},
     "outputs": [],
     "prompt_number": 32
    },
    {
     "cell_type": "code",
     "collapsed": false,
     "input": [
      "cluster_vectorizer = TfidfVectorizer(stop_words=\"english\", ngram_range=(1,1),max_features=2500)\n",
      "cluster_vectors = cluster_vectorizer.fit_transform(cluster_full)\n",
      "cluster_features = cluster_vectorizer.get_feature_names()"
     ],
     "language": "python",
     "metadata": {},
     "outputs": [],
     "prompt_number": 33
    },
    {
     "cell_type": "code",
     "collapsed": false,
     "input": [
      "for cluster in cluster_vectors:\n",
      "    top = [cluster_features[x] for x in cluster.indices[cluster.data.argsort()][:-8:-1]]\n",
      "    print top"
     ],
     "language": "python",
     "metadata": {},
     "outputs": [
      {
       "output_type": "stream",
       "stream": "stdout",
       "text": [
        "[u'http', u'rt', u'amp', u'today', u'house', u'obamacare', u'great']\n",
        "[u'charleston', u'port', u'bonnie', u'van', u'chsnews', u'harbor', u'http']\n",
        "[u'igualdadsalarial', u'equalpay', u'tragedy', u'gain', u'died', u'weak', u'russia']\n",
        "[u'uni', u'ovr', u'game', u'http', u'25', u'iowast', u'set']\n"
       ]
      }
     ],
     "prompt_number": 35
    },
    {
     "cell_type": "heading",
     "level": 1,
     "metadata": {},
     "source": [
      "Challenge 5 Agglomerative"
     ]
    },
    {
     "cell_type": "code",
     "collapsed": false,
     "input": [
      "for cluster in cluster_vectors:\n",
      "    all_nn = [cluster_features[x] for x in cluster.indices[cluster.data.argsort()][::-1] if TextBlob(cluster_features[x]).tags[0][1] == 'NN']\n",
      "    top_nn = [x for x in all_nn[:6]]\n",
      "    print top_nn\n",
      "    print"
     ],
     "language": "python",
     "metadata": {},
     "outputs": [
      {
       "output_type": "stream",
       "stream": "stdout",
       "text": [
        "[u'http', u'rt', u'amp', u'today', u'house', u'obamacare']\n",
        "\n",
        "[u'charleston', u'port', u'bonnie', u'harbor', u'http', u'savannah']\n",
        "\n",
        "[u'equalpay', u'tragedy', u'gain', u'russia', u'iran', u'putin']\n",
        "\n",
        "[u'uni', u'ovr', u'game', u'http', u'iowast', u'univmiami']"
       ]
      },
      {
       "output_type": "stream",
       "stream": "stdout",
       "text": [
        "\n",
        "\n"
       ]
      }
     ],
     "prompt_number": 36
    },
    {
     "cell_type": "heading",
     "level": 1,
     "metadata": {},
     "source": [
      "Challenge 8 Allogmerative"
     ]
    },
    {
     "cell_type": "code",
     "collapsed": false,
     "input": [
      "import csv\n",
      "from sklearn import preprocessing\n",
      "headings = []\n",
      "customers = []\n",
      "with open('Wholesale customers data.csv', 'rb') as csvfile:\n",
      "     c = csv.reader(csvfile, delimiter=' ', quotechar='|')\n",
      "     for row in c:\n",
      "        customers.append(row)\n",
      "headings = customers.pop(0)\n",
      "headings = headings[0].split(',')"
     ],
     "language": "python",
     "metadata": {},
     "outputs": [],
     "prompt_number": 39
    },
    {
     "cell_type": "code",
     "collapsed": false,
     "input": [
      "def process(lst):\n",
      "    return [float(x) for x in lst[0].split(',')]"
     ],
     "language": "python",
     "metadata": {},
     "outputs": [],
     "prompt_number": 40
    },
    {
     "cell_type": "code",
     "collapsed": false,
     "input": [
      "customers = map(process,customers)"
     ],
     "language": "python",
     "metadata": {},
     "outputs": [],
     "prompt_number": 41
    },
    {
     "cell_type": "code",
     "collapsed": false,
     "input": [
      "customers_scaled = preprocessing.scale(customers)"
     ],
     "language": "python",
     "metadata": {},
     "outputs": [],
     "prompt_number": 42
    },
    {
     "cell_type": "code",
     "collapsed": false,
     "input": [
      "clust_num = 3\n",
      "customer_agg= cluster.AgglomerativeClustering(n_clusters=clust_num)\n",
      "customer_predict = customer_agg.fit_predict(customers_scaled)"
     ],
     "language": "python",
     "metadata": {},
     "outputs": [],
     "prompt_number": 51
    },
    {
     "cell_type": "code",
     "collapsed": false,
     "input": [
      "customer_clusters = {}\n",
      "for n in range(clust_num):\n",
      "    l = []\n",
      "    for i in range(len(customer_predict)):\n",
      "        if customer_predict[i] == n:\n",
      "            l.append(customers_scaled[i])\n",
      "    customer_clusters[n] = l\n",
      "    "
     ],
     "language": "python",
     "metadata": {},
     "outputs": [],
     "prompt_number": 52
    },
    {
     "cell_type": "code",
     "collapsed": false,
     "input": [
      "import matplotlib.pyplot as plt\n",
      "import seaborn as sns\n",
      "%matplotlib inline\n",
      "counter = 0\n",
      "plt.figure(figsize=[20,20])\n",
      "for n in range(clust_num):\n",
      "    for i in range(len(headings)):\n",
      "        array = [x[i] for x in customer_clusters[n]]\n",
      "        plt.subplot(clust_num, len(headings), counter)\n",
      "        bins = [-2,-1.5,-1,-.5,0,.5,1,1.5,2]\n",
      "        plt.hist(array, bins)\n",
      "        plt.title(headings[i])\n",
      "        counter+=1"
     ],
     "language": "python",
     "metadata": {},
     "outputs": [
      {
       "metadata": {},
       "output_type": "display_data",
       "png": "[encoded data removed]",
       "text": [
        "<matplotlib.figure.Figure at 0x10f741810>"
       ]
      }
     ],
     "prompt_number": 53
    },
    {
     "cell_type": "code",
     "collapsed": false,
     "input": [],
     "language": "python",
     "metadata": {},
     "outputs": []
    }
   ],
   "metadata": {}
  }
 ]
}